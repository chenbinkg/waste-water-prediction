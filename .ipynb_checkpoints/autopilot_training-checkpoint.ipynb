{
 "cells": [
  {
   "attachments": {},
   "cell_type": "markdown",
   "metadata": {},
   "source": [
    "# Water Demand Prediction with Amazon SageMaker Autopilot\n"
   ]
  },
  {
   "attachments": {},
   "cell_type": "markdown",
   "metadata": {},
   "source": [
    "---\n",
    "\n",
    "This notebook's CI test result for ap-southeast-2 is as follows. CI test results in other regions can be found at the end of the notebook. \n",
    "\n",
    "![This us-west-2 badge failed to load. Check your device's internet connectivity, otherwise the service is currently unavailable](https://prod.us-west-2.tcx-beacon.docs.aws.dev/sagemaker-nb/us-west-2/autopilot|autopilot_california_housing.ipynb)\n",
    "\n",
    "---"
   ]
  },
  {
   "attachments": {},
   "cell_type": "markdown",
   "metadata": {},
   "source": [
    "_**Using Autopilot to Predict House Prices in California**_\n",
    "\n",
    "\n",
    "Kernel `Python 3 (Data Science)` works well with this notebook. You will have the best experience running this within SageMaker Studio.\n",
    "\n",
    "---\n",
    "\n",
    "## Contents\n",
    "\n",
    "1. [Introduction](#Introduction)\n",
    "1. [Setup](#Setup)\n",
    "1. [Prepare Training Data](#Data)\n",
    "1. [Train](#Settingup)\n",
    "1. [Autopilot Results](#Results)\n",
    "1. [Evaluate Using Test Data](#Evaluate)\n",
    "1. [Cleanup](#Cleanup)\n",
    "\n",
    "\n",
    "---\n",
    "\n",
    "## Introduction\n",
    "\n",
    "Amazon SageMaker Autopilot is an automated machine learning (commonly referred to as AutoML) solution for tabular datasets. You can use SageMaker Autopilot in different ways: on autopilot (without any human input) or with human guidance, without code through SageMaker Studio or scripted using the AWS SDKs. This notebook will use the AWS SDKs to simply create and deploy a machine learning model without doing any feature engineering manually. We will also explore the auto-generated feature importance report.\n",
    "\n",
    "Demand modelling is done per location. Features for demand forecasting:\n",
    "\n",
    "* ```doy```\n",
    "* ```month```\n",
    "* ```mday```\n",
    "* ```wday```\n",
    "* ```API```\n",
    "* ```Temperature```\n",
    "* ```Rainfall```\n",
    "* ```Rain_L48HR```\n",
    "* ```Rain_L24HR```\n",
    "* ```Rain_L12HR```\n",
    "* ```Rain_L6HR```\n",
    "* ```Rain_L3HR```\n",
    "* ```Rainlag1```\n",
    "* ```Rainlag2```\n",
    "* ```sin_hour```\n",
    "* ```cos_hour```\n",
    "* ```Soil Moisture```\n",
    "* ```PCD site name (Upper Hutt, Stokes Valley, Lower Hutt)```(target)\n",
    "* ```site name (Upper Hutt, Silver Stream)```(target)\n",
    "What we're going to try to predict is the site water demand for a wellington region. We will let Autopilot perform feature engineering, model selection, model tuning, and give us the best candidate model ready to use for inferences.\n",
    "\n",
    "---\n",
    "## Setup\n",
    "\n",
    "_This notebook was created and tested on a ml.m5.large notebook instance._\n",
    "\n",
    "Let's start by specifying:\n",
    "\n",
    "- The S3 bucket and prefix to use for training and model data.  This should be within the same region as the Notebook Instance, training, and hosting. The following code will use SageMaker's default S3 bucket (and create one if it doesn't exist).\n",
    "- The IAM role ARN used to give training and hosting access to your data. See the documentation for how to create these. The following code will use the SageMaker execution role."
   ]
  },
  {
   "cell_type": "code",
   "execution_count": 1,
   "metadata": {
    "isConfigCell": true,
    "tags": [
     "parameters"
    ]
   },
   "outputs": [
    {
     "name": "stderr",
     "output_type": "stream",
     "text": [
      "/opt/conda/lib/python3.11/site-packages/pydantic/_internal/_fields.py:198: UserWarning: Field name \"json\" in \"MonitoringDatasetFormat\" shadows an attribute in parent \"Base\"\n",
      "  warnings.warn(\n"
     ]
    },
    {
     "name": "stdout",
     "output_type": "stream",
     "text": [
      "sagemaker.config INFO - Not applying SDK defaults from location: /etc/xdg/sagemaker/config.yaml\n",
      "sagemaker.config INFO - Not applying SDK defaults from location: /home/sagemaker-user/.config/sagemaker/config.yaml\n"
     ]
    }
   ],
   "source": [
    "import sagemaker\n",
    "import boto3\n",
    "from sagemaker import get_execution_role\n",
    "\n",
    "region = boto3.Session().region_name\n",
    "\n",
    "session = sagemaker.Session()\n",
    "\n",
    "# You can modify the following to use a bucket of your choosing\n",
    "bucket = session.default_bucket()\n",
    "prefix = \"sagemaker/autopilot-water-demand-prediction\"\n",
    "\n",
    "role = get_execution_role()\n",
    "\n",
    "# This is the client we will use to interact with SageMaker Autopilot\n",
    "sm = boto3.Session().client(service_name=\"sagemaker\", region_name=region)"
   ]
  },
  {
   "attachments": {},
   "cell_type": "markdown",
   "metadata": {},
   "source": [
    "Next, we'll import the Python libraries we'll need for the remainder of the exercise."
   ]
  },
  {
   "cell_type": "code",
   "execution_count": 2,
   "metadata": {},
   "outputs": [],
   "source": [
    "import pandas as pd\n",
    "import numpy as np\n",
    "import matplotlib.pyplot as plt\n",
    "import io\n",
    "from urllib.parse import urlparse\n",
    "import time"
   ]
  },
  {
   "attachments": {},
   "cell_type": "markdown",
   "metadata": {},
   "source": [
    "---\n",
    "## Prepare Training Data<a name=\"Data\"></a>\n",
    "\n",
    "We will use available training data stored in S3, date range is from 2006-01-01 to 2024-08-31. Training data prep procedure is the same as the inference data."
   ]
  },
  {
   "cell_type": "code",
   "execution_count": 3,
   "metadata": {
    "collapsed": true,
    "jupyter": {
     "outputs_hidden": true
    }
   },
   "outputs": [
    {
     "name": "stderr",
     "output_type": "stream",
     "text": [
      "/tmp/ipykernel_455/2174955114.py:20: DtypeWarning: Columns (19) have mixed types. Specify dtype option on import or set low_memory=False.\n",
      "  df = pd.read_csv(StringIO(data))\n",
      "/tmp/ipykernel_455/2174955114.py:20: DtypeWarning: Columns (19) have mixed types. Specify dtype option on import or set low_memory=False.\n",
      "  df = pd.read_csv(StringIO(data))\n",
      "/tmp/ipykernel_455/2174955114.py:20: DtypeWarning: Columns (19) have mixed types. Specify dtype option on import or set low_memory=False.\n",
      "  df = pd.read_csv(StringIO(data))\n",
      "/tmp/ipykernel_455/2174955114.py:20: DtypeWarning: Columns (19) have mixed types. Specify dtype option on import or set low_memory=False.\n",
      "  df = pd.read_csv(StringIO(data))\n",
      "/tmp/ipykernel_455/2174955114.py:20: DtypeWarning: Columns (19) have mixed types. Specify dtype option on import or set low_memory=False.\n",
      "  df = pd.read_csv(StringIO(data))\n",
      "/tmp/ipykernel_455/2174955114.py:20: DtypeWarning: Columns (19) have mixed types. Specify dtype option on import or set low_memory=False.\n",
      "  df = pd.read_csv(StringIO(data))\n",
      "/tmp/ipykernel_455/2174955114.py:20: DtypeWarning: Columns (19) have mixed types. Specify dtype option on import or set low_memory=False.\n",
      "  df = pd.read_csv(StringIO(data))\n",
      "/tmp/ipykernel_455/2174955114.py:20: DtypeWarning: Columns (19) have mixed types. Specify dtype option on import or set low_memory=False.\n",
      "  df = pd.read_csv(StringIO(data))\n",
      "/tmp/ipykernel_455/2174955114.py:20: DtypeWarning: Columns (19) have mixed types. Specify dtype option on import or set low_memory=False.\n",
      "  df = pd.read_csv(StringIO(data))\n",
      "/tmp/ipykernel_455/2174955114.py:20: DtypeWarning: Columns (19) have mixed types. Specify dtype option on import or set low_memory=False.\n",
      "  df = pd.read_csv(StringIO(data))\n",
      "/tmp/ipykernel_455/2174955114.py:20: DtypeWarning: Columns (19) have mixed types. Specify dtype option on import or set low_memory=False.\n",
      "  df = pd.read_csv(StringIO(data))\n",
      "/tmp/ipykernel_455/2174955114.py:20: DtypeWarning: Columns (19) have mixed types. Specify dtype option on import or set low_memory=False.\n",
      "  df = pd.read_csv(StringIO(data))\n",
      "/tmp/ipykernel_455/2174955114.py:20: DtypeWarning: Columns (19) have mixed types. Specify dtype option on import or set low_memory=False.\n",
      "  df = pd.read_csv(StringIO(data))\n",
      "/tmp/ipykernel_455/2174955114.py:20: DtypeWarning: Columns (19) have mixed types. Specify dtype option on import or set low_memory=False.\n",
      "  df = pd.read_csv(StringIO(data))\n",
      "/tmp/ipykernel_455/2174955114.py:20: DtypeWarning: Columns (19) have mixed types. Specify dtype option on import or set low_memory=False.\n",
      "  df = pd.read_csv(StringIO(data))\n"
     ]
    }
   ],
   "source": [
    "from io import StringIO\n",
    "\n",
    "s3 = boto3.client(\"s3\")\n",
    "\n",
    "def list_csv_files(bucket_name, key_path):\n",
    "    # List objects within the specified bucket and prefix\n",
    "    response = s3.list_objects_v2(Bucket=bucket_name, Prefix=key_path)\n",
    "    # Filter out the CSV files\n",
    "    csv_files = [content['Key'] for content in response.get('Contents', []) if content['Key'].endswith('.csv')]\n",
    "    return csv_files\n",
    "\n",
    "def read_csv_files_to_dataframes(bucket_name, csv_files):\n",
    "    dataframes = []\n",
    "    for key in csv_files:\n",
    "        # Get the object from S3\n",
    "        obj = s3.get_object(Bucket=bucket_name, Key=key)\n",
    "        # Read the CSV file content\n",
    "        data = obj['Body'].read().decode('utf-8')\n",
    "        # Convert to DataFrame\n",
    "        df = pd.read_csv(StringIO(data))\n",
    "        dataframes.append(df)\n",
    "    return dataframes\n",
    "\n",
    "# Example usage\n",
    "bucket_name = 'niwa-water-demand-modelling'\n",
    "key_path = 'WWL/'\n",
    "csv_files = list_csv_files(bucket_name, key_path)\n",
    "csv_files = [e for e in csv_files if \"wet_weather\" in e]\n",
    "df_list = read_csv_files_to_dataframes(bucket_name, csv_files)"
   ]
  },
  {
   "cell_type": "code",
   "execution_count": 7,
   "metadata": {},
   "outputs": [
    {
     "data": {
      "text/plain": [
       "['WWL/PCD_Lower_Hutt_wet_weather_flow_ABI_birch_lane.csv',\n",
       " 'WWL/PCD_Lower_Hutt_wet_weather_flow_ABJ_birch_lane.csv',\n",
       " 'WWL/PCD_Lower_Hutt_wet_weather_flow_ABK_birch_lane.csv',\n",
       " 'WWL/PCD_Lower_Hutt_wet_weather_flow_ABL_birch_lane.csv',\n",
       " 'WWL/PCD_Lower_Hutt_wet_weather_flow_birch_lane.csv',\n",
       " 'WWL/PCD_Stokes_Valley_wet_weather_flow_ABI_birch_lane.csv',\n",
       " 'WWL/PCD_Stokes_Valley_wet_weather_flow_ABJ_birch_lane.csv',\n",
       " 'WWL/PCD_Stokes_Valley_wet_weather_flow_ABK_birch_lane.csv',\n",
       " 'WWL/PCD_Stokes_Valley_wet_weather_flow_ABL_birch_lane.csv',\n",
       " 'WWL/PCD_Stokes_Valley_wet_weather_flow_birch_lane.csv',\n",
       " 'WWL/PCD_Upper_Hutt_wet_weather_flow_ABI_pine_haven.csv',\n",
       " 'WWL/PCD_Upper_Hutt_wet_weather_flow_ABJ_pine_haven.csv',\n",
       " 'WWL/PCD_Upper_Hutt_wet_weather_flow_ABK_pine_haven.csv',\n",
       " 'WWL/PCD_Upper_Hutt_wet_weather_flow_ABL_pine_haven.csv',\n",
       " 'WWL/PCD_Upper_Hutt_wet_weather_flow_pine_haven.csv']"
      ]
     },
     "execution_count": 7,
     "metadata": {},
     "output_type": "execute_result"
    }
   ],
   "source": [
    "csv_files"
   ]
  },
  {
   "cell_type": "code",
   "execution_count": 5,
   "metadata": {},
   "outputs": [
    {
     "data": {
      "text/html": [
       "<div>\n",
       "<style scoped>\n",
       "    .dataframe tbody tr th:only-of-type {\n",
       "        vertical-align: middle;\n",
       "    }\n",
       "\n",
       "    .dataframe tbody tr th {\n",
       "        vertical-align: top;\n",
       "    }\n",
       "\n",
       "    .dataframe thead th {\n",
       "        text-align: right;\n",
       "    }\n",
       "</style>\n",
       "<table border=\"1\" class=\"dataframe\">\n",
       "  <thead>\n",
       "    <tr style=\"text-align: right;\">\n",
       "      <th></th>\n",
       "      <th>Time</th>\n",
       "      <th>PCD Lower Hutt wet weather flow ABI</th>\n",
       "      <th>Rainfall</th>\n",
       "      <th>hour</th>\n",
       "      <th>wday</th>\n",
       "      <th>month</th>\n",
       "      <th>mday</th>\n",
       "      <th>doy</th>\n",
       "      <th>Rainlag1</th>\n",
       "      <th>Rainlag2</th>\n",
       "      <th>Rain_L3HR</th>\n",
       "      <th>Rain_L6HR</th>\n",
       "      <th>Rain_L12HR</th>\n",
       "      <th>Rain_L24HR</th>\n",
       "      <th>Rain_L48HR</th>\n",
       "      <th>sin_hour</th>\n",
       "      <th>cos_hour</th>\n",
       "      <th>API</th>\n",
       "      <th>SoilMoisture</th>\n",
       "      <th>Dry bulb degC</th>\n",
       "    </tr>\n",
       "  </thead>\n",
       "  <tbody>\n",
       "    <tr>\n",
       "      <th>0</th>\n",
       "      <td>2008-01-01 00:00:00</td>\n",
       "      <td>0.010872</td>\n",
       "      <td>0.0</td>\n",
       "      <td>0</td>\n",
       "      <td>1</td>\n",
       "      <td>1</td>\n",
       "      <td>31</td>\n",
       "      <td>1</td>\n",
       "      <td>0.0</td>\n",
       "      <td>0.0</td>\n",
       "      <td>0.0</td>\n",
       "      <td>0.0</td>\n",
       "      <td>0.0</td>\n",
       "      <td>0.0</td>\n",
       "      <td>0.0</td>\n",
       "      <td>0.000000</td>\n",
       "      <td>1.000000</td>\n",
       "      <td>0.0</td>\n",
       "      <td>0.0</td>\n",
       "      <td>9.2</td>\n",
       "    </tr>\n",
       "    <tr>\n",
       "      <th>1</th>\n",
       "      <td>2008-01-01 01:00:00</td>\n",
       "      <td>0.016061</td>\n",
       "      <td>0.0</td>\n",
       "      <td>1</td>\n",
       "      <td>1</td>\n",
       "      <td>1</td>\n",
       "      <td>31</td>\n",
       "      <td>1</td>\n",
       "      <td>0.0</td>\n",
       "      <td>0.0</td>\n",
       "      <td>0.0</td>\n",
       "      <td>0.0</td>\n",
       "      <td>0.0</td>\n",
       "      <td>0.0</td>\n",
       "      <td>0.0</td>\n",
       "      <td>0.258819</td>\n",
       "      <td>0.965926</td>\n",
       "      <td>0.0</td>\n",
       "      <td>0.0</td>\n",
       "      <td>7.3</td>\n",
       "    </tr>\n",
       "    <tr>\n",
       "      <th>2</th>\n",
       "      <td>2008-01-01 02:00:00</td>\n",
       "      <td>0.014719</td>\n",
       "      <td>0.0</td>\n",
       "      <td>2</td>\n",
       "      <td>1</td>\n",
       "      <td>1</td>\n",
       "      <td>31</td>\n",
       "      <td>1</td>\n",
       "      <td>0.0</td>\n",
       "      <td>0.0</td>\n",
       "      <td>0.0</td>\n",
       "      <td>0.0</td>\n",
       "      <td>0.0</td>\n",
       "      <td>0.0</td>\n",
       "      <td>0.0</td>\n",
       "      <td>0.500000</td>\n",
       "      <td>0.866025</td>\n",
       "      <td>0.0</td>\n",
       "      <td>0.0</td>\n",
       "      <td>6.4</td>\n",
       "    </tr>\n",
       "    <tr>\n",
       "      <th>3</th>\n",
       "      <td>2008-01-01 03:00:00</td>\n",
       "      <td>0.014299</td>\n",
       "      <td>0.0</td>\n",
       "      <td>3</td>\n",
       "      <td>1</td>\n",
       "      <td>1</td>\n",
       "      <td>31</td>\n",
       "      <td>1</td>\n",
       "      <td>0.0</td>\n",
       "      <td>0.0</td>\n",
       "      <td>0.0</td>\n",
       "      <td>0.0</td>\n",
       "      <td>0.0</td>\n",
       "      <td>0.0</td>\n",
       "      <td>0.0</td>\n",
       "      <td>0.707107</td>\n",
       "      <td>0.707107</td>\n",
       "      <td>0.0</td>\n",
       "      <td>0.0</td>\n",
       "      <td>6.1</td>\n",
       "    </tr>\n",
       "    <tr>\n",
       "      <th>4</th>\n",
       "      <td>2008-01-01 04:00:00</td>\n",
       "      <td>0.012392</td>\n",
       "      <td>0.0</td>\n",
       "      <td>4</td>\n",
       "      <td>1</td>\n",
       "      <td>1</td>\n",
       "      <td>31</td>\n",
       "      <td>1</td>\n",
       "      <td>0.0</td>\n",
       "      <td>0.0</td>\n",
       "      <td>0.0</td>\n",
       "      <td>0.0</td>\n",
       "      <td>0.0</td>\n",
       "      <td>0.0</td>\n",
       "      <td>0.0</td>\n",
       "      <td>0.866025</td>\n",
       "      <td>0.500000</td>\n",
       "      <td>0.0</td>\n",
       "      <td>0.0</td>\n",
       "      <td>5.4</td>\n",
       "    </tr>\n",
       "  </tbody>\n",
       "</table>\n",
       "</div>"
      ],
      "text/plain": [
       "                  Time  PCD Lower Hutt wet weather flow ABI  Rainfall  hour  \\\n",
       "0  2008-01-01 00:00:00                             0.010872       0.0     0   \n",
       "1  2008-01-01 01:00:00                             0.016061       0.0     1   \n",
       "2  2008-01-01 02:00:00                             0.014719       0.0     2   \n",
       "3  2008-01-01 03:00:00                             0.014299       0.0     3   \n",
       "4  2008-01-01 04:00:00                             0.012392       0.0     4   \n",
       "\n",
       "   wday  month  mday  doy  Rainlag1  Rainlag2  Rain_L3HR  Rain_L6HR  \\\n",
       "0     1      1    31    1       0.0       0.0        0.0        0.0   \n",
       "1     1      1    31    1       0.0       0.0        0.0        0.0   \n",
       "2     1      1    31    1       0.0       0.0        0.0        0.0   \n",
       "3     1      1    31    1       0.0       0.0        0.0        0.0   \n",
       "4     1      1    31    1       0.0       0.0        0.0        0.0   \n",
       "\n",
       "   Rain_L12HR  Rain_L24HR  Rain_L48HR  sin_hour  cos_hour  API  SoilMoisture  \\\n",
       "0         0.0         0.0         0.0  0.000000  1.000000  0.0           0.0   \n",
       "1         0.0         0.0         0.0  0.258819  0.965926  0.0           0.0   \n",
       "2         0.0         0.0         0.0  0.500000  0.866025  0.0           0.0   \n",
       "3         0.0         0.0         0.0  0.707107  0.707107  0.0           0.0   \n",
       "4         0.0         0.0         0.0  0.866025  0.500000  0.0           0.0   \n",
       "\n",
       "  Dry bulb degC  \n",
       "0           9.2  \n",
       "1           7.3  \n",
       "2           6.4  \n",
       "3           6.1  \n",
       "4           5.4  "
      ]
     },
     "execution_count": 5,
     "metadata": {},
     "output_type": "execute_result"
    }
   ],
   "source": [
    "df_list[0].head()"
   ]
  },
  {
   "cell_type": "markdown",
   "metadata": {},
   "source": [
    "# Loop Through all files and create training job"
   ]
  },
  {
   "cell_type": "code",
   "execution_count": 9,
   "metadata": {},
   "outputs": [
    {
     "data": {
      "text/plain": [
       "['WWL/PCD_Upper_Hutt_wet_weather_flow_pine_haven.csv']"
      ]
     },
     "execution_count": 9,
     "metadata": {},
     "output_type": "execute_result"
    }
   ],
   "source": [
    "csv_files[-1:]"
   ]
  },
  {
   "cell_type": "code",
   "execution_count": 10,
   "metadata": {
    "collapsed": true,
    "jupyter": {
     "outputs_hidden": true
    }
   },
   "outputs": [
    {
     "name": "stdout",
     "output_type": "stream",
     "text": [
      "\n",
      "PCD Upper Hutt wet weather flow\n",
      "AutoMLJobName: automl-PCDUpperHuttCUR\n",
      "Original df shape: (87600, 20)\n",
      "X_train shape: (70080, 16)\n",
      "X_test shape: (17520, 16)\n",
      "y_train shape: (70080,)\n",
      "y_test shape: (17520,)\n",
      "train_data shape: (70080, 17)\n",
      "test_data shape: (17520, 17)\n",
      "test_data_no_target shape: (17520, 16)\n",
      "\n",
      "First 5 original indices in training set:\n",
      "Index([59845, 38347, 11421, 65342, 80677], dtype='int64')\n",
      "\n",
      "First 5 original indices in testing set:\n",
      "Index([9983, 43268, 16408, 14408, 39951], dtype='int64')\n",
      "Train data uploaded to: s3://sagemaker-ap-southeast-2-851725470721/sagemaker/autopilot-water-demand-prediction/automl-PCDUpperHuttCUR/train/train_data.csv\n",
      "Test data uploaded to: s3://sagemaker-ap-southeast-2-851725470721/sagemaker/autopilot-water-demand-prediction/automl-PCDUpperHuttCUR/test/test_data_no_target.csv\n"
     ]
    },
    {
     "data": {
      "text/html": [
       "<pre style=\"white-space:pre;overflow-x:auto;line-height:normal;font-family:Menlo,'DejaVu Sans Mono',consolas,'Courier New',monospace\"><span style=\"color: #ff0000; text-decoration-color: #ff0000\">╭─────────────────────────────── </span><span style=\"color: #ff0000; text-decoration-color: #ff0000; font-weight: bold\">Traceback </span><span style=\"color: #ff7f7f; text-decoration-color: #ff7f7f; font-weight: bold\">(most recent call last)</span><span style=\"color: #ff0000; text-decoration-color: #ff0000\"> ────────────────────────────────╮</span>\n",
       "<span style=\"color: #ff0000; text-decoration-color: #ff0000\">│</span> in <span style=\"color: #00ff00; text-decoration-color: #00ff00\">&lt;module&gt;</span>:<span style=\"color: #0000ff; text-decoration-color: #0000ff\">79</span>                                                                                   <span style=\"color: #ff0000; text-decoration-color: #ff0000\">│</span>\n",
       "<span style=\"color: #ff0000; text-decoration-color: #ff0000\">│</span>                                                                                                  <span style=\"color: #ff0000; text-decoration-color: #ff0000\">│</span>\n",
       "<span style=\"color: #ff0000; text-decoration-color: #ff0000\">│</span>   <span style=\"color: #7f7f7f; text-decoration-color: #7f7f7f\">76 </span><span style=\"color: #7f7f7f; text-decoration-color: #7f7f7f\">│   </span>                                                                                        <span style=\"color: #ff0000; text-decoration-color: #ff0000\">│</span>\n",
       "<span style=\"color: #ff0000; text-decoration-color: #ff0000\">│</span>   <span style=\"color: #7f7f7f; text-decoration-color: #7f7f7f\">77 </span><span style=\"color: #7f7f7f; text-decoration-color: #7f7f7f\">│   </span>timestamp_suffix = strftime(<span style=\"color: #808000; text-decoration-color: #808000\">\"%Y%m%d-%H-%M\"</span>, gmtime())                                   <span style=\"color: #ff0000; text-decoration-color: #ff0000\">│</span>\n",
       "<span style=\"color: #ff0000; text-decoration-color: #ff0000\">│</span>   <span style=\"color: #7f7f7f; text-decoration-color: #7f7f7f\">78 </span><span style=\"color: #7f7f7f; text-decoration-color: #7f7f7f\">│   </span>                                                                                        <span style=\"color: #ff0000; text-decoration-color: #ff0000\">│</span>\n",
       "<span style=\"color: #ff0000; text-decoration-color: #ff0000\">│</span> <span style=\"color: #800000; text-decoration-color: #800000\">❱ </span>79 <span style=\"color: #7f7f7f; text-decoration-color: #7f7f7f\">│   </span>sm.create_auto_ml_job(                                                                  <span style=\"color: #ff0000; text-decoration-color: #ff0000\">│</span>\n",
       "<span style=\"color: #ff0000; text-decoration-color: #ff0000\">│</span>   <span style=\"color: #7f7f7f; text-decoration-color: #7f7f7f\">80 </span><span style=\"color: #7f7f7f; text-decoration-color: #7f7f7f\">│   │   </span>AutoMLJobName=auto_ml_job_name,                                                     <span style=\"color: #ff0000; text-decoration-color: #ff0000\">│</span>\n",
       "<span style=\"color: #ff0000; text-decoration-color: #ff0000\">│</span>   <span style=\"color: #7f7f7f; text-decoration-color: #7f7f7f\">81 </span><span style=\"color: #7f7f7f; text-decoration-color: #7f7f7f\">│   │   </span>InputDataConfig=input_data_config,                                                  <span style=\"color: #ff0000; text-decoration-color: #ff0000\">│</span>\n",
       "<span style=\"color: #ff0000; text-decoration-color: #ff0000\">│</span>   <span style=\"color: #7f7f7f; text-decoration-color: #7f7f7f\">82 </span><span style=\"color: #7f7f7f; text-decoration-color: #7f7f7f\">│   │   </span>OutputDataConfig=output_data_config,                                                <span style=\"color: #ff0000; text-decoration-color: #ff0000\">│</span>\n",
       "<span style=\"color: #ff0000; text-decoration-color: #ff0000\">│</span>                                                                                                  <span style=\"color: #ff0000; text-decoration-color: #ff0000\">│</span>\n",
       "<span style=\"color: #ff0000; text-decoration-color: #ff0000\">│</span> <span style=\"color: #bfbf7f; text-decoration-color: #bfbf7f\">/opt/conda/lib/python3.11/site-packages/botocore/</span><span style=\"color: #808000; text-decoration-color: #808000; font-weight: bold\">client.py</span>:<span style=\"color: #0000ff; text-decoration-color: #0000ff\">569</span> in <span style=\"color: #00ff00; text-decoration-color: #00ff00\">_api_call</span>                      <span style=\"color: #ff0000; text-decoration-color: #ff0000\">│</span>\n",
       "<span style=\"color: #ff0000; text-decoration-color: #ff0000\">│</span>                                                                                                  <span style=\"color: #ff0000; text-decoration-color: #ff0000\">│</span>\n",
       "<span style=\"color: #ff0000; text-decoration-color: #ff0000\">│</span>   <span style=\"color: #7f7f7f; text-decoration-color: #7f7f7f\"> 566 </span><span style=\"color: #7f7f7f; text-decoration-color: #7f7f7f\">│   │   │   │   │   </span><span style=\"color: #808000; text-decoration-color: #808000\">f\"{</span>py_operation_name<span style=\"color: #808000; text-decoration-color: #808000\">}() only accepts keyword arguments.\"</span>              <span style=\"color: #ff0000; text-decoration-color: #ff0000\">│</span>\n",
       "<span style=\"color: #ff0000; text-decoration-color: #ff0000\">│</span>   <span style=\"color: #7f7f7f; text-decoration-color: #7f7f7f\"> 567 </span><span style=\"color: #7f7f7f; text-decoration-color: #7f7f7f\">│   │   │   │   </span>)                                                                         <span style=\"color: #ff0000; text-decoration-color: #ff0000\">│</span>\n",
       "<span style=\"color: #ff0000; text-decoration-color: #ff0000\">│</span>   <span style=\"color: #7f7f7f; text-decoration-color: #7f7f7f\"> 568 </span><span style=\"color: #7f7f7f; text-decoration-color: #7f7f7f\">│   │   │   </span><span style=\"color: #7f7f7f; text-decoration-color: #7f7f7f\"># The \"self\" in this scope is referring to the BaseClient.</span>                    <span style=\"color: #ff0000; text-decoration-color: #ff0000\">│</span>\n",
       "<span style=\"color: #ff0000; text-decoration-color: #ff0000\">│</span> <span style=\"color: #800000; text-decoration-color: #800000\">❱ </span> 569 <span style=\"color: #7f7f7f; text-decoration-color: #7f7f7f\">│   │   │   </span><span style=\"color: #0000ff; text-decoration-color: #0000ff\">return</span> <span style=\"color: #00ffff; text-decoration-color: #00ffff; font-weight: bold; text-decoration: underline\">self</span><span style=\"font-weight: bold; text-decoration: underline\">._make_api_call(operation_name, kwargs)</span>                            <span style=\"color: #ff0000; text-decoration-color: #ff0000\">│</span>\n",
       "<span style=\"color: #ff0000; text-decoration-color: #ff0000\">│</span>   <span style=\"color: #7f7f7f; text-decoration-color: #7f7f7f\"> 570 </span><span style=\"color: #7f7f7f; text-decoration-color: #7f7f7f\">│   │   </span>                                                                                  <span style=\"color: #ff0000; text-decoration-color: #ff0000\">│</span>\n",
       "<span style=\"color: #ff0000; text-decoration-color: #ff0000\">│</span>   <span style=\"color: #7f7f7f; text-decoration-color: #7f7f7f\"> 571 </span><span style=\"color: #7f7f7f; text-decoration-color: #7f7f7f\">│   │   </span>_api_call.<span style=\"color: #ff0000; text-decoration-color: #ff0000\">__name__</span> = <span style=\"color: #00ffff; text-decoration-color: #00ffff\">str</span>(py_operation_name)                                       <span style=\"color: #ff0000; text-decoration-color: #ff0000\">│</span>\n",
       "<span style=\"color: #ff0000; text-decoration-color: #ff0000\">│</span>   <span style=\"color: #7f7f7f; text-decoration-color: #7f7f7f\"> 572 </span>                                                                                          <span style=\"color: #ff0000; text-decoration-color: #ff0000\">│</span>\n",
       "<span style=\"color: #ff0000; text-decoration-color: #ff0000\">│</span>                                                                                                  <span style=\"color: #ff0000; text-decoration-color: #ff0000\">│</span>\n",
       "<span style=\"color: #ff0000; text-decoration-color: #ff0000\">│</span> <span style=\"color: #bfbf7f; text-decoration-color: #bfbf7f\">/opt/conda/lib/python3.11/site-packages/botocore/</span><span style=\"color: #808000; text-decoration-color: #808000; font-weight: bold\">client.py</span>:<span style=\"color: #0000ff; text-decoration-color: #0000ff\">1023</span> in <span style=\"color: #00ff00; text-decoration-color: #00ff00\">_make_api_call</span>                <span style=\"color: #ff0000; text-decoration-color: #ff0000\">│</span>\n",
       "<span style=\"color: #ff0000; text-decoration-color: #ff0000\">│</span>                                                                                                  <span style=\"color: #ff0000; text-decoration-color: #ff0000\">│</span>\n",
       "<span style=\"color: #ff0000; text-decoration-color: #ff0000\">│</span>   <span style=\"color: #7f7f7f; text-decoration-color: #7f7f7f\">1020 </span><span style=\"color: #7f7f7f; text-decoration-color: #7f7f7f\">│   │   │   │   </span><span style=\"color: #808000; text-decoration-color: #808000\">\"Code\"</span>                                                                    <span style=\"color: #ff0000; text-decoration-color: #ff0000\">│</span>\n",
       "<span style=\"color: #ff0000; text-decoration-color: #ff0000\">│</span>   <span style=\"color: #7f7f7f; text-decoration-color: #7f7f7f\">1021 </span><span style=\"color: #7f7f7f; text-decoration-color: #7f7f7f\">│   │   │   </span>)                                                                             <span style=\"color: #ff0000; text-decoration-color: #ff0000\">│</span>\n",
       "<span style=\"color: #ff0000; text-decoration-color: #ff0000\">│</span>   <span style=\"color: #7f7f7f; text-decoration-color: #7f7f7f\">1022 </span><span style=\"color: #7f7f7f; text-decoration-color: #7f7f7f\">│   │   │   </span>error_class = <span style=\"color: #00ffff; text-decoration-color: #00ffff\">self</span>.exceptions.from_code(error_code)                           <span style=\"color: #ff0000; text-decoration-color: #ff0000\">│</span>\n",
       "<span style=\"color: #ff0000; text-decoration-color: #ff0000\">│</span> <span style=\"color: #800000; text-decoration-color: #800000\">❱ </span>1023 <span style=\"color: #7f7f7f; text-decoration-color: #7f7f7f\">│   │   │   </span><span style=\"color: #0000ff; text-decoration-color: #0000ff; font-weight: bold; text-decoration: underline\">raise</span><span style=\"font-weight: bold; text-decoration: underline\"> error_class(parsed_response, operation_name)</span>                            <span style=\"color: #ff0000; text-decoration-color: #ff0000\">│</span>\n",
       "<span style=\"color: #ff0000; text-decoration-color: #ff0000\">│</span>   <span style=\"color: #7f7f7f; text-decoration-color: #7f7f7f\">1024 </span><span style=\"color: #7f7f7f; text-decoration-color: #7f7f7f\">│   │   </span><span style=\"color: #0000ff; text-decoration-color: #0000ff\">else</span>:                                                                             <span style=\"color: #ff0000; text-decoration-color: #ff0000\">│</span>\n",
       "<span style=\"color: #ff0000; text-decoration-color: #ff0000\">│</span>   <span style=\"color: #7f7f7f; text-decoration-color: #7f7f7f\">1025 </span><span style=\"color: #7f7f7f; text-decoration-color: #7f7f7f\">│   │   │   </span><span style=\"color: #0000ff; text-decoration-color: #0000ff\">return</span> parsed_response                                                        <span style=\"color: #ff0000; text-decoration-color: #ff0000\">│</span>\n",
       "<span style=\"color: #ff0000; text-decoration-color: #ff0000\">│</span>   <span style=\"color: #7f7f7f; text-decoration-color: #7f7f7f\">1026 </span>                                                                                          <span style=\"color: #ff0000; text-decoration-color: #ff0000\">│</span>\n",
       "<span style=\"color: #ff0000; text-decoration-color: #ff0000\">╰──────────────────────────────────────────────────────────────────────────────────────────────────╯</span>\n",
       "<span style=\"color: #ff0000; text-decoration-color: #ff0000; font-weight: bold\">ResourceInUse: </span>An error occurred <span style=\"font-weight: bold\">(</span>ResourceInUse<span style=\"font-weight: bold\">)</span> when calling the CreateAutoMLJob operation: An AutoML job with the\n",
       "name automl-PCDUpperHuttCUR already exists. Choose a different name.\n",
       "</pre>\n"
      ],
      "text/plain": [
       "\u001b[38;2;255;0;0m╭─\u001b[0m\u001b[38;2;255;0;0m──────────────────────────────\u001b[0m\u001b[38;2;255;0;0m \u001b[0m\u001b[1;38;2;255;0;0mTraceback \u001b[0m\u001b[1;2;38;2;255;0;0m(most recent call last)\u001b[0m\u001b[38;2;255;0;0m \u001b[0m\u001b[38;2;255;0;0m───────────────────────────────\u001b[0m\u001b[38;2;255;0;0m─╮\u001b[0m\n",
       "\u001b[38;2;255;0;0m│\u001b[0m in \u001b[92m<module>\u001b[0m:\u001b[94m79\u001b[0m                                                                                   \u001b[38;2;255;0;0m│\u001b[0m\n",
       "\u001b[38;2;255;0;0m│\u001b[0m                                                                                                  \u001b[38;2;255;0;0m│\u001b[0m\n",
       "\u001b[38;2;255;0;0m│\u001b[0m   \u001b[2m76 \u001b[0m\u001b[2m│   \u001b[0m                                                                                        \u001b[38;2;255;0;0m│\u001b[0m\n",
       "\u001b[38;2;255;0;0m│\u001b[0m   \u001b[2m77 \u001b[0m\u001b[2m│   \u001b[0mtimestamp_suffix = strftime(\u001b[33m\"\u001b[0m\u001b[33m%\u001b[0m\u001b[33mY\u001b[0m\u001b[33m%\u001b[0m\u001b[33mm\u001b[0m\u001b[33m%d\u001b[0m\u001b[33m-\u001b[0m\u001b[33m%\u001b[0m\u001b[33mH-\u001b[0m\u001b[33m%\u001b[0m\u001b[33mM\u001b[0m\u001b[33m\"\u001b[0m, gmtime())                                   \u001b[38;2;255;0;0m│\u001b[0m\n",
       "\u001b[38;2;255;0;0m│\u001b[0m   \u001b[2m78 \u001b[0m\u001b[2m│   \u001b[0m                                                                                        \u001b[38;2;255;0;0m│\u001b[0m\n",
       "\u001b[38;2;255;0;0m│\u001b[0m \u001b[31m❱ \u001b[0m79 \u001b[2m│   \u001b[0msm.create_auto_ml_job(                                                                  \u001b[38;2;255;0;0m│\u001b[0m\n",
       "\u001b[38;2;255;0;0m│\u001b[0m   \u001b[2m80 \u001b[0m\u001b[2m│   │   \u001b[0mAutoMLJobName=auto_ml_job_name,                                                     \u001b[38;2;255;0;0m│\u001b[0m\n",
       "\u001b[38;2;255;0;0m│\u001b[0m   \u001b[2m81 \u001b[0m\u001b[2m│   │   \u001b[0mInputDataConfig=input_data_config,                                                  \u001b[38;2;255;0;0m│\u001b[0m\n",
       "\u001b[38;2;255;0;0m│\u001b[0m   \u001b[2m82 \u001b[0m\u001b[2m│   │   \u001b[0mOutputDataConfig=output_data_config,                                                \u001b[38;2;255;0;0m│\u001b[0m\n",
       "\u001b[38;2;255;0;0m│\u001b[0m                                                                                                  \u001b[38;2;255;0;0m│\u001b[0m\n",
       "\u001b[38;2;255;0;0m│\u001b[0m \u001b[2;33m/opt/conda/lib/python3.11/site-packages/botocore/\u001b[0m\u001b[1;33mclient.py\u001b[0m:\u001b[94m569\u001b[0m in \u001b[92m_api_call\u001b[0m                      \u001b[38;2;255;0;0m│\u001b[0m\n",
       "\u001b[38;2;255;0;0m│\u001b[0m                                                                                                  \u001b[38;2;255;0;0m│\u001b[0m\n",
       "\u001b[38;2;255;0;0m│\u001b[0m   \u001b[2m 566 \u001b[0m\u001b[2m│   │   │   │   │   \u001b[0m\u001b[33mf\u001b[0m\u001b[33m\"\u001b[0m\u001b[33m{\u001b[0mpy_operation_name\u001b[33m}\u001b[0m\u001b[33m() only accepts keyword arguments.\u001b[0m\u001b[33m\"\u001b[0m              \u001b[38;2;255;0;0m│\u001b[0m\n",
       "\u001b[38;2;255;0;0m│\u001b[0m   \u001b[2m 567 \u001b[0m\u001b[2m│   │   │   │   \u001b[0m)                                                                         \u001b[38;2;255;0;0m│\u001b[0m\n",
       "\u001b[38;2;255;0;0m│\u001b[0m   \u001b[2m 568 \u001b[0m\u001b[2m│   │   │   \u001b[0m\u001b[2m# The \"self\" in this scope is referring to the BaseClient.\u001b[0m                    \u001b[38;2;255;0;0m│\u001b[0m\n",
       "\u001b[38;2;255;0;0m│\u001b[0m \u001b[31m❱ \u001b[0m 569 \u001b[2m│   │   │   \u001b[0m\u001b[94mreturn\u001b[0m \u001b[1;4;96mself\u001b[0m\u001b[1;4m._make_api_call(operation_name, kwargs)\u001b[0m                            \u001b[38;2;255;0;0m│\u001b[0m\n",
       "\u001b[38;2;255;0;0m│\u001b[0m   \u001b[2m 570 \u001b[0m\u001b[2m│   │   \u001b[0m                                                                                  \u001b[38;2;255;0;0m│\u001b[0m\n",
       "\u001b[38;2;255;0;0m│\u001b[0m   \u001b[2m 571 \u001b[0m\u001b[2m│   │   \u001b[0m_api_call.\u001b[91m__name__\u001b[0m = \u001b[96mstr\u001b[0m(py_operation_name)                                       \u001b[38;2;255;0;0m│\u001b[0m\n",
       "\u001b[38;2;255;0;0m│\u001b[0m   \u001b[2m 572 \u001b[0m                                                                                          \u001b[38;2;255;0;0m│\u001b[0m\n",
       "\u001b[38;2;255;0;0m│\u001b[0m                                                                                                  \u001b[38;2;255;0;0m│\u001b[0m\n",
       "\u001b[38;2;255;0;0m│\u001b[0m \u001b[2;33m/opt/conda/lib/python3.11/site-packages/botocore/\u001b[0m\u001b[1;33mclient.py\u001b[0m:\u001b[94m1023\u001b[0m in \u001b[92m_make_api_call\u001b[0m                \u001b[38;2;255;0;0m│\u001b[0m\n",
       "\u001b[38;2;255;0;0m│\u001b[0m                                                                                                  \u001b[38;2;255;0;0m│\u001b[0m\n",
       "\u001b[38;2;255;0;0m│\u001b[0m   \u001b[2m1020 \u001b[0m\u001b[2m│   │   │   │   \u001b[0m\u001b[33m\"\u001b[0m\u001b[33mCode\u001b[0m\u001b[33m\"\u001b[0m                                                                    \u001b[38;2;255;0;0m│\u001b[0m\n",
       "\u001b[38;2;255;0;0m│\u001b[0m   \u001b[2m1021 \u001b[0m\u001b[2m│   │   │   \u001b[0m)                                                                             \u001b[38;2;255;0;0m│\u001b[0m\n",
       "\u001b[38;2;255;0;0m│\u001b[0m   \u001b[2m1022 \u001b[0m\u001b[2m│   │   │   \u001b[0merror_class = \u001b[96mself\u001b[0m.exceptions.from_code(error_code)                           \u001b[38;2;255;0;0m│\u001b[0m\n",
       "\u001b[38;2;255;0;0m│\u001b[0m \u001b[31m❱ \u001b[0m1023 \u001b[2m│   │   │   \u001b[0m\u001b[1;4;94mraise\u001b[0m\u001b[1;4m error_class(parsed_response, operation_name)\u001b[0m                            \u001b[38;2;255;0;0m│\u001b[0m\n",
       "\u001b[38;2;255;0;0m│\u001b[0m   \u001b[2m1024 \u001b[0m\u001b[2m│   │   \u001b[0m\u001b[94melse\u001b[0m:                                                                             \u001b[38;2;255;0;0m│\u001b[0m\n",
       "\u001b[38;2;255;0;0m│\u001b[0m   \u001b[2m1025 \u001b[0m\u001b[2m│   │   │   \u001b[0m\u001b[94mreturn\u001b[0m parsed_response                                                        \u001b[38;2;255;0;0m│\u001b[0m\n",
       "\u001b[38;2;255;0;0m│\u001b[0m   \u001b[2m1026 \u001b[0m                                                                                          \u001b[38;2;255;0;0m│\u001b[0m\n",
       "\u001b[38;2;255;0;0m╰──────────────────────────────────────────────────────────────────────────────────────────────────╯\u001b[0m\n",
       "\u001b[1;91mResourceInUse: \u001b[0mAn error occurred \u001b[1m(\u001b[0mResourceInUse\u001b[1m)\u001b[0m when calling the CreateAutoMLJob operation: An AutoML job with the\n",
       "name automl-PCDUpperHuttCUR already exists. Choose a different name.\n"
      ]
     },
     "metadata": {},
     "output_type": "display_data"
    }
   ],
   "source": [
    "import pandas as pd\n",
    "from sklearn.model_selection import train_test_split\n",
    "from time import gmtime, strftime, sleep\n",
    "\n",
    "for csv_file, df in zip(csv_files[-1:], df_list[-1:]):\n",
    "    target = [e for e in df.columns if \"wet weather\" in e][0]\n",
    "    columns = [e for e in df.columns if e not in [\"Time\", \"sin_hour\", \"cos_hour\", target]]\n",
    "    print(f\"\\n{target}\")\n",
    "    X = df[columns] # Features\n",
    "    y = df[target]                # Target variable\n",
    "\n",
    "    if not target.split(\" \")[6:]:\n",
    "        job_name = \"\".join(target.split(\" \")[0:3])+\"CUR\"\n",
    "    else:\n",
    "        job_name = \"\".join(target.split(\" \")[0:3])+target.split(\" \")[6:][0]\n",
    "    \n",
    "    auto_ml_job_name = f\"automl-{job_name}\"\n",
    "    print(\"AutoMLJobName: \" + auto_ml_job_name)\n",
    "    \n",
    "    # 2. Perform the random split\n",
    "    #    test_size=0.2 means 20% for testing, 80% for training\n",
    "    #    random_state ensures reproducibility: if you run the code multiple times with the same random_state,\n",
    "    #    you'll get the exact same split. Remove it if you want a different random split each time.\n",
    "    X_train, X_test, y_train, y_test = train_test_split(X, y, test_size=0.2, random_state=42)\n",
    "    \n",
    "    # --- Organize into desired output format ---\n",
    "    # If you still need DataFrames that combine features and target for train/test as you had before:\n",
    "    train_data = pd.concat([X_train, y_train], axis=1) # Recombines features and target for training set\n",
    "    test_data = pd.concat([X_test, y_test], axis=1)   # Recombines features and target for testing set\n",
    "    \n",
    "    # For 'test_data_no_target' (features only from test set), you already have X_test\n",
    "    test_data_no_target = X_test\n",
    "    \n",
    "    # Optional: Verify shapes\n",
    "    print(f\"Original df shape: {df.shape}\")\n",
    "    print(f\"X_train shape: {X_train.shape}\")\n",
    "    print(f\"X_test shape: {X_test.shape}\")\n",
    "    print(f\"y_train shape: {y_train.shape}\")\n",
    "    print(f\"y_test shape: {y_test.shape}\")\n",
    "    print(f\"train_data shape: {train_data.shape}\")\n",
    "    print(f\"test_data shape: {test_data.shape}\")\n",
    "    print(f\"test_data_no_target shape: {test_data_no_target.shape}\")\n",
    "    \n",
    "    # Optional: Check if indexes are shuffled\n",
    "    print(\"\\nFirst 5 original indices in training set:\")\n",
    "    print(X_train.index[:5])\n",
    "    print(\"\\nFirst 5 original indices in testing set:\")\n",
    "    print(X_test.index[:5])\n",
    "\n",
    "    ### Upload the dataset to S3\n",
    "    train_file = \"train_data.csv\"\n",
    "    train_data.to_csv(train_file, index=False, header=True)\n",
    "    train_data_s3_path = session.upload_data(path=train_file, key_prefix=prefix + f\"/{auto_ml_job_name}/train\")\n",
    "    print(\"Train data uploaded to: \" + train_data_s3_path)\n",
    "    \n",
    "    test_file = \"test_data_no_target.csv\"\n",
    "    test_data_no_target.to_csv(test_file, index=False, header=False)\n",
    "    test_data_s3_path = session.upload_data(path=test_file, key_prefix=prefix + f\"/{auto_ml_job_name}/test\")\n",
    "    print(\"Test data uploaded to: \" + test_data_s3_path)\n",
    "\n",
    "    input_data_config = [\n",
    "        {\n",
    "            \"DataSource\": {\n",
    "                \"S3DataSource\": {\n",
    "                    \"S3DataType\": \"S3Prefix\",\n",
    "                    \"S3Uri\": \"s3://{}/{}/{}/train\".format(bucket, prefix, auto_ml_job_name),\n",
    "                }\n",
    "            },\n",
    "            \"TargetAttributeName\": target,\n",
    "        }\n",
    "    ]\n",
    "    \n",
    "    job_config = {\"CompletionCriteria\": {\"MaxCandidates\": 100}}\n",
    "    \n",
    "    output_data_config = {\"S3OutputPath\": \"s3://{}/{}/{}/output\".format(bucket, prefix, auto_ml_job_name)}\n",
    "\n",
    "    timestamp_suffix = strftime(\"%Y%m%d-%H-%M\", gmtime())\n",
    "    \n",
    "    sm.create_auto_ml_job(\n",
    "        AutoMLJobName=auto_ml_job_name,\n",
    "        InputDataConfig=input_data_config,\n",
    "        OutputDataConfig=output_data_config,\n",
    "        AutoMLJobConfig=job_config,\n",
    "        # Uncomment to automatically deploy an endpoint\n",
    "        # ModelDeployConfig={\n",
    "        #'AutoGenerateEndpointName': True,\n",
    "        #'EndpointName': 'autopilot-DEMO-housing-' + timestamp_suffix\n",
    "        # },\n",
    "        RoleArn=role,\n",
    "    )\n",
    "\n"
   ]
  },
  {
   "cell_type": "code",
   "execution_count": null,
   "metadata": {},
   "outputs": [
    {
     "name": "stdout",
     "output_type": "stream",
     "text": [
      "JobStatus - Secondary Status\n",
      "------------------------------\n",
      "InProgress - AnalyzingData\n",
      "InProgress - AnalyzingData\n",
      "InProgress - AnalyzingData\n"
     ]
    }
   ],
   "source": [
    "print(\"JobStatus - Secondary Status\")\n",
    "print(\"------------------------------\")\n",
    "\n",
    "auto_ml_job_name = \"automl-PCDUpperHuttABL\"\n",
    "describe_response = sm.describe_auto_ml_job(AutoMLJobName=auto_ml_job_name)\n",
    "print(describe_response[\"AutoMLJobStatus\"] + \" - \" + describe_response[\"AutoMLJobSecondaryStatus\"])\n",
    "job_run_status = describe_response[\"AutoMLJobStatus\"]\n",
    "\n",
    "while job_run_status not in (\"Failed\", \"Completed\", \"Stopped\"):\n",
    "    describe_response = sm.describe_auto_ml_job(AutoMLJobName=auto_ml_job_name)\n",
    "    job_run_status = describe_response[\"AutoMLJobStatus\"]\n",
    "\n",
    "    print(\n",
    "        describe_response[\"AutoMLJobStatus\"] + \" - \" + describe_response[\"AutoMLJobSecondaryStatus\"]\n",
    "    )\n",
    "    sleep(60)"
   ]
  },
  {
   "cell_type": "markdown",
   "metadata": {},
   "source": [
    "# Loop through all files for testing"
   ]
  },
  {
   "cell_type": "code",
   "execution_count": null,
   "metadata": {},
   "outputs": [
    {
     "name": "stdout",
     "output_type": "stream",
     "text": [
      "\n",
      "PCD Lower Hutt wet weather flow ABI\n",
      "test_data shape: (87600, 17)\n",
      "test_data_no_target shape: (87600, 16)\n",
      "Full test data uploaded to: s3://sagemaker-ap-southeast-2-851725470721/sagemaker/autopilot-water-demand-prediction/automl-PCDUpperHuttCUR/test_full/test_data_no_target.csv\n",
      "AutoMLJobName: automl-PCDLowerHuttABI\n",
      "\n",
      "\n",
      "CandidateName: automl-PCDLowerHuttABIrHIxVQVD72-001-ca00bf4d\n",
      "FinalAutoMLJobObjectiveMetricName: validation:mse\n",
      "FinalAutoMLJobObjectiveMetricValue: 0.0\n"
     ]
    },
    {
     "data": {
      "text/html": [
       "<pre style=\"white-space:pre;overflow-x:auto;line-height:normal;font-family:Menlo,'DejaVu Sans Mono',consolas,'Courier New',monospace\"><span style=\"color: #7fbfbf; text-decoration-color: #7fbfbf\">[06/23/25 08:03:57] </span><span style=\"color: #0069ff; text-decoration-color: #0069ff; font-weight: bold\">INFO    </span> Creating model with name:                                              <a href=\"file:///opt/conda/lib/python3.11/site-packages/sagemaker/session.py\" target=\"_blank\"><span style=\"color: #7f7f7f; text-decoration-color: #7f7f7f\">session.py</span></a><span style=\"color: #7f7f7f; text-decoration-color: #7f7f7f\">:</span><a href=\"file:///opt/conda/lib/python3.11/site-packages/sagemaker/session.py#4094\" target=\"_blank\"><span style=\"color: #7f7f7f; text-decoration-color: #7f7f7f\">4094</span></a>\n",
       "<span style=\"color: #7fbfbf; text-decoration-color: #7fbfbf\">                    </span>         automl-PCDLowerHuttABIrHIxVQVD72-<span style=\"color: #008080; text-decoration-color: #008080; font-weight: bold\">001</span>-ca00bf4d-model                    <span style=\"color: #7f7f7f; text-decoration-color: #7f7f7f\">               </span>\n",
       "</pre>\n"
      ],
      "text/plain": [
       "\u001b[2;36m[06/23/25 08:03:57]\u001b[0m\u001b[2;36m \u001b[0m\u001b[1;38;2;0;105;255mINFO    \u001b[0m Creating model with name:                                              \u001b]8;id=772507;file:///opt/conda/lib/python3.11/site-packages/sagemaker/session.py\u001b\\\u001b[2msession.py\u001b[0m\u001b]8;;\u001b\\\u001b[2m:\u001b[0m\u001b]8;id=905924;file:///opt/conda/lib/python3.11/site-packages/sagemaker/session.py#4094\u001b\\\u001b[2m4094\u001b[0m\u001b]8;;\u001b\\\n",
       "\u001b[2;36m                    \u001b[0m         automl-PCDLowerHuttABIrHIxVQVD72-\u001b[1;36m001\u001b[0m-ca00bf4d-model                    \u001b[2m               \u001b[0m\n"
      ]
     },
     "metadata": {},
     "output_type": "display_data"
    },
    {
     "data": {
      "text/html": [
       "<pre style=\"white-space:pre;overflow-x:auto;line-height:normal;font-family:Menlo,'DejaVu Sans Mono',consolas,'Courier New',monospace\"><span style=\"color: #7fbfbf; text-decoration-color: #7fbfbf\">[06/23/25 08:03:58] </span><span style=\"color: #0069ff; text-decoration-color: #0069ff; font-weight: bold\">INFO    </span> Creating transform job with name:                                      <a href=\"file:///opt/conda/lib/python3.11/site-packages/sagemaker/session.py\" target=\"_blank\"><span style=\"color: #7f7f7f; text-decoration-color: #7f7f7f\">session.py</span></a><span style=\"color: #7f7f7f; text-decoration-color: #7f7f7f\">:</span><a href=\"file:///opt/conda/lib/python3.11/site-packages/sagemaker/session.py#3951\" target=\"_blank\"><span style=\"color: #7f7f7f; text-decoration-color: #7f7f7f\">3951</span></a>\n",
       "<span style=\"color: #7fbfbf; text-decoration-color: #7fbfbf\">                    </span>         automl-PCDLowerHuttABIrHIxVQVD72-<span style=\"color: #008080; text-decoration-color: #008080; font-weight: bold\">001</span>-ca-<span style=\"color: #008080; text-decoration-color: #008080; font-weight: bold\">2025</span>-06-23-08-03-58-431        <span style=\"color: #7f7f7f; text-decoration-color: #7f7f7f\">               </span>\n",
       "</pre>\n"
      ],
      "text/plain": [
       "\u001b[2;36m[06/23/25 08:03:58]\u001b[0m\u001b[2;36m \u001b[0m\u001b[1;38;2;0;105;255mINFO    \u001b[0m Creating transform job with name:                                      \u001b]8;id=194641;file:///opt/conda/lib/python3.11/site-packages/sagemaker/session.py\u001b\\\u001b[2msession.py\u001b[0m\u001b]8;;\u001b\\\u001b[2m:\u001b[0m\u001b]8;id=805932;file:///opt/conda/lib/python3.11/site-packages/sagemaker/session.py#3951\u001b\\\u001b[2m3951\u001b[0m\u001b]8;;\u001b\\\n",
       "\u001b[2;36m                    \u001b[0m         automl-PCDLowerHuttABIrHIxVQVD72-\u001b[1;36m001\u001b[0m-ca-\u001b[1;36m2025\u001b[0m-06-23-08-03-58-431        \u001b[2m               \u001b[0m\n"
      ]
     },
     "metadata": {},
     "output_type": "display_data"
    },
    {
     "name": "stdout",
     "output_type": "stream",
     "text": [
      "Starting transform job automl-PCDLowerHuttABIrHIxVQVD72-001-ca-2025-06-23-08-03-58-431\n",
      "automl-PCDLowerHuttABIrHIxVQVD72-001-ca-2025-06-23-08-03-58-431 transform job is running.\n",
      "automl-PCDLowerHuttABIrHIxVQVD72-001-ca-2025-06-23-08-03-58-431 transform job is running.\n",
      "automl-PCDLowerHuttABIrHIxVQVD72-001-ca-2025-06-23-08-03-58-431 transform job is running.\n",
      "automl-PCDLowerHuttABIrHIxVQVD72-001-ca-2025-06-23-08-03-58-431 transform job is running.\n",
      "automl-PCDLowerHuttABIrHIxVQVD72-001-ca-2025-06-23-08-03-58-431 transform job is running.\n",
      "automl-PCDLowerHuttABIrHIxVQVD72-001-ca-2025-06-23-08-03-58-431 transform job is running.\n",
      "automl-PCDLowerHuttABIrHIxVQVD72-001-ca-2025-06-23-08-03-58-431 transform job is running.\n",
      "automl-PCDLowerHuttABIrHIxVQVD72-001-ca-2025-06-23-08-03-58-431 transform job is running.\n",
      "automl-PCDLowerHuttABIrHIxVQVD72-001-ca-2025-06-23-08-03-58-431 transform job is running.\n",
      "automl-PCDLowerHuttABIrHIxVQVD72-001-ca-2025-06-23-08-03-58-431 transform job is running.\n",
      "automl-PCDLowerHuttABIrHIxVQVD72-001-ca-2025-06-23-08-03-58-431 transform job is running.\n",
      "automl-PCDLowerHuttABIrHIxVQVD72-001-ca-2025-06-23-08-03-58-431 transform job is running.\n",
      "automl-PCDLowerHuttABIrHIxVQVD72-001-ca-2025-06-23-08-03-58-431 transform job is running.\n",
      "automl-PCDLowerHuttABIrHIxVQVD72-001-ca-2025-06-23-08-03-58-431 transform job is running.\n",
      "automl-PCDLowerHuttABIrHIxVQVD72-001-ca-2025-06-23-08-03-58-431 transform job is running.\n",
      "automl-PCDLowerHuttABIrHIxVQVD72-001-ca-2025-06-23-08-03-58-431 transform job is running.\n",
      "automl-PCDLowerHuttABIrHIxVQVD72-001-ca-2025-06-23-08-03-58-431 transform job is running.\n",
      "\n",
      "Completed.\n",
      "MSE: 1.54352928447244e-06\n",
      "RMSE: 0.0012423885400600087\n",
      "R2: 0.8666893104456637\n",
      "Full pred results uploaded to: s3://sagemaker-ap-southeast-2-851725470721/sagemaker/autopilot-water-demand-prediction/inference-results/PCDLowerHuttABI_full_pred_data.csv\n",
      "\n",
      "PCD Lower Hutt wet weather flow ABJ\n",
      "test_data shape: (87600, 17)\n",
      "test_data_no_target shape: (87600, 16)\n",
      "Full test data uploaded to: s3://sagemaker-ap-southeast-2-851725470721/sagemaker/autopilot-water-demand-prediction/automl-PCDLowerHuttABI/test_full/test_data_no_target.csv\n",
      "AutoMLJobName: automl-PCDLowerHuttABJ\n",
      "\n",
      "\n",
      "CandidateName: automl-PCDLowerHuttABJt2qMeZhm7m-003-e41580e0\n",
      "FinalAutoMLJobObjectiveMetricName: validation:mse\n",
      "FinalAutoMLJobObjectiveMetricValue: 0.0\n"
     ]
    },
    {
     "data": {
      "text/html": [
       "<pre style=\"white-space:pre;overflow-x:auto;line-height:normal;font-family:Menlo,'DejaVu Sans Mono',consolas,'Courier New',monospace\"><span style=\"color: #7fbfbf; text-decoration-color: #7fbfbf\">[06/23/25 08:21:03] </span><span style=\"color: #0069ff; text-decoration-color: #0069ff; font-weight: bold\">INFO    </span> Creating model with name:                                              <a href=\"file:///opt/conda/lib/python3.11/site-packages/sagemaker/session.py\" target=\"_blank\"><span style=\"color: #7f7f7f; text-decoration-color: #7f7f7f\">session.py</span></a><span style=\"color: #7f7f7f; text-decoration-color: #7f7f7f\">:</span><a href=\"file:///opt/conda/lib/python3.11/site-packages/sagemaker/session.py#4094\" target=\"_blank\"><span style=\"color: #7f7f7f; text-decoration-color: #7f7f7f\">4094</span></a>\n",
       "<span style=\"color: #7fbfbf; text-decoration-color: #7fbfbf\">                    </span>         automl-PCDLowerHuttABJt2qMeZhm7m-<span style=\"color: #008080; text-decoration-color: #008080; font-weight: bold\">003</span>-e41580e0-model                    <span style=\"color: #7f7f7f; text-decoration-color: #7f7f7f\">               </span>\n",
       "</pre>\n"
      ],
      "text/plain": [
       "\u001b[2;36m[06/23/25 08:21:03]\u001b[0m\u001b[2;36m \u001b[0m\u001b[1;38;2;0;105;255mINFO    \u001b[0m Creating model with name:                                              \u001b]8;id=556023;file:///opt/conda/lib/python3.11/site-packages/sagemaker/session.py\u001b\\\u001b[2msession.py\u001b[0m\u001b]8;;\u001b\\\u001b[2m:\u001b[0m\u001b]8;id=595441;file:///opt/conda/lib/python3.11/site-packages/sagemaker/session.py#4094\u001b\\\u001b[2m4094\u001b[0m\u001b]8;;\u001b\\\n",
       "\u001b[2;36m                    \u001b[0m         automl-PCDLowerHuttABJt2qMeZhm7m-\u001b[1;36m003\u001b[0m-e41580e0-model                    \u001b[2m               \u001b[0m\n"
      ]
     },
     "metadata": {},
     "output_type": "display_data"
    },
    {
     "data": {
      "text/html": [
       "<pre style=\"white-space:pre;overflow-x:auto;line-height:normal;font-family:Menlo,'DejaVu Sans Mono',consolas,'Courier New',monospace\"><span style=\"color: #7fbfbf; text-decoration-color: #7fbfbf\">[06/23/25 08:21:04] </span><span style=\"color: #0069ff; text-decoration-color: #0069ff; font-weight: bold\">INFO    </span> Creating transform job with name:                                      <a href=\"file:///opt/conda/lib/python3.11/site-packages/sagemaker/session.py\" target=\"_blank\"><span style=\"color: #7f7f7f; text-decoration-color: #7f7f7f\">session.py</span></a><span style=\"color: #7f7f7f; text-decoration-color: #7f7f7f\">:</span><a href=\"file:///opt/conda/lib/python3.11/site-packages/sagemaker/session.py#3951\" target=\"_blank\"><span style=\"color: #7f7f7f; text-decoration-color: #7f7f7f\">3951</span></a>\n",
       "<span style=\"color: #7fbfbf; text-decoration-color: #7fbfbf\">                    </span>         automl-PCDLowerHuttABJt2qMeZhm7m-<span style=\"color: #008080; text-decoration-color: #008080; font-weight: bold\">003</span>-e4-<span style=\"color: #008080; text-decoration-color: #008080; font-weight: bold\">2025</span>-06-23-08-21-04-100        <span style=\"color: #7f7f7f; text-decoration-color: #7f7f7f\">               </span>\n",
       "</pre>\n"
      ],
      "text/plain": [
       "\u001b[2;36m[06/23/25 08:21:04]\u001b[0m\u001b[2;36m \u001b[0m\u001b[1;38;2;0;105;255mINFO    \u001b[0m Creating transform job with name:                                      \u001b]8;id=298101;file:///opt/conda/lib/python3.11/site-packages/sagemaker/session.py\u001b\\\u001b[2msession.py\u001b[0m\u001b]8;;\u001b\\\u001b[2m:\u001b[0m\u001b]8;id=531802;file:///opt/conda/lib/python3.11/site-packages/sagemaker/session.py#3951\u001b\\\u001b[2m3951\u001b[0m\u001b]8;;\u001b\\\n",
       "\u001b[2;36m                    \u001b[0m         automl-PCDLowerHuttABJt2qMeZhm7m-\u001b[1;36m003\u001b[0m-e4-\u001b[1;36m2025\u001b[0m-06-23-08-21-04-100        \u001b[2m               \u001b[0m\n"
      ]
     },
     "metadata": {},
     "output_type": "display_data"
    },
    {
     "name": "stdout",
     "output_type": "stream",
     "text": [
      "Starting transform job automl-PCDLowerHuttABJt2qMeZhm7m-003-e4-2025-06-23-08-21-04-100\n",
      "automl-PCDLowerHuttABJt2qMeZhm7m-003-e4-2025-06-23-08-21-04-100 transform job is running.\n",
      "automl-PCDLowerHuttABJt2qMeZhm7m-003-e4-2025-06-23-08-21-04-100 transform job is running.\n",
      "automl-PCDLowerHuttABJt2qMeZhm7m-003-e4-2025-06-23-08-21-04-100 transform job is running.\n",
      "automl-PCDLowerHuttABJt2qMeZhm7m-003-e4-2025-06-23-08-21-04-100 transform job is running.\n",
      "automl-PCDLowerHuttABJt2qMeZhm7m-003-e4-2025-06-23-08-21-04-100 transform job is running.\n",
      "automl-PCDLowerHuttABJt2qMeZhm7m-003-e4-2025-06-23-08-21-04-100 transform job is running.\n",
      "automl-PCDLowerHuttABJt2qMeZhm7m-003-e4-2025-06-23-08-21-04-100 transform job is running.\n",
      "automl-PCDLowerHuttABJt2qMeZhm7m-003-e4-2025-06-23-08-21-04-100 transform job is running.\n",
      "automl-PCDLowerHuttABJt2qMeZhm7m-003-e4-2025-06-23-08-21-04-100 transform job is running.\n",
      "automl-PCDLowerHuttABJt2qMeZhm7m-003-e4-2025-06-23-08-21-04-100 transform job is running.\n",
      "automl-PCDLowerHuttABJt2qMeZhm7m-003-e4-2025-06-23-08-21-04-100 transform job is running.\n",
      "automl-PCDLowerHuttABJt2qMeZhm7m-003-e4-2025-06-23-08-21-04-100 transform job is running.\n",
      "automl-PCDLowerHuttABJt2qMeZhm7m-003-e4-2025-06-23-08-21-04-100 transform job is running.\n",
      "automl-PCDLowerHuttABJt2qMeZhm7m-003-e4-2025-06-23-08-21-04-100 transform job is running.\n",
      "automl-PCDLowerHuttABJt2qMeZhm7m-003-e4-2025-06-23-08-21-04-100 transform job is running.\n",
      "automl-PCDLowerHuttABJt2qMeZhm7m-003-e4-2025-06-23-08-21-04-100 transform job is running.\n",
      "automl-PCDLowerHuttABJt2qMeZhm7m-003-e4-2025-06-23-08-21-04-100 transform job is running.\n",
      "automl-PCDLowerHuttABJt2qMeZhm7m-003-e4-2025-06-23-08-21-04-100 transform job is running.\n",
      "automl-PCDLowerHuttABJt2qMeZhm7m-003-e4-2025-06-23-08-21-04-100 transform job is running.\n",
      "automl-PCDLowerHuttABJt2qMeZhm7m-003-e4-2025-06-23-08-21-04-100 transform job is running.\n",
      "\n",
      "Completed.\n",
      "MSE: 1.722352275533597e-06\n",
      "RMSE: 0.001312384195094408\n",
      "R2: 0.8659385194397027\n",
      "Full pred results uploaded to: s3://sagemaker-ap-southeast-2-851725470721/sagemaker/autopilot-water-demand-prediction/inference-results/PCDLowerHuttABJ_full_pred_data.csv\n",
      "\n",
      "PCD Lower Hutt wet weather flow ABK\n",
      "test_data shape: (87600, 17)\n",
      "test_data_no_target shape: (87600, 16)\n",
      "Full test data uploaded to: s3://sagemaker-ap-southeast-2-851725470721/sagemaker/autopilot-water-demand-prediction/automl-PCDLowerHuttABJ/test_full/test_data_no_target.csv\n",
      "AutoMLJobName: automl-PCDLowerHuttABK\n",
      "\n",
      "\n",
      "CandidateName: automl-PCDLowerHuttABKNtXA5ldO69-003-60876d2e\n",
      "FinalAutoMLJobObjectiveMetricName: validation:mse\n",
      "FinalAutoMLJobObjectiveMetricValue: 0.0\n"
     ]
    },
    {
     "data": {
      "text/html": [
       "<pre style=\"white-space:pre;overflow-x:auto;line-height:normal;font-family:Menlo,'DejaVu Sans Mono',consolas,'Courier New',monospace\"><span style=\"color: #7fbfbf; text-decoration-color: #7fbfbf\">[06/23/25 08:41:08] </span><span style=\"color: #0069ff; text-decoration-color: #0069ff; font-weight: bold\">INFO    </span> Creating model with name:                                              <a href=\"file:///opt/conda/lib/python3.11/site-packages/sagemaker/session.py\" target=\"_blank\"><span style=\"color: #7f7f7f; text-decoration-color: #7f7f7f\">session.py</span></a><span style=\"color: #7f7f7f; text-decoration-color: #7f7f7f\">:</span><a href=\"file:///opt/conda/lib/python3.11/site-packages/sagemaker/session.py#4094\" target=\"_blank\"><span style=\"color: #7f7f7f; text-decoration-color: #7f7f7f\">4094</span></a>\n",
       "<span style=\"color: #7fbfbf; text-decoration-color: #7fbfbf\">                    </span>         automl-PCDLowerHuttABKNtXA5ldO69-<span style=\"color: #008080; text-decoration-color: #008080; font-weight: bold\">003</span>-60876d2e-model                    <span style=\"color: #7f7f7f; text-decoration-color: #7f7f7f\">               </span>\n",
       "</pre>\n"
      ],
      "text/plain": [
       "\u001b[2;36m[06/23/25 08:41:08]\u001b[0m\u001b[2;36m \u001b[0m\u001b[1;38;2;0;105;255mINFO    \u001b[0m Creating model with name:                                              \u001b]8;id=820261;file:///opt/conda/lib/python3.11/site-packages/sagemaker/session.py\u001b\\\u001b[2msession.py\u001b[0m\u001b]8;;\u001b\\\u001b[2m:\u001b[0m\u001b]8;id=985577;file:///opt/conda/lib/python3.11/site-packages/sagemaker/session.py#4094\u001b\\\u001b[2m4094\u001b[0m\u001b]8;;\u001b\\\n",
       "\u001b[2;36m                    \u001b[0m         automl-PCDLowerHuttABKNtXA5ldO69-\u001b[1;36m003\u001b[0m-60876d2e-model                    \u001b[2m               \u001b[0m\n"
      ]
     },
     "metadata": {},
     "output_type": "display_data"
    },
    {
     "data": {
      "text/html": [
       "<pre style=\"white-space:pre;overflow-x:auto;line-height:normal;font-family:Menlo,'DejaVu Sans Mono',consolas,'Courier New',monospace\"><span style=\"color: #7fbfbf; text-decoration-color: #7fbfbf\">[06/23/25 08:41:09] </span><span style=\"color: #0069ff; text-decoration-color: #0069ff; font-weight: bold\">INFO    </span> Creating transform job with name:                                      <a href=\"file:///opt/conda/lib/python3.11/site-packages/sagemaker/session.py\" target=\"_blank\"><span style=\"color: #7f7f7f; text-decoration-color: #7f7f7f\">session.py</span></a><span style=\"color: #7f7f7f; text-decoration-color: #7f7f7f\">:</span><a href=\"file:///opt/conda/lib/python3.11/site-packages/sagemaker/session.py#3951\" target=\"_blank\"><span style=\"color: #7f7f7f; text-decoration-color: #7f7f7f\">3951</span></a>\n",
       "<span style=\"color: #7fbfbf; text-decoration-color: #7fbfbf\">                    </span>         automl-PCDLowerHuttABKNtXA5ldO69-<span style=\"color: #008080; text-decoration-color: #008080; font-weight: bold\">003</span>-<span style=\"color: #008080; text-decoration-color: #008080; font-weight: bold\">60</span>-<span style=\"color: #008080; text-decoration-color: #008080; font-weight: bold\">2025</span>-06-23-08-41-09-646        <span style=\"color: #7f7f7f; text-decoration-color: #7f7f7f\">               </span>\n",
       "</pre>\n"
      ],
      "text/plain": [
       "\u001b[2;36m[06/23/25 08:41:09]\u001b[0m\u001b[2;36m \u001b[0m\u001b[1;38;2;0;105;255mINFO    \u001b[0m Creating transform job with name:                                      \u001b]8;id=784886;file:///opt/conda/lib/python3.11/site-packages/sagemaker/session.py\u001b\\\u001b[2msession.py\u001b[0m\u001b]8;;\u001b\\\u001b[2m:\u001b[0m\u001b]8;id=965538;file:///opt/conda/lib/python3.11/site-packages/sagemaker/session.py#3951\u001b\\\u001b[2m3951\u001b[0m\u001b]8;;\u001b\\\n",
       "\u001b[2;36m                    \u001b[0m         automl-PCDLowerHuttABKNtXA5ldO69-\u001b[1;36m003\u001b[0m-\u001b[1;36m60\u001b[0m-\u001b[1;36m2025\u001b[0m-06-23-08-41-09-646        \u001b[2m               \u001b[0m\n"
      ]
     },
     "metadata": {},
     "output_type": "display_data"
    },
    {
     "name": "stdout",
     "output_type": "stream",
     "text": [
      "Starting transform job automl-PCDLowerHuttABKNtXA5ldO69-003-60-2025-06-23-08-41-09-646\n",
      "automl-PCDLowerHuttABKNtXA5ldO69-003-60-2025-06-23-08-41-09-646 transform job is running.\n",
      "automl-PCDLowerHuttABKNtXA5ldO69-003-60-2025-06-23-08-41-09-646 transform job is running.\n",
      "automl-PCDLowerHuttABKNtXA5ldO69-003-60-2025-06-23-08-41-09-646 transform job is running.\n",
      "automl-PCDLowerHuttABKNtXA5ldO69-003-60-2025-06-23-08-41-09-646 transform job is running.\n",
      "automl-PCDLowerHuttABKNtXA5ldO69-003-60-2025-06-23-08-41-09-646 transform job is running.\n",
      "automl-PCDLowerHuttABKNtXA5ldO69-003-60-2025-06-23-08-41-09-646 transform job is running.\n",
      "automl-PCDLowerHuttABKNtXA5ldO69-003-60-2025-06-23-08-41-09-646 transform job is running.\n",
      "automl-PCDLowerHuttABKNtXA5ldO69-003-60-2025-06-23-08-41-09-646 transform job is running.\n",
      "automl-PCDLowerHuttABKNtXA5ldO69-003-60-2025-06-23-08-41-09-646 transform job is running.\n",
      "automl-PCDLowerHuttABKNtXA5ldO69-003-60-2025-06-23-08-41-09-646 transform job is running.\n",
      "automl-PCDLowerHuttABKNtXA5ldO69-003-60-2025-06-23-08-41-09-646 transform job is running.\n",
      "automl-PCDLowerHuttABKNtXA5ldO69-003-60-2025-06-23-08-41-09-646 transform job is running.\n",
      "automl-PCDLowerHuttABKNtXA5ldO69-003-60-2025-06-23-08-41-09-646 transform job is running.\n",
      "automl-PCDLowerHuttABKNtXA5ldO69-003-60-2025-06-23-08-41-09-646 transform job is running.\n",
      "automl-PCDLowerHuttABKNtXA5ldO69-003-60-2025-06-23-08-41-09-646 transform job is running.\n",
      "automl-PCDLowerHuttABKNtXA5ldO69-003-60-2025-06-23-08-41-09-646 transform job is running.\n",
      "automl-PCDLowerHuttABKNtXA5ldO69-003-60-2025-06-23-08-41-09-646 transform job is running.\n",
      "automl-PCDLowerHuttABKNtXA5ldO69-003-60-2025-06-23-08-41-09-646 transform job is running.\n",
      "\n",
      "Completed.\n",
      "MSE: 1.908075995605676e-06\n",
      "RMSE: 0.0013813312403640468\n",
      "R2: 0.8730589744764877\n",
      "Full pred results uploaded to: s3://sagemaker-ap-southeast-2-851725470721/sagemaker/autopilot-water-demand-prediction/inference-results/PCDLowerHuttABK_full_pred_data.csv\n",
      "\n",
      "PCD Lower Hutt wet weather flow ABL\n",
      "test_data shape: (87600, 17)\n",
      "test_data_no_target shape: (87600, 16)\n",
      "Full test data uploaded to: s3://sagemaker-ap-southeast-2-851725470721/sagemaker/autopilot-water-demand-prediction/automl-PCDLowerHuttABK/test_full/test_data_no_target.csv\n",
      "AutoMLJobName: automl-PCDLowerHuttABL\n",
      "\n",
      "\n",
      "CandidateName: automl-PCDLowerHuttABLvgNgxyWe6x-005-c4522630\n",
      "FinalAutoMLJobObjectiveMetricName: validation:mse\n",
      "FinalAutoMLJobObjectiveMetricValue: 0.0\n"
     ]
    },
    {
     "data": {
      "text/html": [
       "<pre style=\"white-space:pre;overflow-x:auto;line-height:normal;font-family:Menlo,'DejaVu Sans Mono',consolas,'Courier New',monospace\"><span style=\"color: #7fbfbf; text-decoration-color: #7fbfbf\">[06/23/25 08:59:14] </span><span style=\"color: #0069ff; text-decoration-color: #0069ff; font-weight: bold\">INFO    </span> Creating model with name:                                              <a href=\"file:///opt/conda/lib/python3.11/site-packages/sagemaker/session.py\" target=\"_blank\"><span style=\"color: #7f7f7f; text-decoration-color: #7f7f7f\">session.py</span></a><span style=\"color: #7f7f7f; text-decoration-color: #7f7f7f\">:</span><a href=\"file:///opt/conda/lib/python3.11/site-packages/sagemaker/session.py#4094\" target=\"_blank\"><span style=\"color: #7f7f7f; text-decoration-color: #7f7f7f\">4094</span></a>\n",
       "<span style=\"color: #7fbfbf; text-decoration-color: #7fbfbf\">                    </span>         automl-PCDLowerHuttABLvgNgxyWe6x-<span style=\"color: #008080; text-decoration-color: #008080; font-weight: bold\">005</span>-c4522630-model                    <span style=\"color: #7f7f7f; text-decoration-color: #7f7f7f\">               </span>\n",
       "</pre>\n"
      ],
      "text/plain": [
       "\u001b[2;36m[06/23/25 08:59:14]\u001b[0m\u001b[2;36m \u001b[0m\u001b[1;38;2;0;105;255mINFO    \u001b[0m Creating model with name:                                              \u001b]8;id=571341;file:///opt/conda/lib/python3.11/site-packages/sagemaker/session.py\u001b\\\u001b[2msession.py\u001b[0m\u001b]8;;\u001b\\\u001b[2m:\u001b[0m\u001b]8;id=688961;file:///opt/conda/lib/python3.11/site-packages/sagemaker/session.py#4094\u001b\\\u001b[2m4094\u001b[0m\u001b]8;;\u001b\\\n",
       "\u001b[2;36m                    \u001b[0m         automl-PCDLowerHuttABLvgNgxyWe6x-\u001b[1;36m005\u001b[0m-c4522630-model                    \u001b[2m               \u001b[0m\n"
      ]
     },
     "metadata": {},
     "output_type": "display_data"
    },
    {
     "data": {
      "text/html": [
       "<pre style=\"white-space:pre;overflow-x:auto;line-height:normal;font-family:Menlo,'DejaVu Sans Mono',consolas,'Courier New',monospace\"><span style=\"color: #7fbfbf; text-decoration-color: #7fbfbf\">[06/23/25 08:59:15] </span><span style=\"color: #0069ff; text-decoration-color: #0069ff; font-weight: bold\">INFO    </span> Creating transform job with name:                                      <a href=\"file:///opt/conda/lib/python3.11/site-packages/sagemaker/session.py\" target=\"_blank\"><span style=\"color: #7f7f7f; text-decoration-color: #7f7f7f\">session.py</span></a><span style=\"color: #7f7f7f; text-decoration-color: #7f7f7f\">:</span><a href=\"file:///opt/conda/lib/python3.11/site-packages/sagemaker/session.py#3951\" target=\"_blank\"><span style=\"color: #7f7f7f; text-decoration-color: #7f7f7f\">3951</span></a>\n",
       "<span style=\"color: #7fbfbf; text-decoration-color: #7fbfbf\">                    </span>         automl-PCDLowerHuttABLvgNgxyWe6x-<span style=\"color: #008080; text-decoration-color: #008080; font-weight: bold\">005</span>-c4-<span style=\"color: #008080; text-decoration-color: #008080; font-weight: bold\">2025</span>-06-23-08-59-15-430        <span style=\"color: #7f7f7f; text-decoration-color: #7f7f7f\">               </span>\n",
       "</pre>\n"
      ],
      "text/plain": [
       "\u001b[2;36m[06/23/25 08:59:15]\u001b[0m\u001b[2;36m \u001b[0m\u001b[1;38;2;0;105;255mINFO    \u001b[0m Creating transform job with name:                                      \u001b]8;id=404961;file:///opt/conda/lib/python3.11/site-packages/sagemaker/session.py\u001b\\\u001b[2msession.py\u001b[0m\u001b]8;;\u001b\\\u001b[2m:\u001b[0m\u001b]8;id=549626;file:///opt/conda/lib/python3.11/site-packages/sagemaker/session.py#3951\u001b\\\u001b[2m3951\u001b[0m\u001b]8;;\u001b\\\n",
       "\u001b[2;36m                    \u001b[0m         automl-PCDLowerHuttABLvgNgxyWe6x-\u001b[1;36m005\u001b[0m-c4-\u001b[1;36m2025\u001b[0m-06-23-08-59-15-430        \u001b[2m               \u001b[0m\n"
      ]
     },
     "metadata": {},
     "output_type": "display_data"
    },
    {
     "name": "stdout",
     "output_type": "stream",
     "text": [
      "Starting transform job automl-PCDLowerHuttABLvgNgxyWe6x-005-c4-2025-06-23-08-59-15-430\n",
      "automl-PCDLowerHuttABLvgNgxyWe6x-005-c4-2025-06-23-08-59-15-430 transform job is running.\n"
     ]
    }
   ],
   "source": [
    "import pandas as pd\n",
    "from sklearn.model_selection import train_test_split\n",
    "from time import gmtime, strftime, sleep\n",
    "from sagemaker import AutoML\n",
    "from sklearn.metrics import mean_squared_error, r2_score\n",
    "from math import sqrt\n",
    "\n",
    "def get_csv_from_s3(s3uri, file_name):\n",
    "    parsed_url = urlparse(s3uri)\n",
    "    bucket_name = parsed_url.netloc\n",
    "    prefix = parsed_url.path[1:].strip(\"/\")\n",
    "    s3 = boto3.resource(\"s3\")\n",
    "    obj = s3.Object(bucket_name, \"{}/{}\".format(prefix, file_name))\n",
    "    return obj.get()[\"Body\"].read().decode(\"utf-8\")\n",
    "\n",
    "for csv_file, df in zip(csv_files[0:-1], df_list[0:-1]):\n",
    "    target = [e for e in df.columns if \"wet weather\" in e][0]\n",
    "    columns = [e for e in df.columns if e not in [\"Time\", \"sin_hour\", \"cos_hour\", target]]\n",
    "    print(f\"\\n{target}\")\n",
    "    X = df[columns] # Features\n",
    "    y = df[target]                # Target variable\n",
    "    \n",
    "    test_data = pd.concat([X, y], axis=1)   # Recombines features and target for testing set\n",
    "    \n",
    "    # For 'test_data_no_target' (features only from test set), you already have X_test\n",
    "    test_data_no_target = X\n",
    "    \n",
    "    # Optional: Verify shapes\n",
    "    print(f\"test_data shape: {test_data.shape}\")\n",
    "    print(f\"test_data_no_target shape: {test_data_no_target.shape}\")\n",
    "    \n",
    "    test_file = \"test_data_no_target.csv\"\n",
    "    test_data_no_target.to_csv(test_file, index=False, header=False)\n",
    "    test_data_s3_path = session.upload_data(path=test_file, key_prefix=prefix + f\"/{auto_ml_job_name}/test_full\")\n",
    "    print(\"Full test data uploaded to: \" + test_data_s3_path)\n",
    "\n",
    "    if not target.split(\" \")[6:]:\n",
    "        job_name = \"\".join(target.split(\" \")[0:3])+\"CUR\"\n",
    "    else:\n",
    "        job_name = \"\".join(target.split(\" \")[0:3])+target.split(\" \")[6:][0]\n",
    "    \n",
    "    auto_ml_job_name = f\"automl-{job_name}\"\n",
    "    print(\"AutoMLJobName: \" + auto_ml_job_name)\n",
    "    best_candidate = sm.describe_auto_ml_job(AutoMLJobName=auto_ml_job_name)[\"BestCandidate\"]\n",
    "    best_candidate_name = best_candidate[\"CandidateName\"]\n",
    "    \n",
    "    print(\"\\n\")\n",
    "    print(\"CandidateName: \" + best_candidate_name)\n",
    "    print(\n",
    "        \"FinalAutoMLJobObjectiveMetricName: \"\n",
    "        + best_candidate[\"FinalAutoMLJobObjectiveMetric\"][\"MetricName\"]\n",
    "    )\n",
    "    print(\n",
    "        \"FinalAutoMLJobObjectiveMetricValue: \"\n",
    "        + str(best_candidate[\"FinalAutoMLJobObjectiveMetric\"][\"Value\"])\n",
    "    )\n",
    "    # test_file = \"test_data_no_target.csv\"\n",
    "    # test_data_s3_path = f\"s3://{bucket}/{prefix}\" + f\"/{auto_ml_job_name}/test/{test_file}\"\n",
    "    # print(\"Test data location: \" + test_data_s3_path)\n",
    "\n",
    "    automl = AutoML.attach(auto_ml_job_name=auto_ml_job_name)\n",
    "    \n",
    "    s3_transform_output_path = \"s3://{}/{}/inference-results/\".format(bucket, prefix)\n",
    "    \n",
    "    model_name = \"{0}-model\".format(best_candidate_name)\n",
    "    \n",
    "    model = automl.create_model(\n",
    "        name=model_name,\n",
    "        candidate=best_candidate,\n",
    "    )\n",
    "    \n",
    "    output_path = s3_transform_output_path + best_candidate_name + \"/\"\n",
    "    \n",
    "    transformer = model.transformer(\n",
    "        instance_count=1,\n",
    "        instance_type=\"ml.m5.xlarge\",\n",
    "        assemble_with=\"Line\",\n",
    "        strategy=\"SingleRecord\",\n",
    "        output_path=output_path,\n",
    "        env={\"SAGEMAKER_MODEL_SERVER_TIMEOUT\": \"100\", \"SAGEMAKER_MODEL_SERVER_WORKERS\": \"1\"},\n",
    "    )\n",
    "\n",
    "    transformer.transform(\n",
    "        data=test_data_s3_path,\n",
    "        split_type=\"Line\",\n",
    "        content_type=\"text/csv\",\n",
    "        wait=False,\n",
    "        model_client_config={\"InvocationsTimeoutInSeconds\": 80, \"InvocationsMaxRetries\": 1},\n",
    "    )\n",
    "    \n",
    "    print(\"Starting transform job {}\".format(transformer._current_job_name))\n",
    "\n",
    "    ## Wait for jobs to finish\n",
    "    pending_complete = True\n",
    "    batch_job_name = transformer._current_job_name\n",
    "    \n",
    "    while pending_complete:\n",
    "        pending_complete = False\n",
    "    \n",
    "        description = sm.describe_transform_job(TransformJobName=batch_job_name)\n",
    "        if description[\"TransformJobStatus\"] not in [\"Failed\", \"Completed\"]:\n",
    "            pending_complete = True\n",
    "    \n",
    "        print(\"{} transform job is running.\".format(batch_job_name))\n",
    "        time.sleep(60)\n",
    "    \n",
    "    print(\"\\nCompleted.\")\n",
    "    \n",
    "    job_status = sm.describe_transform_job(TransformJobName=batch_job_name)[\"TransformJobStatus\"]\n",
    "    \n",
    "    if job_status == \"Completed\":\n",
    "        pred_csv = get_csv_from_s3(transformer.output_path, \"{}.out\".format(test_file))\n",
    "        predictions = pd.read_csv(io.StringIO(pred_csv), header=None)\n",
    "    \n",
    "    labels_df = test_data[target]\n",
    "    mse = mean_squared_error(labels_df, predictions)\n",
    "    rmse = sqrt(mse)\n",
    "    r2 = r2_score(labels_df, predictions)\n",
    "    \n",
    "    print(\"MSE: {0}\\nRMSE: {1}\\nR2: {2}\".format(mse, rmse, r2))\n",
    "\n",
    "    df['pred'] = predictions\n",
    "    df['pred'] = np.where(df['pred'] < 0, 0, df['pred'])\n",
    "    pred_to_move = df.pop('pred')\n",
    "    df.insert(1, pred_to_move.name, pred_to_move)\n",
    "    \n",
    "    ### Upload the dataset to S3\n",
    "    pred_file = f\"{job_name}_full_pred_data.csv\"\n",
    "    df.to_csv(pred_file, index=False, header=True)\n",
    "    pred_data_s3_path = session.upload_data(path=pred_file, key_prefix=prefix + f\"/inference-results\")\n",
    "    print(\"Full pred results uploaded to: \" + pred_data_s3_path)"
   ]
  },
  {
   "cell_type": "code",
   "execution_count": 20,
   "metadata": {},
   "outputs": [
    {
     "data": {
      "text/plain": [
       "('sagemaker-ap-southeast-2-851725470721',\n",
       " 'sagemaker/autopilot-water-demand-prediction',\n",
       " 'automl-PCDUpperHuttCUR')"
      ]
     },
     "execution_count": 20,
     "metadata": {},
     "output_type": "execute_result"
    }
   ],
   "source": [
    "bucket, prefix, auto_ml_job_name"
   ]
  },
  {
   "cell_type": "code",
   "execution_count": 1,
   "metadata": {},
   "outputs": [],
   "source": [
    "import os"
   ]
  },
  {
   "cell_type": "code",
   "execution_count": 16,
   "metadata": {
    "collapsed": true,
    "jupyter": {
     "outputs_hidden": true
    }
   },
   "outputs": [
    {
     "name": "stderr",
     "output_type": "stream",
     "text": [
      "/tmp/ipykernel_737/1337758265.py:12: DtypeWarning: Columns (20) have mixed types. Specify dtype option on import or set low_memory=False.\n",
      "  df = pd.read_csv(pred_file)\n"
     ]
    },
    {
     "name": "stdout",
     "output_type": "stream",
     "text": [
      "PCDLowerHuttABI\n",
      "MSE: 1.5363865288088719e-06\n",
      "RMSE: 0.0012395106005229934\n",
      "R2: 0.8673062120441026\n"
     ]
    },
    {
     "name": "stderr",
     "output_type": "stream",
     "text": [
      "/tmp/ipykernel_737/1337758265.py:12: DtypeWarning: Columns (20) have mixed types. Specify dtype option on import or set low_memory=False.\n",
      "  df = pd.read_csv(pred_file)\n"
     ]
    },
    {
     "name": "stdout",
     "output_type": "stream",
     "text": [
      "PCDLowerHuttABJ\n",
      "MSE: 1.7179936891375946e-06\n",
      "RMSE: 0.001310722582828874\n",
      "R2: 0.8662777755568736\n"
     ]
    },
    {
     "name": "stderr",
     "output_type": "stream",
     "text": [
      "/tmp/ipykernel_737/1337758265.py:12: DtypeWarning: Columns (20) have mixed types. Specify dtype option on import or set low_memory=False.\n",
      "  df = pd.read_csv(pred_file)\n"
     ]
    },
    {
     "name": "stdout",
     "output_type": "stream",
     "text": [
      "PCDLowerHuttABK\n",
      "MSE: 1.9044553039308406e-06\n",
      "RMSE: 0.00138002003751063\n",
      "R2: 0.8732998528877075\n"
     ]
    },
    {
     "name": "stderr",
     "output_type": "stream",
     "text": [
      "/tmp/ipykernel_737/1337758265.py:12: DtypeWarning: Columns (20) have mixed types. Specify dtype option on import or set low_memory=False.\n",
      "  df = pd.read_csv(pred_file)\n"
     ]
    },
    {
     "name": "stdout",
     "output_type": "stream",
     "text": [
      "PCDLowerHuttABL\n",
      "MSE: 3.6383426737226267e-06\n",
      "RMSE: 0.0019074440158816266\n",
      "R2: 0.8029940121677926\n"
     ]
    },
    {
     "name": "stderr",
     "output_type": "stream",
     "text": [
      "/tmp/ipykernel_737/1337758265.py:12: DtypeWarning: Columns (20) have mixed types. Specify dtype option on import or set low_memory=False.\n",
      "  df = pd.read_csv(pred_file)\n"
     ]
    },
    {
     "name": "stdout",
     "output_type": "stream",
     "text": [
      "PCDLowerHuttCUR\n",
      "MSE: 1.8273249001765752e-06\n",
      "RMSE: 0.00135178581889905\n",
      "R2: 0.9291568405051076\n"
     ]
    },
    {
     "name": "stderr",
     "output_type": "stream",
     "text": [
      "/tmp/ipykernel_737/1337758265.py:12: DtypeWarning: Columns (20) have mixed types. Specify dtype option on import or set low_memory=False.\n",
      "  df = pd.read_csv(pred_file)\n"
     ]
    },
    {
     "name": "stdout",
     "output_type": "stream",
     "text": [
      "PCDStokesValleyABI\n",
      "MSE: 2.0733918962592233e-07\n",
      "RMSE: 0.0004553451324280543\n",
      "R2: 0.9880505346909085\n"
     ]
    },
    {
     "name": "stderr",
     "output_type": "stream",
     "text": [
      "/tmp/ipykernel_737/1337758265.py:12: DtypeWarning: Columns (20) have mixed types. Specify dtype option on import or set low_memory=False.\n",
      "  df = pd.read_csv(pred_file)\n"
     ]
    },
    {
     "name": "stdout",
     "output_type": "stream",
     "text": [
      "PCDStokesValleyABJ\n",
      "MSE: 2.227638544436101e-07\n",
      "RMSE: 0.00047197865888577007\n",
      "R2: 0.9871615736897111\n"
     ]
    },
    {
     "name": "stderr",
     "output_type": "stream",
     "text": [
      "/tmp/ipykernel_737/1337758265.py:12: DtypeWarning: Columns (20) have mixed types. Specify dtype option on import or set low_memory=False.\n",
      "  df = pd.read_csv(pred_file)\n"
     ]
    },
    {
     "name": "stdout",
     "output_type": "stream",
     "text": [
      "PCDStokesValleyABK\n",
      "MSE: 2.68899559380784e-07\n",
      "RMSE: 0.0005185552616460313\n",
      "R2: 0.9859847194357237\n",
      "PCDStokesValleyABL\n",
      "MSE: 2.5081440257298315e-07\n",
      "RMSE: 0.0005008137403995453\n",
      "R2: 0.9869273316450081\n"
     ]
    },
    {
     "name": "stderr",
     "output_type": "stream",
     "text": [
      "/tmp/ipykernel_737/1337758265.py:12: DtypeWarning: Columns (20) have mixed types. Specify dtype option on import or set low_memory=False.\n",
      "  df = pd.read_csv(pred_file)\n",
      "/tmp/ipykernel_737/1337758265.py:12: DtypeWarning: Columns (20) have mixed types. Specify dtype option on import or set low_memory=False.\n",
      "  df = pd.read_csv(pred_file)\n"
     ]
    },
    {
     "name": "stdout",
     "output_type": "stream",
     "text": [
      "PCDStokesValleyCUR\n",
      "MSE: 2.791638677926647e-07\n",
      "RMSE: 0.0005283596008332438\n",
      "R2: 0.9946113922336629\n"
     ]
    },
    {
     "name": "stderr",
     "output_type": "stream",
     "text": [
      "/tmp/ipykernel_737/1337758265.py:12: DtypeWarning: Columns (20) have mixed types. Specify dtype option on import or set low_memory=False.\n",
      "  df = pd.read_csv(pred_file)\n"
     ]
    },
    {
     "name": "stdout",
     "output_type": "stream",
     "text": [
      "PCDUpperHuttABI\n",
      "MSE: 7.405977491076825e-08\n",
      "RMSE: 0.0002721392564676553\n",
      "R2: 0.9920168961500271\n"
     ]
    },
    {
     "name": "stderr",
     "output_type": "stream",
     "text": [
      "/tmp/ipykernel_737/1337758265.py:12: DtypeWarning: Columns (20) have mixed types. Specify dtype option on import or set low_memory=False.\n",
      "  df = pd.read_csv(pred_file)\n"
     ]
    },
    {
     "name": "stdout",
     "output_type": "stream",
     "text": [
      "PCDUpperHuttABJ\n",
      "MSE: 7.497547781342426e-08\n",
      "RMSE: 0.0002738165039098707\n",
      "R2: 0.9919926785622156\n"
     ]
    },
    {
     "name": "stderr",
     "output_type": "stream",
     "text": [
      "/tmp/ipykernel_737/1337758265.py:12: DtypeWarning: Columns (20) have mixed types. Specify dtype option on import or set low_memory=False.\n",
      "  df = pd.read_csv(pred_file)\n"
     ]
    },
    {
     "name": "stdout",
     "output_type": "stream",
     "text": [
      "PCDUpperHuttABK\n",
      "MSE: 8.213237196385144e-08\n",
      "RMSE: 0.0002865874595369648\n",
      "R2: 0.9915080985267409\n"
     ]
    },
    {
     "name": "stderr",
     "output_type": "stream",
     "text": [
      "/tmp/ipykernel_737/1337758265.py:12: DtypeWarning: Columns (20) have mixed types. Specify dtype option on import or set low_memory=False.\n",
      "  df = pd.read_csv(pred_file)\n"
     ]
    },
    {
     "name": "stdout",
     "output_type": "stream",
     "text": [
      "PCDUpperHuttABL\n",
      "MSE: 7.671627419415537e-08\n",
      "RMSE: 0.00027697702827880034\n",
      "R2: 0.992068690889421\n",
      "PCDUpperHuttCUR\n",
      "MSE: 1.0855792134480182e-07\n",
      "RMSE: 0.0003294812913426221\n",
      "R2: 0.9930564048490742\n"
     ]
    },
    {
     "name": "stderr",
     "output_type": "stream",
     "text": [
      "/tmp/ipykernel_737/1337758265.py:12: DtypeWarning: Columns (20) have mixed types. Specify dtype option on import or set low_memory=False.\n",
      "  df = pd.read_csv(pred_file)\n"
     ]
    }
   ],
   "source": [
    "import os\n",
    "import pandas as pd\n",
    "from math import sqrt\n",
    "from sklearn.metrics import mean_squared_error, r2_score\n",
    "\n",
    "sites = []\n",
    "mse_lst = []\n",
    "rmse_lst = []\n",
    "r2_lst = []\n",
    "pred_files = [e for e in os.listdir('.') if 'full_pred' in e and e.startswith('PCD')]\n",
    "for pred_file in sorted(pred_files):\n",
    "    df = pd.read_csv(pred_file)\n",
    "    target = [e for e in df.columns if 'wet weather' in e][0]\n",
    "    obs = df[target]\n",
    "    pred = df['pred']\n",
    "    mse = mean_squared_error(obs, pred)\n",
    "    rmse = sqrt(mse)\n",
    "    r2 = r2_score(obs, pred)\n",
    "    print(pred_file.split('.')[0].split('_')[0])\n",
    "    print(\"MSE: {0}\\nRMSE: {1}\\nR2: {2}\".format(mse, rmse, r2))\n",
    "    sites.append(pred_file.split('.')[0].split('_')[0])\n",
    "    mse_lst.append(mse)\n",
    "    rmse_lst.append(rmse)\n",
    "    r2_lst.append(r2)\n",
    "    \n",
    "metrics = {\n",
    "    'site': sites,\n",
    "    'mse': mse_lst,\n",
    "    'rmse': rmse_lst,\n",
    "    'r2': r2_lst\n",
    "}"
   ]
  },
  {
   "cell_type": "code",
   "execution_count": 17,
   "metadata": {},
   "outputs": [],
   "source": [
    "pd.DataFrame(metrics).to_csv('metrics.csv', index=False)"
   ]
  },
  {
   "cell_type": "markdown",
   "metadata": {},
   "source": [
    "# Single file test"
   ]
  },
  {
   "cell_type": "code",
   "execution_count": 6,
   "metadata": {},
   "outputs": [],
   "source": [
    "for csv_file, df in zip(csv_files, df_list):\n",
    "    target = [e for e in df.columns if \"wet weather\" in e][0]\n",
    "    columns = [e for e in df.columns if e not in [\"Time\", \"sin_hour\", \"cos_hour\", target]]\n"
   ]
  },
  {
   "cell_type": "code",
   "execution_count": 7,
   "metadata": {},
   "outputs": [
    {
     "data": {
      "text/plain": [
       "(['Rainfall',\n",
       "  'hour',\n",
       "  'wday',\n",
       "  'month',\n",
       "  'mday',\n",
       "  'doy',\n",
       "  'Rainlag1',\n",
       "  'Rainlag2',\n",
       "  'Rain_L3HR',\n",
       "  'Rain_L6HR',\n",
       "  'Rain_L12HR',\n",
       "  'Rain_L24HR',\n",
       "  'Rain_L48HR',\n",
       "  'API',\n",
       "  'SoilMoisture',\n",
       "  'Dry bulb degC'],\n",
       " 'PCD Upper Hutt wet weather flow')"
      ]
     },
     "execution_count": 7,
     "metadata": {},
     "output_type": "execute_result"
    }
   ],
   "source": [
    "columns, target"
   ]
  },
  {
   "attachments": {},
   "cell_type": "markdown",
   "metadata": {},
   "source": [
    "Before starting an Autopilot job, it is good practice to inspect the data to ensure there are no obvious issues with it. "
   ]
  },
  {
   "cell_type": "code",
   "execution_count": 8,
   "metadata": {},
   "outputs": [
    {
     "data": {
      "text/html": [
       "<div>\n",
       "<style scoped>\n",
       "    .dataframe tbody tr th:only-of-type {\n",
       "        vertical-align: middle;\n",
       "    }\n",
       "\n",
       "    .dataframe tbody tr th {\n",
       "        vertical-align: top;\n",
       "    }\n",
       "\n",
       "    .dataframe thead th {\n",
       "        text-align: right;\n",
       "    }\n",
       "</style>\n",
       "<table border=\"1\" class=\"dataframe\">\n",
       "  <thead>\n",
       "    <tr style=\"text-align: right;\">\n",
       "      <th></th>\n",
       "      <th>Time</th>\n",
       "      <th>PCD Upper Hutt wet weather flow</th>\n",
       "      <th>Rainfall</th>\n",
       "      <th>hour</th>\n",
       "      <th>wday</th>\n",
       "      <th>month</th>\n",
       "      <th>mday</th>\n",
       "      <th>doy</th>\n",
       "      <th>Rainlag1</th>\n",
       "      <th>Rainlag2</th>\n",
       "      <th>Rain_L3HR</th>\n",
       "      <th>Rain_L6HR</th>\n",
       "      <th>Rain_L12HR</th>\n",
       "      <th>Rain_L24HR</th>\n",
       "      <th>Rain_L48HR</th>\n",
       "      <th>sin_hour</th>\n",
       "      <th>cos_hour</th>\n",
       "      <th>API</th>\n",
       "      <th>SoilMoisture</th>\n",
       "      <th>Dry bulb degC</th>\n",
       "    </tr>\n",
       "  </thead>\n",
       "  <tbody>\n",
       "    <tr>\n",
       "      <th>0</th>\n",
       "      <td>2008-01-01 00:00:00</td>\n",
       "      <td>0.003676</td>\n",
       "      <td>0.0</td>\n",
       "      <td>0</td>\n",
       "      <td>1</td>\n",
       "      <td>1</td>\n",
       "      <td>31</td>\n",
       "      <td>1</td>\n",
       "      <td>0.0</td>\n",
       "      <td>0.0</td>\n",
       "      <td>0.0</td>\n",
       "      <td>0.0</td>\n",
       "      <td>0.0</td>\n",
       "      <td>0.0</td>\n",
       "      <td>0.0</td>\n",
       "      <td>0.000000</td>\n",
       "      <td>1.000000</td>\n",
       "      <td>0.000000</td>\n",
       "      <td>0.000000</td>\n",
       "      <td>9.2</td>\n",
       "    </tr>\n",
       "    <tr>\n",
       "      <th>1</th>\n",
       "      <td>2008-01-01 01:00:00</td>\n",
       "      <td>0.025255</td>\n",
       "      <td>0.0</td>\n",
       "      <td>1</td>\n",
       "      <td>1</td>\n",
       "      <td>1</td>\n",
       "      <td>31</td>\n",
       "      <td>1</td>\n",
       "      <td>0.0</td>\n",
       "      <td>0.0</td>\n",
       "      <td>0.0</td>\n",
       "      <td>0.0</td>\n",
       "      <td>0.0</td>\n",
       "      <td>0.0</td>\n",
       "      <td>0.0</td>\n",
       "      <td>0.258819</td>\n",
       "      <td>0.965926</td>\n",
       "      <td>0.000000</td>\n",
       "      <td>0.000000</td>\n",
       "      <td>7.3</td>\n",
       "    </tr>\n",
       "    <tr>\n",
       "      <th>2</th>\n",
       "      <td>2008-01-01 02:00:00</td>\n",
       "      <td>0.039594</td>\n",
       "      <td>0.0</td>\n",
       "      <td>2</td>\n",
       "      <td>1</td>\n",
       "      <td>1</td>\n",
       "      <td>31</td>\n",
       "      <td>1</td>\n",
       "      <td>0.0</td>\n",
       "      <td>0.0</td>\n",
       "      <td>0.0</td>\n",
       "      <td>0.0</td>\n",
       "      <td>0.0</td>\n",
       "      <td>0.0</td>\n",
       "      <td>0.0</td>\n",
       "      <td>0.500000</td>\n",
       "      <td>0.866025</td>\n",
       "      <td>0.000000</td>\n",
       "      <td>0.000000</td>\n",
       "      <td>6.4</td>\n",
       "    </tr>\n",
       "    <tr>\n",
       "      <th>3</th>\n",
       "      <td>2008-01-01 03:00:00</td>\n",
       "      <td>0.040877</td>\n",
       "      <td>0.0</td>\n",
       "      <td>3</td>\n",
       "      <td>1</td>\n",
       "      <td>1</td>\n",
       "      <td>31</td>\n",
       "      <td>1</td>\n",
       "      <td>0.0</td>\n",
       "      <td>0.0</td>\n",
       "      <td>0.0</td>\n",
       "      <td>0.0</td>\n",
       "      <td>0.0</td>\n",
       "      <td>0.0</td>\n",
       "      <td>0.0</td>\n",
       "      <td>0.707107</td>\n",
       "      <td>0.707107</td>\n",
       "      <td>0.000000</td>\n",
       "      <td>0.000000</td>\n",
       "      <td>6.1</td>\n",
       "    </tr>\n",
       "    <tr>\n",
       "      <th>4</th>\n",
       "      <td>2008-01-01 04:00:00</td>\n",
       "      <td>0.038019</td>\n",
       "      <td>0.0</td>\n",
       "      <td>4</td>\n",
       "      <td>1</td>\n",
       "      <td>1</td>\n",
       "      <td>31</td>\n",
       "      <td>1</td>\n",
       "      <td>0.0</td>\n",
       "      <td>0.0</td>\n",
       "      <td>0.0</td>\n",
       "      <td>0.0</td>\n",
       "      <td>0.0</td>\n",
       "      <td>0.0</td>\n",
       "      <td>0.0</td>\n",
       "      <td>0.866025</td>\n",
       "      <td>0.500000</td>\n",
       "      <td>0.000000</td>\n",
       "      <td>0.000000</td>\n",
       "      <td>5.4</td>\n",
       "    </tr>\n",
       "    <tr>\n",
       "      <th>...</th>\n",
       "      <td>...</td>\n",
       "      <td>...</td>\n",
       "      <td>...</td>\n",
       "      <td>...</td>\n",
       "      <td>...</td>\n",
       "      <td>...</td>\n",
       "      <td>...</td>\n",
       "      <td>...</td>\n",
       "      <td>...</td>\n",
       "      <td>...</td>\n",
       "      <td>...</td>\n",
       "      <td>...</td>\n",
       "      <td>...</td>\n",
       "      <td>...</td>\n",
       "      <td>...</td>\n",
       "      <td>...</td>\n",
       "      <td>...</td>\n",
       "      <td>...</td>\n",
       "      <td>...</td>\n",
       "      <td>...</td>\n",
       "    </tr>\n",
       "    <tr>\n",
       "      <th>87595</th>\n",
       "      <td>2017-12-31 19:00:00</td>\n",
       "      <td>0.000081</td>\n",
       "      <td>0.0</td>\n",
       "      <td>19</td>\n",
       "      <td>6</td>\n",
       "      <td>12</td>\n",
       "      <td>31</td>\n",
       "      <td>365</td>\n",
       "      <td>0.0</td>\n",
       "      <td>0.0</td>\n",
       "      <td>0.0</td>\n",
       "      <td>0.0</td>\n",
       "      <td>0.0</td>\n",
       "      <td>0.0</td>\n",
       "      <td>0.0</td>\n",
       "      <td>-0.965926</td>\n",
       "      <td>0.258819</td>\n",
       "      <td>0.000006</td>\n",
       "      <td>0.111833</td>\n",
       "      <td>18.2</td>\n",
       "    </tr>\n",
       "    <tr>\n",
       "      <th>87596</th>\n",
       "      <td>2017-12-31 20:00:00</td>\n",
       "      <td>0.000081</td>\n",
       "      <td>0.0</td>\n",
       "      <td>20</td>\n",
       "      <td>6</td>\n",
       "      <td>12</td>\n",
       "      <td>31</td>\n",
       "      <td>365</td>\n",
       "      <td>0.0</td>\n",
       "      <td>0.0</td>\n",
       "      <td>0.0</td>\n",
       "      <td>0.0</td>\n",
       "      <td>0.0</td>\n",
       "      <td>0.0</td>\n",
       "      <td>0.0</td>\n",
       "      <td>-0.866025</td>\n",
       "      <td>0.500000</td>\n",
       "      <td>0.000005</td>\n",
       "      <td>0.106241</td>\n",
       "      <td>18.1</td>\n",
       "    </tr>\n",
       "    <tr>\n",
       "      <th>87597</th>\n",
       "      <td>2017-12-31 21:00:00</td>\n",
       "      <td>0.000077</td>\n",
       "      <td>0.0</td>\n",
       "      <td>21</td>\n",
       "      <td>6</td>\n",
       "      <td>12</td>\n",
       "      <td>31</td>\n",
       "      <td>365</td>\n",
       "      <td>0.0</td>\n",
       "      <td>0.0</td>\n",
       "      <td>0.0</td>\n",
       "      <td>0.0</td>\n",
       "      <td>0.0</td>\n",
       "      <td>0.0</td>\n",
       "      <td>0.0</td>\n",
       "      <td>-0.707107</td>\n",
       "      <td>0.707107</td>\n",
       "      <td>0.000004</td>\n",
       "      <td>0.100929</td>\n",
       "      <td>17.8</td>\n",
       "    </tr>\n",
       "    <tr>\n",
       "      <th>87598</th>\n",
       "      <td>2017-12-31 22:00:00</td>\n",
       "      <td>0.000073</td>\n",
       "      <td>0.0</td>\n",
       "      <td>22</td>\n",
       "      <td>6</td>\n",
       "      <td>12</td>\n",
       "      <td>31</td>\n",
       "      <td>365</td>\n",
       "      <td>0.0</td>\n",
       "      <td>0.0</td>\n",
       "      <td>0.0</td>\n",
       "      <td>0.0</td>\n",
       "      <td>0.0</td>\n",
       "      <td>0.0</td>\n",
       "      <td>0.0</td>\n",
       "      <td>-0.500000</td>\n",
       "      <td>0.866025</td>\n",
       "      <td>0.000004</td>\n",
       "      <td>0.095882</td>\n",
       "      <td>17.7</td>\n",
       "    </tr>\n",
       "    <tr>\n",
       "      <th>87599</th>\n",
       "      <td>2017-12-31 23:00:00</td>\n",
       "      <td>0.000067</td>\n",
       "      <td>0.0</td>\n",
       "      <td>23</td>\n",
       "      <td>6</td>\n",
       "      <td>12</td>\n",
       "      <td>31</td>\n",
       "      <td>365</td>\n",
       "      <td>0.0</td>\n",
       "      <td>0.0</td>\n",
       "      <td>0.0</td>\n",
       "      <td>0.0</td>\n",
       "      <td>0.0</td>\n",
       "      <td>0.0</td>\n",
       "      <td>0.0</td>\n",
       "      <td>-0.258819</td>\n",
       "      <td>0.965926</td>\n",
       "      <td>0.000003</td>\n",
       "      <td>0.091088</td>\n",
       "      <td>17.5</td>\n",
       "    </tr>\n",
       "  </tbody>\n",
       "</table>\n",
       "<p>87600 rows × 20 columns</p>\n",
       "</div>"
      ],
      "text/plain": [
       "                      Time  PCD Upper Hutt wet weather flow  Rainfall  hour  \\\n",
       "0      2008-01-01 00:00:00                         0.003676       0.0     0   \n",
       "1      2008-01-01 01:00:00                         0.025255       0.0     1   \n",
       "2      2008-01-01 02:00:00                         0.039594       0.0     2   \n",
       "3      2008-01-01 03:00:00                         0.040877       0.0     3   \n",
       "4      2008-01-01 04:00:00                         0.038019       0.0     4   \n",
       "...                    ...                              ...       ...   ...   \n",
       "87595  2017-12-31 19:00:00                         0.000081       0.0    19   \n",
       "87596  2017-12-31 20:00:00                         0.000081       0.0    20   \n",
       "87597  2017-12-31 21:00:00                         0.000077       0.0    21   \n",
       "87598  2017-12-31 22:00:00                         0.000073       0.0    22   \n",
       "87599  2017-12-31 23:00:00                         0.000067       0.0    23   \n",
       "\n",
       "       wday  month  mday  doy  Rainlag1  Rainlag2  Rain_L3HR  Rain_L6HR  \\\n",
       "0         1      1    31    1       0.0       0.0        0.0        0.0   \n",
       "1         1      1    31    1       0.0       0.0        0.0        0.0   \n",
       "2         1      1    31    1       0.0       0.0        0.0        0.0   \n",
       "3         1      1    31    1       0.0       0.0        0.0        0.0   \n",
       "4         1      1    31    1       0.0       0.0        0.0        0.0   \n",
       "...     ...    ...   ...  ...       ...       ...        ...        ...   \n",
       "87595     6     12    31  365       0.0       0.0        0.0        0.0   \n",
       "87596     6     12    31  365       0.0       0.0        0.0        0.0   \n",
       "87597     6     12    31  365       0.0       0.0        0.0        0.0   \n",
       "87598     6     12    31  365       0.0       0.0        0.0        0.0   \n",
       "87599     6     12    31  365       0.0       0.0        0.0        0.0   \n",
       "\n",
       "       Rain_L12HR  Rain_L24HR  Rain_L48HR  sin_hour  cos_hour       API  \\\n",
       "0             0.0         0.0         0.0  0.000000  1.000000  0.000000   \n",
       "1             0.0         0.0         0.0  0.258819  0.965926  0.000000   \n",
       "2             0.0         0.0         0.0  0.500000  0.866025  0.000000   \n",
       "3             0.0         0.0         0.0  0.707107  0.707107  0.000000   \n",
       "4             0.0         0.0         0.0  0.866025  0.500000  0.000000   \n",
       "...           ...         ...         ...       ...       ...       ...   \n",
       "87595         0.0         0.0         0.0 -0.965926  0.258819  0.000006   \n",
       "87596         0.0         0.0         0.0 -0.866025  0.500000  0.000005   \n",
       "87597         0.0         0.0         0.0 -0.707107  0.707107  0.000004   \n",
       "87598         0.0         0.0         0.0 -0.500000  0.866025  0.000004   \n",
       "87599         0.0         0.0         0.0 -0.258819  0.965926  0.000003   \n",
       "\n",
       "       SoilMoisture Dry bulb degC  \n",
       "0          0.000000           9.2  \n",
       "1          0.000000           7.3  \n",
       "2          0.000000           6.4  \n",
       "3          0.000000           6.1  \n",
       "4          0.000000           5.4  \n",
       "...             ...           ...  \n",
       "87595      0.111833          18.2  \n",
       "87596      0.106241          18.1  \n",
       "87597      0.100929          17.8  \n",
       "87598      0.095882          17.7  \n",
       "87599      0.091088          17.5  \n",
       "\n",
       "[87600 rows x 20 columns]"
      ]
     },
     "execution_count": 8,
     "metadata": {},
     "output_type": "execute_result"
    }
   ],
   "source": [
    "pd.set_option(\"display.max_columns\", 500)\n",
    "df"
   ]
  },
  {
   "attachments": {},
   "cell_type": "markdown",
   "metadata": {},
   "source": [
    "Notice that the various columns have values in different ranges. For example, values under the target column ```Wellington Low Level``` are orders of magnitude higher than other columns. This difference in scale often causes issues when training an ML model, which is why it's a common feature engineering practice to normalize or standardize values (depending on the nature of the numeric distribution and presence of outliers).\n",
    "\n",
    "However, because Autopilot handles feature engineering automatically (among other things), we're not going to make any analysis or transformations ourselves.\n",
    "\n",
    "To also illustrate how Autopilot handles data issues, such as missing values, let's introduce some random empty values in our dataset for the housing median age column.\n"
   ]
  },
  {
   "cell_type": "code",
   "execution_count": 9,
   "metadata": {},
   "outputs": [
    {
     "name": "stdout",
     "output_type": "stream",
     "text": [
      "Original df shape: (87600, 20)\n",
      "X_train shape: (70080, 16)\n",
      "X_test shape: (17520, 16)\n",
      "y_train shape: (70080,)\n",
      "y_test shape: (17520,)\n",
      "train_data shape: (70080, 17)\n",
      "test_data shape: (17520, 17)\n",
      "test_data_no_target shape: (17520, 16)\n",
      "\n",
      "First 5 original indices in training set:\n",
      "Index([59845, 38347, 11421, 65342, 80677], dtype='int64')\n",
      "\n",
      "First 5 original indices in testing set:\n",
      "Index([9983, 43268, 16408, 14408, 39951], dtype='int64')\n"
     ]
    }
   ],
   "source": [
    "import pandas as pd\n",
    "from sklearn.model_selection import train_test_split\n",
    "\n",
    "# Assuming 'df' is your DataFrame and 'columns' is a list of all feature columns\n",
    "# including the target variable, and 'target' is the name of your target column.\n",
    "# Let's create a dummy DataFrame for demonstration if you don't have one loaded:\n",
    "# df = pd.DataFrame({'feature1': range(100), 'feature2': [i*2 for i in range(100)], 'target': [i % 2 for i in range(100)]})\n",
    "# columns = ['feature1', 'feature2', 'target']\n",
    "# target = 'target'\n",
    "\n",
    "# --- Modified Split Code ---\n",
    "\n",
    "# 1. Separate features (X) and target (y) from your full DataFrame\n",
    "#    X will be all columns EXCEPT the target\n",
    "#    y will be just the target column\n",
    "X = df[columns] # Features\n",
    "y = df[target]                # Target variable\n",
    "\n",
    "# 2. Perform the random split\n",
    "#    test_size=0.2 means 20% for testing, 80% for training\n",
    "#    random_state ensures reproducibility: if you run the code multiple times with the same random_state,\n",
    "#    you'll get the exact same split. Remove it if you want a different random split each time.\n",
    "X_train, X_test, y_train, y_test = train_test_split(X, y, test_size=0.2, random_state=42)\n",
    "\n",
    "# --- Organize into desired output format ---\n",
    "# If you still need DataFrames that combine features and target for train/test as you had before:\n",
    "train_data = pd.concat([X_train, y_train], axis=1) # Recombines features and target for training set\n",
    "test_data = pd.concat([X_test, y_test], axis=1)   # Recombines features and target for testing set\n",
    "\n",
    "# For 'test_data_no_target' (features only from test set), you already have X_test\n",
    "test_data_no_target = X_test\n",
    "\n",
    "# Optional: Verify shapes\n",
    "print(f\"Original df shape: {df.shape}\")\n",
    "print(f\"X_train shape: {X_train.shape}\")\n",
    "print(f\"X_test shape: {X_test.shape}\")\n",
    "print(f\"y_train shape: {y_train.shape}\")\n",
    "print(f\"y_test shape: {y_test.shape}\")\n",
    "print(f\"train_data shape: {train_data.shape}\")\n",
    "print(f\"test_data shape: {test_data.shape}\")\n",
    "print(f\"test_data_no_target shape: {test_data_no_target.shape}\")\n",
    "\n",
    "# Optional: Check if indexes are shuffled\n",
    "print(\"\\nFirst 5 original indices in training set:\")\n",
    "print(X_train.index[:5])\n",
    "print(\"\\nFirst 5 original indices in testing set:\")\n",
    "print(X_test.index[:5])"
   ]
  },
  {
   "cell_type": "code",
   "execution_count": 11,
   "metadata": {},
   "outputs": [],
   "source": [
    "# # Split data for training and testing (80/20 split)\n",
    "# num_rows = int(len(df) * 0.8)\n",
    "# train_data = df[columns].iloc[:num_rows]\n",
    "# test_data = df[columns].drop(train_data.index)\n",
    "# test_data_no_target = test_data.drop(columns=[target])"
   ]
  },
  {
   "cell_type": "code",
   "execution_count": 10,
   "metadata": {},
   "outputs": [
    {
     "data": {
      "text/html": [
       "<div>\n",
       "<style scoped>\n",
       "    .dataframe tbody tr th:only-of-type {\n",
       "        vertical-align: middle;\n",
       "    }\n",
       "\n",
       "    .dataframe tbody tr th {\n",
       "        vertical-align: top;\n",
       "    }\n",
       "\n",
       "    .dataframe thead th {\n",
       "        text-align: right;\n",
       "    }\n",
       "</style>\n",
       "<table border=\"1\" class=\"dataframe\">\n",
       "  <thead>\n",
       "    <tr style=\"text-align: right;\">\n",
       "      <th></th>\n",
       "      <th>Rainfall</th>\n",
       "      <th>hour</th>\n",
       "      <th>wday</th>\n",
       "      <th>month</th>\n",
       "      <th>mday</th>\n",
       "      <th>doy</th>\n",
       "      <th>Rainlag1</th>\n",
       "      <th>Rainlag2</th>\n",
       "      <th>Rain_L3HR</th>\n",
       "      <th>Rain_L6HR</th>\n",
       "      <th>Rain_L12HR</th>\n",
       "      <th>Rain_L24HR</th>\n",
       "      <th>Rain_L48HR</th>\n",
       "      <th>API</th>\n",
       "      <th>SoilMoisture</th>\n",
       "      <th>Dry bulb degC</th>\n",
       "      <th>PCD Upper Hutt wet weather flow</th>\n",
       "    </tr>\n",
       "  </thead>\n",
       "  <tbody>\n",
       "    <tr>\n",
       "      <th>9983</th>\n",
       "      <td>0.309</td>\n",
       "      <td>23</td>\n",
       "      <td>4</td>\n",
       "      <td>2</td>\n",
       "      <td>28</td>\n",
       "      <td>51</td>\n",
       "      <td>0.508</td>\n",
       "      <td>0.0</td>\n",
       "      <td>0.817</td>\n",
       "      <td>0.817</td>\n",
       "      <td>10.912</td>\n",
       "      <td>44.321</td>\n",
       "      <td>44.321</td>\n",
       "      <td>6.496442e+00</td>\n",
       "      <td>23.551281</td>\n",
       "      <td>18.3</td>\n",
       "      <td>0.009888</td>\n",
       "    </tr>\n",
       "    <tr>\n",
       "      <th>43268</th>\n",
       "      <td>0.000</td>\n",
       "      <td>20</td>\n",
       "      <td>6</td>\n",
       "      <td>12</td>\n",
       "      <td>31</td>\n",
       "      <td>344</td>\n",
       "      <td>0.000</td>\n",
       "      <td>0.0</td>\n",
       "      <td>0.000</td>\n",
       "      <td>0.000</td>\n",
       "      <td>0.000</td>\n",
       "      <td>0.000</td>\n",
       "      <td>0.800</td>\n",
       "      <td>3.362300e-03</td>\n",
       "      <td>0.945457</td>\n",
       "      <td>14.2</td>\n",
       "      <td>0.000230</td>\n",
       "    </tr>\n",
       "    <tr>\n",
       "      <th>16408</th>\n",
       "      <td>0.000</td>\n",
       "      <td>16</td>\n",
       "      <td>6</td>\n",
       "      <td>11</td>\n",
       "      <td>30</td>\n",
       "      <td>319</td>\n",
       "      <td>0.000</td>\n",
       "      <td>0.0</td>\n",
       "      <td>0.000</td>\n",
       "      <td>0.000</td>\n",
       "      <td>0.000</td>\n",
       "      <td>0.000</td>\n",
       "      <td>0.000</td>\n",
       "      <td>2.262973e-04</td>\n",
       "      <td>0.069336</td>\n",
       "      <td>15.5</td>\n",
       "      <td>0.000107</td>\n",
       "    </tr>\n",
       "    <tr>\n",
       "      <th>14408</th>\n",
       "      <td>0.000</td>\n",
       "      <td>8</td>\n",
       "      <td>0</td>\n",
       "      <td>8</td>\n",
       "      <td>31</td>\n",
       "      <td>236</td>\n",
       "      <td>0.000</td>\n",
       "      <td>0.0</td>\n",
       "      <td>0.000</td>\n",
       "      <td>0.000</td>\n",
       "      <td>0.000</td>\n",
       "      <td>0.000</td>\n",
       "      <td>0.000</td>\n",
       "      <td>2.134683e-06</td>\n",
       "      <td>0.022132</td>\n",
       "      <td>6.8</td>\n",
       "      <td>0.000773</td>\n",
       "    </tr>\n",
       "    <tr>\n",
       "      <th>39951</th>\n",
       "      <td>0.000</td>\n",
       "      <td>15</td>\n",
       "      <td>1</td>\n",
       "      <td>7</td>\n",
       "      <td>31</td>\n",
       "      <td>206</td>\n",
       "      <td>0.000</td>\n",
       "      <td>0.0</td>\n",
       "      <td>0.000</td>\n",
       "      <td>0.200</td>\n",
       "      <td>0.200</td>\n",
       "      <td>3.800</td>\n",
       "      <td>4.600</td>\n",
       "      <td>4.458749e-01</td>\n",
       "      <td>1.980398</td>\n",
       "      <td>14.6</td>\n",
       "      <td>0.000485</td>\n",
       "    </tr>\n",
       "    <tr>\n",
       "      <th>...</th>\n",
       "      <td>...</td>\n",
       "      <td>...</td>\n",
       "      <td>...</td>\n",
       "      <td>...</td>\n",
       "      <td>...</td>\n",
       "      <td>...</td>\n",
       "      <td>...</td>\n",
       "      <td>...</td>\n",
       "      <td>...</td>\n",
       "      <td>...</td>\n",
       "      <td>...</td>\n",
       "      <td>...</td>\n",
       "      <td>...</td>\n",
       "      <td>...</td>\n",
       "      <td>...</td>\n",
       "      <td>...</td>\n",
       "      <td>...</td>\n",
       "    </tr>\n",
       "    <tr>\n",
       "      <th>14527</th>\n",
       "      <td>0.000</td>\n",
       "      <td>7</td>\n",
       "      <td>5</td>\n",
       "      <td>8</td>\n",
       "      <td>31</td>\n",
       "      <td>241</td>\n",
       "      <td>0.000</td>\n",
       "      <td>0.0</td>\n",
       "      <td>0.000</td>\n",
       "      <td>0.000</td>\n",
       "      <td>0.000</td>\n",
       "      <td>0.000</td>\n",
       "      <td>0.000</td>\n",
       "      <td>1.290746e-03</td>\n",
       "      <td>0.819941</td>\n",
       "      <td>12.4</td>\n",
       "      <td>0.000902</td>\n",
       "    </tr>\n",
       "    <tr>\n",
       "      <th>29694</th>\n",
       "      <td>0.000</td>\n",
       "      <td>6</td>\n",
       "      <td>0</td>\n",
       "      <td>5</td>\n",
       "      <td>31</td>\n",
       "      <td>143</td>\n",
       "      <td>0.000</td>\n",
       "      <td>0.0</td>\n",
       "      <td>0.000</td>\n",
       "      <td>0.000</td>\n",
       "      <td>0.000</td>\n",
       "      <td>0.000</td>\n",
       "      <td>0.000</td>\n",
       "      <td>1.039999e-08</td>\n",
       "      <td>0.007703</td>\n",
       "      <td>2.7</td>\n",
       "      <td>0.000344</td>\n",
       "    </tr>\n",
       "    <tr>\n",
       "      <th>53240</th>\n",
       "      <td>0.000</td>\n",
       "      <td>8</td>\n",
       "      <td>2</td>\n",
       "      <td>1</td>\n",
       "      <td>31</td>\n",
       "      <td>29</td>\n",
       "      <td>0.000</td>\n",
       "      <td>0.0</td>\n",
       "      <td>0.000</td>\n",
       "      <td>0.000</td>\n",
       "      <td>0.000</td>\n",
       "      <td>0.000</td>\n",
       "      <td>0.000</td>\n",
       "      <td>8.712851e-04</td>\n",
       "      <td>0.693017</td>\n",
       "      <td>10.7</td>\n",
       "      <td>0.000125</td>\n",
       "    </tr>\n",
       "    <tr>\n",
       "      <th>55784</th>\n",
       "      <td>0.600</td>\n",
       "      <td>8</td>\n",
       "      <td>3</td>\n",
       "      <td>5</td>\n",
       "      <td>31</td>\n",
       "      <td>135</td>\n",
       "      <td>0.400</td>\n",
       "      <td>0.6</td>\n",
       "      <td>1.600</td>\n",
       "      <td>2.400</td>\n",
       "      <td>3.600</td>\n",
       "      <td>21.400</td>\n",
       "      <td>35.600</td>\n",
       "      <td>3.207589e+00</td>\n",
       "      <td>13.336198</td>\n",
       "      <td>8.3</td>\n",
       "      <td>0.007537</td>\n",
       "    </tr>\n",
       "    <tr>\n",
       "      <th>20657</th>\n",
       "      <td>0.000</td>\n",
       "      <td>17</td>\n",
       "      <td>1</td>\n",
       "      <td>5</td>\n",
       "      <td>31</td>\n",
       "      <td>131</td>\n",
       "      <td>0.000</td>\n",
       "      <td>0.0</td>\n",
       "      <td>0.000</td>\n",
       "      <td>0.000</td>\n",
       "      <td>0.000</td>\n",
       "      <td>0.000</td>\n",
       "      <td>0.000</td>\n",
       "      <td>1.028932e-17</td>\n",
       "      <td>0.000007</td>\n",
       "      <td>13.8</td>\n",
       "      <td>0.000274</td>\n",
       "    </tr>\n",
       "  </tbody>\n",
       "</table>\n",
       "<p>17520 rows × 17 columns</p>\n",
       "</div>"
      ],
      "text/plain": [
       "       Rainfall  hour  wday  month  mday  doy  Rainlag1  Rainlag2  Rain_L3HR  \\\n",
       "9983      0.309    23     4      2    28   51     0.508       0.0      0.817   \n",
       "43268     0.000    20     6     12    31  344     0.000       0.0      0.000   \n",
       "16408     0.000    16     6     11    30  319     0.000       0.0      0.000   \n",
       "14408     0.000     8     0      8    31  236     0.000       0.0      0.000   \n",
       "39951     0.000    15     1      7    31  206     0.000       0.0      0.000   \n",
       "...         ...   ...   ...    ...   ...  ...       ...       ...        ...   \n",
       "14527     0.000     7     5      8    31  241     0.000       0.0      0.000   \n",
       "29694     0.000     6     0      5    31  143     0.000       0.0      0.000   \n",
       "53240     0.000     8     2      1    31   29     0.000       0.0      0.000   \n",
       "55784     0.600     8     3      5    31  135     0.400       0.6      1.600   \n",
       "20657     0.000    17     1      5    31  131     0.000       0.0      0.000   \n",
       "\n",
       "       Rain_L6HR  Rain_L12HR  Rain_L24HR  Rain_L48HR           API  \\\n",
       "9983       0.817      10.912      44.321      44.321  6.496442e+00   \n",
       "43268      0.000       0.000       0.000       0.800  3.362300e-03   \n",
       "16408      0.000       0.000       0.000       0.000  2.262973e-04   \n",
       "14408      0.000       0.000       0.000       0.000  2.134683e-06   \n",
       "39951      0.200       0.200       3.800       4.600  4.458749e-01   \n",
       "...          ...         ...         ...         ...           ...   \n",
       "14527      0.000       0.000       0.000       0.000  1.290746e-03   \n",
       "29694      0.000       0.000       0.000       0.000  1.039999e-08   \n",
       "53240      0.000       0.000       0.000       0.000  8.712851e-04   \n",
       "55784      2.400       3.600      21.400      35.600  3.207589e+00   \n",
       "20657      0.000       0.000       0.000       0.000  1.028932e-17   \n",
       "\n",
       "       SoilMoisture Dry bulb degC  PCD Upper Hutt wet weather flow  \n",
       "9983      23.551281          18.3                         0.009888  \n",
       "43268      0.945457          14.2                         0.000230  \n",
       "16408      0.069336          15.5                         0.000107  \n",
       "14408      0.022132           6.8                         0.000773  \n",
       "39951      1.980398          14.6                         0.000485  \n",
       "...             ...           ...                              ...  \n",
       "14527      0.819941          12.4                         0.000902  \n",
       "29694      0.007703           2.7                         0.000344  \n",
       "53240      0.693017          10.7                         0.000125  \n",
       "55784     13.336198           8.3                         0.007537  \n",
       "20657      0.000007          13.8                         0.000274  \n",
       "\n",
       "[17520 rows x 17 columns]"
      ]
     },
     "execution_count": 10,
     "metadata": {},
     "output_type": "execute_result"
    }
   ],
   "source": [
    "test_data"
   ]
  },
  {
   "cell_type": "code",
   "execution_count": 11,
   "metadata": {},
   "outputs": [
    {
     "name": "stdout",
     "output_type": "stream",
     "text": [
      "Train data uploaded to: s3://sagemaker-ap-southeast-2-851725470721/sagemaker/autopilot-water-demand-prediction/train/train_data.csv\n",
      "Test data uploaded to: s3://sagemaker-ap-southeast-2-851725470721/sagemaker/autopilot-water-demand-prediction/test/test_data_no_target.csv\n"
     ]
    }
   ],
   "source": [
    "### Upload the dataset to S3\n",
    "\n",
    "train_file = \"train_data.csv\"\n",
    "train_data.to_csv(train_file, index=False, header=True)\n",
    "train_data_s3_path = session.upload_data(path=train_file, key_prefix=prefix + \"/train\")\n",
    "print(\"Train data uploaded to: \" + train_data_s3_path)\n",
    "\n",
    "test_file = \"test_data_no_target.csv\"\n",
    "test_data_no_target.to_csv(test_file, index=False, header=False)\n",
    "test_data_s3_path = session.upload_data(path=test_file, key_prefix=prefix + \"/test\")\n",
    "print(\"Test data uploaded to: \" + test_data_s3_path)"
   ]
  },
  {
   "attachments": {},
   "cell_type": "markdown",
   "metadata": {},
   "source": [
    "---\n",
    "## Setting up the SageMaker Autopilot Job<a name=\"Settingup\"></a>\n",
    "\n",
    "After uploading the dataset to Amazon S3, you can invoke Autopilot to find the best ML pipeline to train a model on this dataset. \n",
    "\n",
    "The required inputs for invoking an Autopilot job are:\n",
    "* Amazon S3 location for input dataset and for all output artifacts\n",
    "* Name of the target column in the dataset for predictions \n",
    "* An IAM role\n",
    "\n",
    "Currently, Autopilot supports only tabular datasets in CSV format. Either all files should have a header row, or the first file of the dataset, when sorted in alphabetical/lexical order by name, is expected to have a header row.\n"
   ]
  },
  {
   "cell_type": "code",
   "execution_count": 12,
   "metadata": {},
   "outputs": [],
   "source": [
    "input_data_config = [\n",
    "    {\n",
    "        \"DataSource\": {\n",
    "            \"S3DataSource\": {\n",
    "                \"S3DataType\": \"S3Prefix\",\n",
    "                \"S3Uri\": \"s3://{}/{}/train\".format(bucket, prefix),\n",
    "            }\n",
    "        },\n",
    "        \"TargetAttributeName\": target,\n",
    "    }\n",
    "]\n",
    "\n",
    "job_config = {\"CompletionCriteria\": {\"MaxCandidates\": 100}}\n",
    "\n",
    "\n",
    "output_data_config = {\"S3OutputPath\": \"s3://{}/{}/output\".format(bucket, prefix)}"
   ]
  },
  {
   "cell_type": "code",
   "execution_count": 13,
   "metadata": {},
   "outputs": [
    {
     "data": {
      "text/plain": [
       "[{'DataSource': {'S3DataSource': {'S3DataType': 'S3Prefix',\n",
       "    'S3Uri': 's3://sagemaker-ap-southeast-2-851725470721/sagemaker/autopilot-water-demand-prediction/train'}},\n",
       "  'TargetAttributeName': 'PCD Upper Hutt wet weather flow'}]"
      ]
     },
     "execution_count": 13,
     "metadata": {},
     "output_type": "execute_result"
    }
   ],
   "source": [
    "input_data_config"
   ]
  },
  {
   "attachments": {},
   "cell_type": "markdown",
   "metadata": {},
   "source": [
    "You can also specify the type of problem you want to solve with your dataset (`Regression, MulticlassClassification, BinaryClassification`). In case you are not sure, SageMaker Autopilot will infer the problem type based on statistics of the target column (the column you want to predict). \n",
    "\n",
    "Because the target attribute, ```Wellington Low Level```, is a continuous numeric variable, Autopilot will infer the problem type as regression. \n",
    "\n",
    "You have the option to limit the running time of a SageMaker Autopilot job by providing either the maximum number of pipeline evaluations or candidates (one pipeline evaluation is called a `Candidate` because it generates a candidate model) or providing the total time allocated for the overall Autopilot job. Under default settings, this job may take several hours to run. This varies between runs because of the nature of the exploratory process Autopilot uses to find optimal training parameters.\n",
    "\n",
    "For this demo, we limit the number of candidates to 10 so that the job finishes in under 1 hour.\n",
    "\n",
    "Finally, you also have the option to deploy the winning model to a SageMaker endpoint automatically upon completion. In this case, we will not deploy the endpoint. We'll run a batch prediction job later instead to evaluate our model.\n",
    "\n",
    "For guidance on how to configure the job parameters, check out the SDK documentation."
   ]
  },
  {
   "attachments": {},
   "cell_type": "markdown",
   "metadata": {},
   "source": [
    "### Launching the SageMaker Autopilot Job<a name=\"Launching\"></a>\n",
    "\n",
    "You can now launch the Autopilot job by calling the `create_auto_ml_job` API. "
   ]
  },
  {
   "cell_type": "code",
   "execution_count": 28,
   "metadata": {},
   "outputs": [
    {
     "data": {
      "text/plain": [
       "37"
      ]
     },
     "execution_count": 28,
     "metadata": {},
     "output_type": "execute_result"
    }
   ],
   "source": [
    "len(auto_ml_job_name)"
   ]
  },
  {
   "cell_type": "code",
   "execution_count": 29,
   "metadata": {},
   "outputs": [
    {
     "name": "stdout",
     "output_type": "stream",
     "text": [
      "AutoMLJobName: automl-PCDUpperHuttCUR\n"
     ]
    },
    {
     "data": {
      "text/plain": [
       "{'AutoMLJobArn': 'arn:aws:sagemaker:ap-southeast-2:851725470721:automl-job/automl-PCDUpperHuttCUR',\n",
       " 'ResponseMetadata': {'RequestId': '2c74e789-aa4e-48ac-a150-78be8cacfd77',\n",
       "  'HTTPStatusCode': 200,\n",
       "  'HTTPHeaders': {'x-amzn-requestid': '2c74e789-aa4e-48ac-a150-78be8cacfd77',\n",
       "   'content-type': 'application/x-amz-json-1.1',\n",
       "   'content-length': '98',\n",
       "   'date': 'Thu, 19 Jun 2025 06:34:40 GMT'},\n",
       "  'RetryAttempts': 0}}"
      ]
     },
     "execution_count": 29,
     "metadata": {},
     "output_type": "execute_result"
    }
   ],
   "source": [
    "from time import gmtime, strftime, sleep\n",
    "\n",
    "timestamp_suffix = strftime(\"%Y%m%d-%H-%M\", gmtime())\n",
    "\n",
    "if not target.split(\" \")[6:]:\n",
    "    job_name = \"\".join(target.split(\" \")[0:3])+\"CUR\"\n",
    "else:\n",
    "    job_name = \"\".join(target.split(\" \")[0:3])+target.split(\" \")[6:][0]\n",
    "\n",
    "auto_ml_job_name = f\"automl-{job_name}\"\n",
    "print(\"AutoMLJobName: \" + auto_ml_job_name)\n",
    "\n",
    "sm.create_auto_ml_job(\n",
    "    AutoMLJobName=auto_ml_job_name,\n",
    "    InputDataConfig=input_data_config,\n",
    "    OutputDataConfig=output_data_config,\n",
    "    AutoMLJobConfig=job_config,\n",
    "    # Uncomment to automatically deploy an endpoint\n",
    "    # ModelDeployConfig={\n",
    "    #'AutoGenerateEndpointName': True,\n",
    "    #'EndpointName': 'autopilot-DEMO-housing-' + timestamp_suffix\n",
    "    # },\n",
    "    RoleArn=role,\n",
    ")"
   ]
  },
  {
   "attachments": {},
   "cell_type": "markdown",
   "metadata": {},
   "source": [
    "---\n",
    "The Autopilot job will now be performing the following steps:\n",
    "\n",
    "* Data Analysis\n",
    "* Feature Engineering\n",
    "* Model selection\n",
    "* Model tuning (hyperparameter optimization)\n",
    "* Model feature importance (SageMaker Clarify)\n"
   ]
  },
  {
   "attachments": {},
   "cell_type": "markdown",
   "metadata": {},
   "source": [
    "### Tracking SageMaker Autopilot job progress"
   ]
  },
  {
   "cell_type": "code",
   "execution_count": 30,
   "metadata": {},
   "outputs": [
    {
     "name": "stdout",
     "output_type": "stream",
     "text": [
      "JobStatus - Secondary Status\n",
      "------------------------------\n",
      "InProgress - AnalyzingData\n",
      "InProgress - AnalyzingData\n",
      "InProgress - AnalyzingData\n",
      "InProgress - AnalyzingData\n",
      "InProgress - AnalyzingData\n",
      "InProgress - AnalyzingData\n",
      "InProgress - AnalyzingData\n",
      "InProgress - AnalyzingData\n",
      "InProgress - AnalyzingData\n",
      "InProgress - FeatureEngineering\n",
      "InProgress - FeatureEngineering\n",
      "InProgress - FeatureEngineering\n",
      "InProgress - FeatureEngineering\n",
      "InProgress - FeatureEngineering\n",
      "InProgress - FeatureEngineering\n",
      "InProgress - FeatureEngineering\n",
      "InProgress - FeatureEngineering\n",
      "InProgress - FeatureEngineering\n",
      "InProgress - ModelTuning\n",
      "InProgress - ModelTuning\n",
      "InProgress - ModelTuning\n",
      "InProgress - ModelTuning\n",
      "InProgress - ModelTuning\n",
      "InProgress - ModelTuning\n",
      "InProgress - ModelTuning\n",
      "InProgress - ModelTuning\n",
      "InProgress - ModelTuning\n",
      "InProgress - ModelTuning\n",
      "InProgress - ModelTuning\n",
      "InProgress - ModelTuning\n",
      "InProgress - ModelTuning\n",
      "InProgress - ModelTuning\n",
      "InProgress - ModelTuning\n",
      "InProgress - ModelTuning\n",
      "InProgress - ModelTuning\n",
      "InProgress - ModelTuning\n",
      "InProgress - ModelTuning\n",
      "InProgress - ModelTuning\n",
      "InProgress - ModelTuning\n",
      "InProgress - ModelTuning\n",
      "InProgress - ModelTuning\n",
      "InProgress - ModelTuning\n",
      "InProgress - ModelTuning\n",
      "InProgress - ModelTuning\n",
      "InProgress - ModelTuning\n",
      "InProgress - MergingAutoMLTaskReports\n",
      "InProgress - MergingAutoMLTaskReports\n",
      "InProgress - MergingAutoMLTaskReports\n",
      "InProgress - MergingAutoMLTaskReports\n",
      "InProgress - MergingAutoMLTaskReports\n",
      "InProgress - MergingAutoMLTaskReports\n",
      "InProgress - MergingAutoMLTaskReports\n",
      "InProgress - MergingAutoMLTaskReports\n",
      "InProgress - MergingAutoMLTaskReports\n",
      "InProgress - MergingAutoMLTaskReports\n",
      "InProgress - MergingAutoMLTaskReports\n",
      "InProgress - MergingAutoMLTaskReports\n",
      "Completed - Completed\n"
     ]
    }
   ],
   "source": [
    "print(\"JobStatus - Secondary Status\")\n",
    "print(\"------------------------------\")\n",
    "\n",
    "\n",
    "describe_response = sm.describe_auto_ml_job(AutoMLJobName=auto_ml_job_name)\n",
    "print(describe_response[\"AutoMLJobStatus\"] + \" - \" + describe_response[\"AutoMLJobSecondaryStatus\"])\n",
    "job_run_status = describe_response[\"AutoMLJobStatus\"]\n",
    "\n",
    "while job_run_status not in (\"Failed\", \"Completed\", \"Stopped\"):\n",
    "    describe_response = sm.describe_auto_ml_job(AutoMLJobName=auto_ml_job_name)\n",
    "    job_run_status = describe_response[\"AutoMLJobStatus\"]\n",
    "\n",
    "    print(\n",
    "        describe_response[\"AutoMLJobStatus\"] + \" - \" + describe_response[\"AutoMLJobSecondaryStatus\"]\n",
    "    )\n",
    "    sleep(60)"
   ]
  },
  {
   "attachments": {},
   "cell_type": "markdown",
   "metadata": {
    "toc-hr-collapsed": true
   },
   "source": [
    "---\n",
    "## Results\n",
    "\n",
    "Now you can use the ```describe_auto_ml_job``` API to look up the best candidate selected by the SageMaker Autopilot job. "
   ]
  },
  {
   "cell_type": "code",
   "execution_count": 31,
   "metadata": {},
   "outputs": [
    {
     "name": "stdout",
     "output_type": "stream",
     "text": [
      "\n",
      "\n",
      "CandidateName: automl-PCDUpperHuttCURo5DtAtIqy5-001-28e10680\n",
      "FinalAutoMLJobObjectiveMetricName: validation:mse\n",
      "FinalAutoMLJobObjectiveMetricValue: 0.0\n",
      "\n",
      "Best candidate details:: {'CandidateName': 'automl-PCDUpperHuttCURo5DtAtIqy5-001-28e10680', 'FinalAutoMLJobObjectiveMetric': {'MetricName': 'validation:mse', 'Value': 0.0, 'StandardMetricName': 'MSE'}, 'ObjectiveStatus': 'Succeeded', 'CandidateSteps': [{'CandidateStepType': 'AWS::SageMaker::ProcessingJob', 'CandidateStepArn': 'arn:aws:sagemaker:ap-southeast-2:851725470721:processing-job/automl-PCDUpperHuttCUR-db-1-7a4a2bf0c84740bd8a3507f589a3c9ed0da', 'CandidateStepName': 'automl-PCDUpperHuttCUR-db-1-7a4a2bf0c84740bd8a3507f589a3c9ed0da'}, {'CandidateStepType': 'AWS::SageMaker::TrainingJob', 'CandidateStepArn': 'arn:aws:sagemaker:ap-southeast-2:851725470721:training-job/automl-PCDUpperHuttCUR-dpp3-1-cbd349bc0b754158b80d556054518d9d7', 'CandidateStepName': 'automl-PCDUpperHuttCUR-dpp3-1-cbd349bc0b754158b80d556054518d9d7'}, {'CandidateStepType': 'AWS::SageMaker::TransformJob', 'CandidateStepArn': 'arn:aws:sagemaker:ap-southeast-2:851725470721:transform-job/automl-PCDUpperHuttCUR-dpp3-rpb-1-a66376f8ff9e4510a834da6d4fc9b', 'CandidateStepName': 'automl-PCDUpperHuttCUR-dpp3-rpb-1-a66376f8ff9e4510a834da6d4fc9b'}, {'CandidateStepType': 'AWS::SageMaker::TrainingJob', 'CandidateStepArn': 'arn:aws:sagemaker:ap-southeast-2:851725470721:training-job/automl-PCDUpperHuttCURo5DtAtIqy5-001-28e10680', 'CandidateStepName': 'automl-PCDUpperHuttCURo5DtAtIqy5-001-28e10680'}], 'CandidateStatus': 'Completed', 'InferenceContainers': [{'Image': '783357654285.dkr.ecr.ap-southeast-2.amazonaws.com/sagemaker-sklearn-automl:2.5-1-cpu-py3', 'ModelDataUrl': 's3://sagemaker-ap-southeast-2-851725470721/sagemaker/autopilot-water-demand-prediction/output/automl-PCDUpperHuttCUR/data-processor-models/automl-PCDUpperHuttCUR-dpp3-1-cbd349bc0b754158b80d556054518d9d7/output/model.tar.gz', 'Environment': {'AUTOML_SPARSE_ENCODE_RECORDIO_PROTOBUF': '1', 'AUTOML_TRANSFORM_MODE': 'feature-transform', 'SAGEMAKER_DEFAULT_INVOCATIONS_ACCEPT': 'application/x-recordio-protobuf', 'SAGEMAKER_PROGRAM': 'sagemaker_serve', 'SAGEMAKER_SUBMIT_DIRECTORY': '/opt/ml/model/code'}}, {'Image': '783357654285.dkr.ecr.ap-southeast-2.amazonaws.com/sagemaker-xgboost:1.3-1-cpu-py3', 'ModelDataUrl': 's3://sagemaker-ap-southeast-2-851725470721/sagemaker/autopilot-water-demand-prediction/output/automl-PCDUpperHuttCUR/tuning/automl-PCD-dpp3-xgb/automl-PCDUpperHuttCURo5DtAtIqy5-001-28e10680/output/model.tar.gz', 'Environment': {'MAX_CONTENT_LENGTH': '20971520', 'SAGEMAKER_DEFAULT_INVOCATIONS_ACCEPT': 'text/csv'}}], 'CreationTime': datetime.datetime(2025, 6, 19, 6, 51, 44, tzinfo=tzlocal()), 'EndTime': datetime.datetime(2025, 6, 19, 6, 53, 13, tzinfo=tzlocal()), 'LastModifiedTime': datetime.datetime(2025, 6, 19, 7, 18, 49, 40000, tzinfo=tzlocal()), 'CandidateProperties': {'CandidateArtifactLocations': {'Explainability': 's3://sagemaker-ap-southeast-2-851725470721/sagemaker/autopilot-water-demand-prediction/output/automl-PCDUpperHuttCUR/documentation/explainability/output', 'ModelInsights': 's3://sagemaker-ap-southeast-2-851725470721/sagemaker/autopilot-water-demand-prediction/output/automl-PCDUpperHuttCUR/documentation/model_monitor/output'}, 'CandidateMetrics': [{'MetricName': 'MSE', 'Value': 0.0, 'Set': 'Validation', 'StandardMetricName': 'MSE'}, {'MetricName': 'MAE', 'Value': 0.00018000000272877514, 'Set': 'Validation', 'StandardMetricName': 'MAE'}, {'MetricName': 'RMSE', 'Value': 0.00041000000783242285, 'Set': 'Validation', 'StandardMetricName': 'RMSE'}, {'MetricName': 'R2', 'Value': 0.9892799854278564, 'Set': 'Validation', 'StandardMetricName': 'R2'}]}}\n"
     ]
    }
   ],
   "source": [
    "best_candidate = sm.describe_auto_ml_job(AutoMLJobName=auto_ml_job_name)[\"BestCandidate\"]\n",
    "best_candidate_name = best_candidate[\"CandidateName\"]\n",
    "\n",
    "print(\"\\n\")\n",
    "print(\"CandidateName: \" + best_candidate_name)\n",
    "print(\n",
    "    \"FinalAutoMLJobObjectiveMetricName: \"\n",
    "    + best_candidate[\"FinalAutoMLJobObjectiveMetric\"][\"MetricName\"]\n",
    ")\n",
    "print(\n",
    "    \"FinalAutoMLJobObjectiveMetricValue: \"\n",
    "    + str(best_candidate[\"FinalAutoMLJobObjectiveMetric\"][\"Value\"])\n",
    ")\n",
    "print(\"\\nBest candidate details:: \" + str(best_candidate))"
   ]
  },
  {
   "attachments": {},
   "cell_type": "markdown",
   "metadata": {},
   "source": [
    "If you are curious to explore the performance of other algorithms that Autopilot explored, you can enumerate them via ```list_candidates_for_auto_ml_job``` API call"
   ]
  },
  {
   "cell_type": "code",
   "execution_count": 32,
   "metadata": {},
   "outputs": [
    {
     "name": "stdout",
     "output_type": "stream",
     "text": [
      "automl-PCDUpperHuttCURo5DtAtIqy5-100-33dd7189 {'MetricName': 'validation:mse', 'Value': 0.0, 'StandardMetricName': 'MSE'}\n",
      "783357654285.dkr.ecr.ap-southeast-2.amazonaws.com/sagemaker-xgboost:1.3-1-cpu-py3 \n",
      "\n",
      "automl-PCDUpperHuttCURo5DtAtIqy5-098-c643c717 {'MetricName': 'validation:mse', 'Value': 1.9999999494757503e-05, 'StandardMetricName': 'MSE'}\n",
      "783357654285.dkr.ecr.ap-southeast-2.amazonaws.com/sagemaker-xgboost:1.3-1-cpu-py3 \n",
      "\n",
      "automl-PCDUpperHuttCURo5DtAtIqy5-099-bb1a602d {'MetricName': 'validation:mse', 'Value': 9.999999747378752e-06, 'StandardMetricName': 'MSE'}\n",
      "783357654285.dkr.ecr.ap-southeast-2.amazonaws.com/sagemaker-xgboost:1.3-1-cpu-py3 \n",
      "\n",
      "automl-PCDUpperHuttCURo5DtAtIqy5-095-1e1cf6d2 {'MetricName': 'validation:mse', 'Value': 9.999999747378752e-06, 'StandardMetricName': 'MSE'}\n",
      "783357654285.dkr.ecr.ap-southeast-2.amazonaws.com/sagemaker-xgboost:1.3-1-cpu-py3 \n",
      "\n",
      "automl-PCDUpperHuttCURo5DtAtIqy5-093-a95d9d16 {'MetricName': 'validation:mse', 'Value': 0.0, 'StandardMetricName': 'MSE'}\n",
      "783357654285.dkr.ecr.ap-southeast-2.amazonaws.com/sagemaker-xgboost:1.3-1-cpu-py3 \n",
      "\n",
      "automl-PCDUpperHuttCURo5DtAtIqy5-097-25d7b327 {'MetricName': 'validation:mse', 'Value': 2.2622502910962794e-06, 'StandardMetricName': 'MSE'}\n",
      "712309505854.dkr.ecr.ap-southeast-2.amazonaws.com/mxnet-algorithms:inference-cpu \n",
      "\n",
      "automl-PCDUpperHuttCURo5DtAtIqy5-096-ad4d10fd {'MetricName': 'validation:mse', 'Value': 3.9999998989515007e-05, 'StandardMetricName': 'MSE'}\n",
      "783357654285.dkr.ecr.ap-southeast-2.amazonaws.com/sagemaker-xgboost:1.3-1-cpu-py3 \n",
      "\n",
      "automl-PCDUpperHuttCURo5DtAtIqy5-094-603372d7 {'MetricName': 'validation:mse', 'Value': 1.9999999494757503e-05, 'StandardMetricName': 'MSE'}\n",
      "783357654285.dkr.ecr.ap-southeast-2.amazonaws.com/sagemaker-xgboost:1.3-1-cpu-py3 \n",
      "\n",
      "automl-PCDUpperHuttCURo5DtAtIqy5-092-c82d5dd4 {'MetricName': 'validation:mse', 'Value': 7.000000186963007e-05, 'StandardMetricName': 'MSE'}\n",
      "783357654285.dkr.ecr.ap-southeast-2.amazonaws.com/sagemaker-xgboost:1.3-1-cpu-py3 \n",
      "\n",
      "automl-PCDUpperHuttCURo5DtAtIqy5-091-ad086611 {'MetricName': 'validation:mse', 'Value': 1.9999999494757503e-05, 'StandardMetricName': 'MSE'}\n",
      "783357654285.dkr.ecr.ap-southeast-2.amazonaws.com/sagemaker-xgboost:1.3-1-cpu-py3 \n",
      "\n"
     ]
    }
   ],
   "source": [
    "sm_dict = sm.list_candidates_for_auto_ml_job(AutoMLJobName=auto_ml_job_name)\n",
    "for item in sm_dict[\"Candidates\"]:\n",
    "    print(item[\"CandidateName\"], item[\"FinalAutoMLJobObjectiveMetric\"])\n",
    "    print(item[\"InferenceContainers\"][1][\"Image\"], \"\\n\")"
   ]
  },
  {
   "attachments": {},
   "cell_type": "markdown",
   "metadata": {},
   "source": [
    "---\n",
    "Autopilot automatically generates two executable Jupyter Notebooks:  \n",
    "\n",
    "- ```SageMakerAutopilotDataExplorationNotebook.ipynb```\n",
    "- ```SageMakerAutopilotCandidateDefinitionNotebook.ipynb```\n",
    "\n",
    "These notebooks are stored in S3. Let us download them onto our SageMaker Notebook instance, so we can explore them."
   ]
  },
  {
   "cell_type": "code",
   "execution_count": 33,
   "metadata": {},
   "outputs": [
    {
     "name": "stdout",
     "output_type": "stream",
     "text": [
      "sagemaker-ap-southeast-2-851725470721 sagemaker/autopilot-water-demand-prediction/output/automl-PCDUpperHuttCUR/sagemaker-automl-candidates/automl-PCDUpperHuttCUR-pr-1-be46fde23320496d8c0ebd717d4d764df2e/notebooks/SageMakerAutopilotCandidateDefinitionNotebook.ipynb sagemaker/autopilot-water-demand-prediction/output/automl-PCDUpperHuttCUR/sagemaker-automl-candidates/automl-PCDUpperHuttCUR-pr-1-be46fde23320496d8c0ebd717d4d764df2e/notebooks/SageMakerAutopilotDataExplorationNotebook.ipynb\n"
     ]
    },
    {
     "data": {
      "text/plain": [
       "['./SageMakerAutopilotDataExplorationNotebook.ipynb']"
      ]
     },
     "execution_count": 33,
     "metadata": {},
     "output_type": "execute_result"
    }
   ],
   "source": [
    "candidate_nbk = describe_response[\"AutoMLJobArtifacts\"][\"CandidateDefinitionNotebookLocation\"]\n",
    "data_explore_nbk = describe_response[\"AutoMLJobArtifacts\"][\"DataExplorationNotebookLocation\"]\n",
    "\n",
    "\n",
    "def split_s3_path(s3_path):\n",
    "    path_parts = s3_path.replace(\"s3://\", \"\").split(\"/\")\n",
    "    bucket = path_parts.pop(0)\n",
    "    key = \"/\".join(path_parts)\n",
    "    return bucket, key\n",
    "\n",
    "\n",
    "s3_bucket, candidate_nbk_key = split_s3_path(candidate_nbk)\n",
    "_, data_explore_nbk_key = split_s3_path(data_explore_nbk)\n",
    "\n",
    "print(s3_bucket, candidate_nbk_key, data_explore_nbk_key)\n",
    "\n",
    "session.download_data(path=\"./\", bucket=s3_bucket, key_prefix=candidate_nbk_key)\n",
    "\n",
    "session.download_data(path=\"./\", bucket=s3_bucket, key_prefix=data_explore_nbk_key)"
   ]
  },
  {
   "attachments": {},
   "cell_type": "markdown",
   "metadata": {},
   "source": [
    "#### Data Exploration and Candidate Generation Notebooks"
   ]
  },
  {
   "attachments": {},
   "cell_type": "markdown",
   "metadata": {},
   "source": [
    "**Take some time to inspect the Data Exploration notebook. Check the ```Column Analysis and Descriptive Statistics``` section to see the analysis carried out by Autopilot.**"
   ]
  },
  {
   "attachments": {},
   "cell_type": "markdown",
   "metadata": {},
   "source": [
    "**Now, take some time to inspect the Candidate Generation notebook. Check the ```Generated Candidates``` section to see the different algorithms and data transformation strategies used by Autopilot.**"
   ]
  },
  {
   "attachments": {},
   "cell_type": "markdown",
   "metadata": {},
   "source": [
    "---\n",
    "Autopilot also automatically generates a feature importance report.\n"
   ]
  },
  {
   "cell_type": "code",
   "execution_count": 34,
   "metadata": {},
   "outputs": [
    {
     "data": {
      "text/plain": [
       "['./automl-PCDUpperHuttCURo5DtAtIqy5-001-28e10680/analysis.json',\n",
       " './automl-PCDUpperHuttCURo5DtAtIqy5-001-28e10680/explanations_shap/baseline.csv',\n",
       " './automl-PCDUpperHuttCURo5DtAtIqy5-001-28e10680/explanations_shap/out.csv/._SUCCESS.crc',\n",
       " './automl-PCDUpperHuttCURo5DtAtIqy5-001-28e10680/explanations_shap/out.csv/.part-00000-9bcee630-da08-4171-a59b-c37655071216-c000.csv.crc',\n",
       " './automl-PCDUpperHuttCURo5DtAtIqy5-001-28e10680/explanations_shap/out.csv/_SUCCESS',\n",
       " './automl-PCDUpperHuttCURo5DtAtIqy5-001-28e10680/explanations_shap/out.csv/part-00000-9bcee630-da08-4171-a59b-c37655071216-c000.csv',\n",
       " './automl-PCDUpperHuttCURo5DtAtIqy5-001-28e10680/report.html',\n",
       " './automl-PCDUpperHuttCURo5DtAtIqy5-001-28e10680/report.ipynb',\n",
       " './automl-PCDUpperHuttCURo5DtAtIqy5-001-28e10680/report.pdf']"
      ]
     },
     "execution_count": 34,
     "metadata": {},
     "output_type": "execute_result"
    }
   ],
   "source": [
    "explainability_prefix = best_candidate[\"CandidateProperties\"][\"CandidateArtifactLocations\"][\n",
    "    \"Explainability\"\n",
    "]\n",
    "\n",
    "s3_bucket, explainability_dir = split_s3_path(explainability_prefix)\n",
    "\n",
    "session.download_data(path=\"./\", bucket=s3_bucket, key_prefix=explainability_dir)"
   ]
  },
  {
   "attachments": {},
   "cell_type": "markdown",
   "metadata": {},
   "source": [
    "The preceding code will download a directory to our local environment. In that directory (the prefix is the autopilot job name, the suffix is automatically generated), you should see the SageMaker Clarify artifacts. SageMaker Clarify provides greater visibility into training data and models to identify and limit bias and explain predictions. The following code will open the feature importance report:"
   ]
  },
  {
   "cell_type": "code",
   "execution_count": 35,
   "metadata": {},
   "outputs": [
    {
     "data": {
      "text/html": [
       "\n",
       "        <iframe\n",
       "            width=\"700\"\n",
       "            height=\"600\"\n",
       "            src=\"automl-PCDUpperHuttCURo5DtAtIqy5-001-28e10680/report.html\"\n",
       "            frameborder=\"0\"\n",
       "            allowfullscreen\n",
       "            \n",
       "        ></iframe>\n",
       "        "
      ],
      "text/plain": [
       "<IPython.lib.display.IFrame at 0x7efc16c7b910>"
      ]
     },
     "execution_count": 35,
     "metadata": {},
     "output_type": "execute_result"
    }
   ],
   "source": [
    "from IPython.display import IFrame\n",
    "\n",
    "# Fetch the auto-generated directory name for the SageMaker Clarify artifacts\n",
    "dir_name = (\n",
    "    session.list_s3_files(bucket=s3_bucket, key_prefix=explainability_dir)[0]\n",
    "    .replace(explainability_dir, \"\")\n",
    "    .split(\"/\")[1]\n",
    ")\n",
    "\n",
    "# Display HTML report\n",
    "IFrame(src=f\"{dir_name}/report.html\", width=700, height=600)"
   ]
  },
  {
   "attachments": {},
   "cell_type": "markdown",
   "metadata": {},
   "source": [
    "Your results may vary. But you're likely to see latitude and longitude (i.e., location) on top, along with population size and median income, which are stronger predictors of housing prices than the other features in the dataset."
   ]
  },
  {
   "attachments": {},
   "cell_type": "markdown",
   "metadata": {},
   "source": [
    "In SageMaker Studio, you can also navigate to SageMaker resources tab, click on Experiments and trials, and find your Autopilot experiment. You can double-click on the experiment name to list all trials, and from there you can double-click on a specific trial to see its details, including charts and metrics."
   ]
  },
  {
   "attachments": {},
   "cell_type": "markdown",
   "metadata": {},
   "source": [
    "---\n",
    "## Evaluate Model Using Test Dataset<a name=\"Evaluate\"></a>"
   ]
  },
  {
   "attachments": {},
   "cell_type": "markdown",
   "metadata": {},
   "source": [
    "To evaluate the model on previously unseen data, we will test it against the test dataset we prepared earlier. For that, we don't necessarily need to deploy the model to an endpoint, we can simply run a batch transform job to get predictions for our unlabeled test dataset."
   ]
  },
  {
   "attachments": {},
   "cell_type": "markdown",
   "metadata": {},
   "source": [
    "### Set up Transform Job"
   ]
  },
  {
   "cell_type": "code",
   "execution_count": 36,
   "metadata": {},
   "outputs": [
    {
     "data": {
      "text/html": [
       "<pre style=\"white-space:pre;overflow-x:auto;line-height:normal;font-family:Menlo,'DejaVu Sans Mono',consolas,'Courier New',monospace\"><span style=\"color: #7fbfbf; text-decoration-color: #7fbfbf\">[06/19/25 07:34:39] </span><span style=\"color: #0069ff; text-decoration-color: #0069ff; font-weight: bold\">INFO    </span> Creating model with name:                                              <a href=\"file:///opt/conda/lib/python3.11/site-packages/sagemaker/session.py\" target=\"_blank\"><span style=\"color: #7f7f7f; text-decoration-color: #7f7f7f\">session.py</span></a><span style=\"color: #7f7f7f; text-decoration-color: #7f7f7f\">:</span><a href=\"file:///opt/conda/lib/python3.11/site-packages/sagemaker/session.py#4094\" target=\"_blank\"><span style=\"color: #7f7f7f; text-decoration-color: #7f7f7f\">4094</span></a>\n",
       "<span style=\"color: #7fbfbf; text-decoration-color: #7fbfbf\">                    </span>         automl-PCDUpperHuttCURo5DtAtIqy5-<span style=\"color: #008080; text-decoration-color: #008080; font-weight: bold\">001</span>-<span style=\"color: #008080; text-decoration-color: #008080; font-weight: bold\">28e10680</span>-model                    <span style=\"color: #7f7f7f; text-decoration-color: #7f7f7f\">               </span>\n",
       "</pre>\n"
      ],
      "text/plain": [
       "\u001b[2;36m[06/19/25 07:34:39]\u001b[0m\u001b[2;36m \u001b[0m\u001b[1;38;2;0;105;255mINFO    \u001b[0m Creating model with name:                                              \u001b]8;id=890462;file:///opt/conda/lib/python3.11/site-packages/sagemaker/session.py\u001b\\\u001b[2msession.py\u001b[0m\u001b]8;;\u001b\\\u001b[2m:\u001b[0m\u001b]8;id=818220;file:///opt/conda/lib/python3.11/site-packages/sagemaker/session.py#4094\u001b\\\u001b[2m4094\u001b[0m\u001b]8;;\u001b\\\n",
       "\u001b[2;36m                    \u001b[0m         automl-PCDUpperHuttCURo5DtAtIqy5-\u001b[1;36m001\u001b[0m-\u001b[1;36m28e10680\u001b[0m-model                    \u001b[2m               \u001b[0m\n"
      ]
     },
     "metadata": {},
     "output_type": "display_data"
    }
   ],
   "source": [
    "from sagemaker import AutoML\n",
    "\n",
    "automl = AutoML.attach(auto_ml_job_name=auto_ml_job_name)\n",
    "\n",
    "s3_transform_output_path = \"s3://{}/{}/inference-results/\".format(s3_bucket, prefix)\n",
    "\n",
    "model_name = \"{0}-model\".format(best_candidate_name)\n",
    "\n",
    "model = automl.create_model(\n",
    "    name=model_name,\n",
    "    candidate=best_candidate,\n",
    ")\n",
    "\n",
    "output_path = s3_transform_output_path + best_candidate_name + \"/\"\n",
    "\n",
    "transformer = model.transformer(\n",
    "    instance_count=1,\n",
    "    instance_type=\"ml.m5.xlarge\",\n",
    "    assemble_with=\"Line\",\n",
    "    strategy=\"SingleRecord\",\n",
    "    output_path=output_path,\n",
    "    env={\"SAGEMAKER_MODEL_SERVER_TIMEOUT\": \"100\", \"SAGEMAKER_MODEL_SERVER_WORKERS\": \"1\"},\n",
    ")"
   ]
  },
  {
   "cell_type": "code",
   "execution_count": 37,
   "metadata": {},
   "outputs": [
    {
     "data": {
      "text/plain": [
       "'s3://sagemaker-ap-southeast-2-851725470721/sagemaker/autopilot-water-demand-prediction/inference-results/automl-PCDUpperHuttCURo5DtAtIqy5-001-28e10680/'"
      ]
     },
     "execution_count": 37,
     "metadata": {},
     "output_type": "execute_result"
    }
   ],
   "source": [
    "output_path"
   ]
  },
  {
   "cell_type": "code",
   "execution_count": 38,
   "metadata": {},
   "outputs": [
    {
     "data": {
      "text/plain": [
       "'automl-PCDUpperHuttCURo5DtAtIqy5-001-28e10680-model'"
      ]
     },
     "execution_count": 38,
     "metadata": {},
     "output_type": "execute_result"
    }
   ],
   "source": [
    "model_name"
   ]
  },
  {
   "attachments": {},
   "cell_type": "markdown",
   "metadata": {},
   "source": [
    "### Launch Transform Job"
   ]
  },
  {
   "cell_type": "code",
   "execution_count": 39,
   "metadata": {},
   "outputs": [
    {
     "data": {
      "text/html": [
       "<pre style=\"white-space:pre;overflow-x:auto;line-height:normal;font-family:Menlo,'DejaVu Sans Mono',consolas,'Courier New',monospace\"><span style=\"color: #7fbfbf; text-decoration-color: #7fbfbf\">[06/19/25 07:35:07] </span><span style=\"color: #0069ff; text-decoration-color: #0069ff; font-weight: bold\">INFO    </span> Creating transform job with name:                                      <a href=\"file:///opt/conda/lib/python3.11/site-packages/sagemaker/session.py\" target=\"_blank\"><span style=\"color: #7f7f7f; text-decoration-color: #7f7f7f\">session.py</span></a><span style=\"color: #7f7f7f; text-decoration-color: #7f7f7f\">:</span><a href=\"file:///opt/conda/lib/python3.11/site-packages/sagemaker/session.py#3951\" target=\"_blank\"><span style=\"color: #7f7f7f; text-decoration-color: #7f7f7f\">3951</span></a>\n",
       "<span style=\"color: #7fbfbf; text-decoration-color: #7fbfbf\">                    </span>         automl-PCDUpperHuttCURo5DtAtIqy5-<span style=\"color: #008080; text-decoration-color: #008080; font-weight: bold\">001</span>-<span style=\"color: #008080; text-decoration-color: #008080; font-weight: bold\">28</span>-<span style=\"color: #008080; text-decoration-color: #008080; font-weight: bold\">2025</span>-06-19-07-35-07-384        <span style=\"color: #7f7f7f; text-decoration-color: #7f7f7f\">               </span>\n",
       "</pre>\n"
      ],
      "text/plain": [
       "\u001b[2;36m[06/19/25 07:35:07]\u001b[0m\u001b[2;36m \u001b[0m\u001b[1;38;2;0;105;255mINFO    \u001b[0m Creating transform job with name:                                      \u001b]8;id=481091;file:///opt/conda/lib/python3.11/site-packages/sagemaker/session.py\u001b\\\u001b[2msession.py\u001b[0m\u001b]8;;\u001b\\\u001b[2m:\u001b[0m\u001b]8;id=727601;file:///opt/conda/lib/python3.11/site-packages/sagemaker/session.py#3951\u001b\\\u001b[2m3951\u001b[0m\u001b]8;;\u001b\\\n",
       "\u001b[2;36m                    \u001b[0m         automl-PCDUpperHuttCURo5DtAtIqy5-\u001b[1;36m001\u001b[0m-\u001b[1;36m28\u001b[0m-\u001b[1;36m2025\u001b[0m-06-19-07-35-07-384        \u001b[2m               \u001b[0m\n"
      ]
     },
     "metadata": {},
     "output_type": "display_data"
    },
    {
     "name": "stdout",
     "output_type": "stream",
     "text": [
      "Starting transform job automl-PCDUpperHuttCURo5DtAtIqy5-001-28-2025-06-19-07-35-07-384\n"
     ]
    }
   ],
   "source": [
    "transformer.transform(\n",
    "    data=test_data_s3_path,\n",
    "    split_type=\"Line\",\n",
    "    content_type=\"text/csv\",\n",
    "    wait=False,\n",
    "    model_client_config={\"InvocationsTimeoutInSeconds\": 80, \"InvocationsMaxRetries\": 1},\n",
    ")\n",
    "\n",
    "print(\"Starting transform job {}\".format(transformer._current_job_name))"
   ]
  },
  {
   "attachments": {},
   "cell_type": "markdown",
   "metadata": {},
   "source": [
    "#### Track Transform Job Status"
   ]
  },
  {
   "cell_type": "code",
   "execution_count": 40,
   "metadata": {},
   "outputs": [
    {
     "name": "stdout",
     "output_type": "stream",
     "text": [
      "automl-PCDUpperHuttCURo5DtAtIqy5-001-28-2025-06-19-07-35-07-384 transform job is running.\n",
      "automl-PCDUpperHuttCURo5DtAtIqy5-001-28-2025-06-19-07-35-07-384 transform job is running.\n",
      "automl-PCDUpperHuttCURo5DtAtIqy5-001-28-2025-06-19-07-35-07-384 transform job is running.\n",
      "automl-PCDUpperHuttCURo5DtAtIqy5-001-28-2025-06-19-07-35-07-384 transform job is running.\n",
      "automl-PCDUpperHuttCURo5DtAtIqy5-001-28-2025-06-19-07-35-07-384 transform job is running.\n",
      "automl-PCDUpperHuttCURo5DtAtIqy5-001-28-2025-06-19-07-35-07-384 transform job is running.\n",
      "automl-PCDUpperHuttCURo5DtAtIqy5-001-28-2025-06-19-07-35-07-384 transform job is running.\n",
      "automl-PCDUpperHuttCURo5DtAtIqy5-001-28-2025-06-19-07-35-07-384 transform job is running.\n",
      "\n",
      "Completed.\n"
     ]
    }
   ],
   "source": [
    "## Wait for jobs to finish\n",
    "pending_complete = True\n",
    "job_name = transformer._current_job_name\n",
    "\n",
    "while pending_complete:\n",
    "    pending_complete = False\n",
    "\n",
    "    description = sm.describe_transform_job(TransformJobName=job_name)\n",
    "    if description[\"TransformJobStatus\"] not in [\"Failed\", \"Completed\"]:\n",
    "        pending_complete = True\n",
    "\n",
    "    print(\"{} transform job is running.\".format(job_name))\n",
    "    time.sleep(60)\n",
    "\n",
    "print(\"\\nCompleted.\")"
   ]
  },
  {
   "attachments": {},
   "cell_type": "markdown",
   "metadata": {},
   "source": [
    "### Evaluate the Inference Results"
   ]
  },
  {
   "attachments": {},
   "cell_type": "markdown",
   "metadata": {},
   "source": [
    "The transform job will have now generated a CSV file with inference results for the test dataset. We will use those results and compare them with the real test labels to see how the model performs compared to real data."
   ]
  },
  {
   "cell_type": "code",
   "execution_count": 41,
   "metadata": {},
   "outputs": [],
   "source": [
    "def get_csv_from_s3(s3uri, file_name):\n",
    "    parsed_url = urlparse(s3uri)\n",
    "    bucket_name = parsed_url.netloc\n",
    "    prefix = parsed_url.path[1:].strip(\"/\")\n",
    "    s3 = boto3.resource(\"s3\")\n",
    "    obj = s3.Object(bucket_name, \"{}/{}\".format(prefix, file_name))\n",
    "    return obj.get()[\"Body\"].read().decode(\"utf-8\")\n",
    "\n",
    "\n",
    "job_status = sm.describe_transform_job(TransformJobName=job_name)[\"TransformJobStatus\"]\n",
    "\n",
    "if job_status == \"Completed\":\n",
    "    pred_csv = get_csv_from_s3(transformer.output_path, \"{}.out\".format(test_file))\n",
    "    predictions = pd.read_csv(io.StringIO(pred_csv), header=None)"
   ]
  },
  {
   "cell_type": "code",
   "execution_count": 42,
   "metadata": {},
   "outputs": [
    {
     "name": "stdout",
     "output_type": "stream",
     "text": [
      "MSE: 1.7879593498754362e-07\n",
      "RMSE: 0.0004228426834977089\n",
      "R2: 0.9885891896116951\n"
     ]
    }
   ],
   "source": [
    "from sklearn.metrics import mean_squared_error, r2_score\n",
    "from math import sqrt\n",
    "\n",
    "labels_df = test_data[target]\n",
    "mse = mean_squared_error(labels_df, predictions)\n",
    "rmse = sqrt(mse)\n",
    "r2 = r2_score(labels_df, predictions)\n",
    "\n",
    "print(\"MSE: {0}\\nRMSE: {1}\\nR2: {2}\".format(mse, rmse, r2))"
   ]
  },
  {
   "cell_type": "code",
   "execution_count": 43,
   "metadata": {},
   "outputs": [
    {
     "data": {
      "image/png": "[encoded data removed]",
      "text/plain": [
       "<Figure size 640x480 with 1 Axes>"
      ]
     },
     "metadata": {},
     "output_type": "display_data"
    }
   ],
   "source": [
    "import matplotlib.pyplot as plt\n",
    "\n",
    "plt.plot(labels_df.values, label=\"actual\")\n",
    "plt.plot(predictions.values, label=\"pred\")\n",
    "plt.legend()\n",
    "plt.show()"
   ]
  },
  {
   "cell_type": "code",
   "execution_count": 44,
   "metadata": {},
   "outputs": [
    {
     "data": {
      "text/plain": [
       "'automl-PCDUpperHuttCUR'"
      ]
     },
     "execution_count": 44,
     "metadata": {},
     "output_type": "execute_result"
    }
   ],
   "source": [
    "auto_ml_job_name"
   ]
  },
  {
   "cell_type": "markdown",
   "metadata": {},
   "source": [
    "## Load Canvas AutoML model"
   ]
  },
  {
   "cell_type": "code",
   "execution_count": 44,
   "metadata": {},
   "outputs": [],
   "source": [
    "best_candidate_1 = sm.describe_auto_ml_job_v2(AutoMLJobName=\"Canvas1734649444174\")[\"BestCandidate\"]\n",
    "best_candidate_name_1 = best_candidate_1[\"CandidateName\"]"
   ]
  },
  {
   "cell_type": "code",
   "execution_count": 45,
   "metadata": {},
   "outputs": [
    {
     "data": {
      "text/plain": [
       "'Canvas1734649444174-trial-t1-1'"
      ]
     },
     "execution_count": 45,
     "metadata": {},
     "output_type": "execute_result"
    }
   ],
   "source": [
    "best_candidate_name_1"
   ]
  },
  {
   "cell_type": "code",
   "execution_count": 46,
   "metadata": {},
   "outputs": [
    {
     "name": "stdout",
     "output_type": "stream",
     "text": [
      "\n",
      "\n",
      "CandidateName: Canvas1734649444174-trial-t1-1\n",
      "FinalAutoMLJobObjectiveMetricName: R2\n",
      "FinalAutoMLJobObjectiveMetricValue: 0.4568800628185272\n",
      "\n",
      "Best candidate details:: {'CandidateName': 'Canvas1734649444174-trial-t1-1', 'FinalAutoMLJobObjectiveMetric': {'Type': 'Maximize', 'MetricName': 'R2', 'Value': 0.4568800628185272, 'StandardMetricName': 'R2'}, 'ObjectiveStatus': 'Succeeded', 'CandidateSteps': [{'CandidateStepType': 'AWS::SageMaker::TrainingJob', 'CandidateStepArn': 'arn:aws:sagemaker:ap-southeast-2:851725470721:training-job/Canvas1734649444174-t1-1-ab13d1607d2f468b800d6fb265b8d19f9c1cca', 'CandidateStepName': 'Canvas1734649444174-t1-1-ab13d1607d2f468b800d6fb265b8d19f9c1cca'}], 'CandidateStatus': 'Completed', 'InferenceContainers': [{'Image': '763104351884.dkr.ecr.ap-southeast-2.amazonaws.com/autogluon-inference:0.4.3-cpu-py38-ubuntu20.04', 'ModelDataUrl': 's3://sagemaker-ap-southeast-2-851725470721/Canvas/default-20240711t130962/Training/output/Canvas1734649444174/sagemaker-automl-candidates/model/Canvas1734649444174-trial-t1-1/model.tar.gz', 'Environment': {'SAGEMAKER_DEFAULT_INVOCATIONS_ACCEPT': 'text/csv', 'SAGEMAKER_INFERENCE_OUTPUT': 'predicted_label', 'SAGEMAKER_INFERENCE_SUPPORTED': 'predicted_label', 'SAGEMAKER_PROGRAM': 'tabular_serve.py', 'SAGEMAKER_SUBMIT_DIRECTORY': '/opt/ml/model/code'}}], 'CreationTime': datetime.datetime(2024, 12, 19, 23, 4, 6, 432000, tzinfo=tzlocal()), 'EndTime': datetime.datetime(2024, 12, 19, 23, 6, 27, 505000, tzinfo=tzlocal()), 'LastModifiedTime': datetime.datetime(2024, 12, 19, 23, 6, 34, 913000, tzinfo=tzlocal()), 'CandidateProperties': {'CandidateArtifactLocations': {'Explainability': 's3://sagemaker-ap-southeast-2-851725470721/Canvas/default-20240711t130962/Training/output/Canvas1734649444174/documentation/explainability/output/Canvas1734649444174-trial-t1-1', 'ModelInsights': 's3://sagemaker-ap-southeast-2-851725470721/Canvas/default-20240711t130962/Training/output/Canvas1734649444174/documentation/model_monitor/output/Canvas1734649444174-trial-t1-1'}, 'CandidateMetrics': [{'MetricName': 'RMSE', 'Value': 22.87061882019043, 'StandardMetricName': 'RMSE'}, {'MetricName': 'MSE', 'Value': 523.0652465820312, 'StandardMetricName': 'MSE'}, {'MetricName': 'MAE', 'Value': 17.76683235168457, 'StandardMetricName': 'MAE'}, {'MetricName': 'R2', 'Value': 0.4568800628185272, 'StandardMetricName': 'R2'}]}}\n"
     ]
    }
   ],
   "source": [
    "print(\"\\n\")\n",
    "print(\"CandidateName: \" + best_candidate_name_1)\n",
    "print(\n",
    "    \"FinalAutoMLJobObjectiveMetricName: \"\n",
    "    + best_candidate_1[\"FinalAutoMLJobObjectiveMetric\"][\"MetricName\"]\n",
    ")\n",
    "print(\n",
    "    \"FinalAutoMLJobObjectiveMetricValue: \"\n",
    "    + str(best_candidate_1[\"FinalAutoMLJobObjectiveMetric\"][\"Value\"])\n",
    ")\n",
    "print(\"\\nBest candidate details:: \" + str(best_candidate_1))"
   ]
  },
  {
   "cell_type": "code",
   "execution_count": 64,
   "metadata": {
    "collapsed": true,
    "jupyter": {
     "outputs_hidden": true
    }
   },
   "outputs": [
    {
     "data": {
      "text/plain": [
       "{'AutoMLJobName': 'Canvas1734649444174',\n",
       " 'AutoMLJobArn': 'arn:aws:sagemaker:ap-southeast-2:851725470721:automl-job/Canvas1734649444174',\n",
       " 'AutoMLJobInputDataConfig': [{'ChannelType': 'training',\n",
       "   'ContentType': 'text/csv;header=present',\n",
       "   'CompressionType': 'None',\n",
       "   'DataSource': {'S3DataSource': {'S3DataType': 'S3Prefix',\n",
       "     'S3Uri': 's3://sagemaker-ap-southeast-2-851725470721/Canvas/default-20240711t130962/Datasets/80a35559-74dc-4851-ba61-032d4f3da5cf/1734649432.707784'}}}],\n",
       " 'OutputDataConfig': {'S3OutputPath': 's3://sagemaker-ap-southeast-2-851725470721/Canvas/default-20240711t130962/Training/output/'},\n",
       " 'RoleArn': 'arn:aws:iam::851725470721:role/service-role/AmazonSageMaker-ExecutionRole-20240711T130963',\n",
       " 'AutoMLJobObjective': {'MetricName': 'R2'},\n",
       " 'AutoMLProblemTypeConfig': {'TabularJobConfig': {'CandidateGenerationConfig': {},\n",
       "   'CompletionCriteria': {'MaxCandidates': 1},\n",
       "   'FeatureSpecificationS3Uri': 's3://sagemaker-ap-southeast-2-851725470721/Canvas/default-20240711t130962/Training/Canvas1734649444191/feature_specification.json',\n",
       "   'Mode': 'ENSEMBLING',\n",
       "   'GenerateCandidateDefinitionsOnly': False,\n",
       "   'ProblemType': 'Regression',\n",
       "   'TargetAttributeName': 'North Wellington Moa'}},\n",
       " 'AutoMLProblemTypeConfigName': 'Tabular',\n",
       " 'CreationTime': datetime.datetime(2024, 12, 19, 23, 4, 4, 314000, tzinfo=tzlocal()),\n",
       " 'EndTime': datetime.datetime(2024, 12, 19, 23, 6, 35, 693000, tzinfo=tzlocal()),\n",
       " 'LastModifiedTime': datetime.datetime(2024, 12, 19, 23, 6, 35, 726000, tzinfo=tzlocal()),\n",
       " 'BestCandidate': {'CandidateName': 'Canvas1734649444174-trial-t1-1',\n",
       "  'FinalAutoMLJobObjectiveMetric': {'Type': 'Maximize',\n",
       "   'MetricName': 'R2',\n",
       "   'Value': 0.4568800628185272,\n",
       "   'StandardMetricName': 'R2'},\n",
       "  'ObjectiveStatus': 'Succeeded',\n",
       "  'CandidateSteps': [{'CandidateStepType': 'AWS::SageMaker::TrainingJob',\n",
       "    'CandidateStepArn': 'arn:aws:sagemaker:ap-southeast-2:851725470721:training-job/Canvas1734649444174-t1-1-ab13d1607d2f468b800d6fb265b8d19f9c1cca',\n",
       "    'CandidateStepName': 'Canvas1734649444174-t1-1-ab13d1607d2f468b800d6fb265b8d19f9c1cca'}],\n",
       "  'CandidateStatus': 'Completed',\n",
       "  'InferenceContainers': [{'Image': '763104351884.dkr.ecr.ap-southeast-2.amazonaws.com/autogluon-inference:0.4.3-cpu-py38-ubuntu20.04',\n",
       "    'ModelDataUrl': 's3://sagemaker-ap-southeast-2-851725470721/Canvas/default-20240711t130962/Training/output/Canvas1734649444174/sagemaker-automl-candidates/model/Canvas1734649444174-trial-t1-1/model.tar.gz',\n",
       "    'Environment': {'SAGEMAKER_DEFAULT_INVOCATIONS_ACCEPT': 'text/csv',\n",
       "     'SAGEMAKER_INFERENCE_OUTPUT': 'predicted_label',\n",
       "     'SAGEMAKER_INFERENCE_SUPPORTED': 'predicted_label',\n",
       "     'SAGEMAKER_PROGRAM': 'tabular_serve.py',\n",
       "     'SAGEMAKER_SUBMIT_DIRECTORY': '/opt/ml/model/code'}}],\n",
       "  'CreationTime': datetime.datetime(2024, 12, 19, 23, 4, 6, 432000, tzinfo=tzlocal()),\n",
       "  'EndTime': datetime.datetime(2024, 12, 19, 23, 6, 27, 505000, tzinfo=tzlocal()),\n",
       "  'LastModifiedTime': datetime.datetime(2024, 12, 19, 23, 6, 34, 913000, tzinfo=tzlocal()),\n",
       "  'CandidateProperties': {'CandidateArtifactLocations': {'Explainability': 's3://sagemaker-ap-southeast-2-851725470721/Canvas/default-20240711t130962/Training/output/Canvas1734649444174/documentation/explainability/output/Canvas1734649444174-trial-t1-1',\n",
       "    'ModelInsights': 's3://sagemaker-ap-southeast-2-851725470721/Canvas/default-20240711t130962/Training/output/Canvas1734649444174/documentation/model_monitor/output/Canvas1734649444174-trial-t1-1'},\n",
       "   'CandidateMetrics': [{'MetricName': 'RMSE',\n",
       "     'Value': 22.87061882019043,\n",
       "     'StandardMetricName': 'RMSE'},\n",
       "    {'MetricName': 'MSE',\n",
       "     'Value': 523.0652465820312,\n",
       "     'StandardMetricName': 'MSE'},\n",
       "    {'MetricName': 'MAE',\n",
       "     'Value': 17.76683235168457,\n",
       "     'StandardMetricName': 'MAE'},\n",
       "    {'MetricName': 'R2',\n",
       "     'Value': 0.4568800628185272,\n",
       "     'StandardMetricName': 'R2'}]}},\n",
       " 'AutoMLJobStatus': 'Completed',\n",
       " 'AutoMLJobSecondaryStatus': 'Completed',\n",
       " 'AutoMLJobArtifacts': {'CandidateDefinitionNotebookLocation': 's3://sagemaker-ap-southeast-2-851725470721/Canvas/default-20240711t130962/Training/output/Canvas1734649444174/sagemaker-automl-candidates/notebooks/SageMakerAutopilotCandidateDefinitionNotebook.ipynb'},\n",
       " 'SecurityConfig': {'EnableInterContainerTrafficEncryption': True},\n",
       " 'ResponseMetadata': {'RequestId': 'd38ce8d8-c9e8-4b66-8ba5-bdbb57b8075c',\n",
       "  'HTTPStatusCode': 200,\n",
       "  'HTTPHeaders': {'x-amzn-requestid': 'd38ce8d8-c9e8-4b66-8ba5-bdbb57b8075c',\n",
       "   'content-type': 'application/x-amz-json-1.1',\n",
       "   'content-length': '3699',\n",
       "   'date': 'Fri, 17 Jan 2025 03:20:17 GMT'},\n",
       "  'RetryAttempts': 0}}"
      ]
     },
     "execution_count": 64,
     "metadata": {},
     "output_type": "execute_result"
    }
   ],
   "source": [
    "response"
   ]
  },
  {
   "cell_type": "code",
   "execution_count": 63,
   "metadata": {
    "collapsed": true,
    "jupyter": {
     "outputs_hidden": true
    }
   },
   "outputs": [
    {
     "data": {
      "text/plain": [
       "{'CandidateName': 'Canvas1734649444174-trial-t1-1',\n",
       " 'FinalAutoMLJobObjectiveMetric': {'Type': 'Maximize',\n",
       "  'MetricName': 'R2',\n",
       "  'Value': 0.4568800628185272,\n",
       "  'StandardMetricName': 'R2'},\n",
       " 'ObjectiveStatus': 'Succeeded',\n",
       " 'CandidateSteps': [{'CandidateStepType': 'AWS::SageMaker::TrainingJob',\n",
       "   'CandidateStepArn': 'arn:aws:sagemaker:ap-southeast-2:851725470721:training-job/Canvas1734649444174-t1-1-ab13d1607d2f468b800d6fb265b8d19f9c1cca',\n",
       "   'CandidateStepName': 'Canvas1734649444174-t1-1-ab13d1607d2f468b800d6fb265b8d19f9c1cca'}],\n",
       " 'CandidateStatus': 'Completed',\n",
       " 'InferenceContainers': [{'Image': '763104351884.dkr.ecr.ap-southeast-2.amazonaws.com/autogluon-inference:0.4.3-cpu-py38-ubuntu20.04',\n",
       "   'ModelDataUrl': 's3://sagemaker-ap-southeast-2-851725470721/Canvas/default-20240711t130962/Training/output/Canvas1734649444174/sagemaker-automl-candidates/model/Canvas1734649444174-trial-t1-1/model.tar.gz',\n",
       "   'Environment': {'SAGEMAKER_DEFAULT_INVOCATIONS_ACCEPT': 'text/csv',\n",
       "    'SAGEMAKER_INFERENCE_OUTPUT': 'predicted_label',\n",
       "    'SAGEMAKER_INFERENCE_SUPPORTED': 'predicted_label',\n",
       "    'SAGEMAKER_PROGRAM': 'tabular_serve.py',\n",
       "    'SAGEMAKER_SUBMIT_DIRECTORY': '/opt/ml/model/code'}}],\n",
       " 'CreationTime': datetime.datetime(2024, 12, 19, 23, 4, 6, 432000, tzinfo=tzlocal()),\n",
       " 'EndTime': datetime.datetime(2024, 12, 19, 23, 6, 27, 505000, tzinfo=tzlocal()),\n",
       " 'LastModifiedTime': datetime.datetime(2024, 12, 19, 23, 6, 34, 913000, tzinfo=tzlocal()),\n",
       " 'CandidateProperties': {'CandidateArtifactLocations': {'Explainability': 's3://sagemaker-ap-southeast-2-851725470721/Canvas/default-20240711t130962/Training/output/Canvas1734649444174/documentation/explainability/output/Canvas1734649444174-trial-t1-1',\n",
       "   'ModelInsights': 's3://sagemaker-ap-southeast-2-851725470721/Canvas/default-20240711t130962/Training/output/Canvas1734649444174/documentation/model_monitor/output/Canvas1734649444174-trial-t1-1'},\n",
       "  'CandidateMetrics': [{'MetricName': 'RMSE',\n",
       "    'Value': 22.87061882019043,\n",
       "    'StandardMetricName': 'RMSE'},\n",
       "   {'MetricName': 'MSE',\n",
       "    'Value': 523.0652465820312,\n",
       "    'StandardMetricName': 'MSE'},\n",
       "   {'MetricName': 'MAE',\n",
       "    'Value': 17.76683235168457,\n",
       "    'StandardMetricName': 'MAE'},\n",
       "   {'MetricName': 'R2',\n",
       "    'Value': 0.4568800628185272,\n",
       "    'StandardMetricName': 'R2'}]}}"
      ]
     },
     "execution_count": 63,
     "metadata": {},
     "output_type": "execute_result"
    }
   ],
   "source": [
    "best_candidate_1"
   ]
  },
  {
   "cell_type": "code",
   "execution_count": 70,
   "metadata": {},
   "outputs": [
    {
     "data": {
      "text/plain": [
       "'niwa-water-demand-modelling'"
      ]
     },
     "execution_count": 70,
     "metadata": {},
     "output_type": "execute_result"
    }
   ],
   "source": [
    "bucket_name"
   ]
  },
  {
   "cell_type": "code",
   "execution_count": 72,
   "metadata": {},
   "outputs": [
    {
     "data": {
      "text/plain": [
       "'Canvas1734649444174-trial-t1-1'"
      ]
     },
     "execution_count": 72,
     "metadata": {},
     "output_type": "execute_result"
    }
   ],
   "source": [
    "best_candidate_name_1"
   ]
  },
  {
   "cell_type": "code",
   "execution_count": 73,
   "metadata": {},
   "outputs": [
    {
     "data": {
      "text/plain": [
       "[{'Image': '763104351884.dkr.ecr.ap-southeast-2.amazonaws.com/autogluon-inference:0.4.3-cpu-py38-ubuntu20.04',\n",
       "  'ModelDataUrl': 's3://sagemaker-ap-southeast-2-851725470721/Canvas/default-20240711t130962/Training/output/Canvas1734649444174/sagemaker-automl-candidates/model/Canvas1734649444174-trial-t1-1/model.tar.gz',\n",
       "  'Environment': {'SAGEMAKER_DEFAULT_INVOCATIONS_ACCEPT': 'text/csv',\n",
       "   'SAGEMAKER_INFERENCE_OUTPUT': 'predicted_label',\n",
       "   'SAGEMAKER_INFERENCE_SUPPORTED': 'predicted_label',\n",
       "   'SAGEMAKER_PROGRAM': 'tabular_serve.py',\n",
       "   'SAGEMAKER_SUBMIT_DIRECTORY': '/opt/ml/model/code'}}]"
      ]
     },
     "execution_count": 73,
     "metadata": {},
     "output_type": "execute_result"
    }
   ],
   "source": [
    "best_candidate_1['InferenceContainers']"
   ]
  },
  {
   "cell_type": "code",
   "execution_count": 74,
   "metadata": {},
   "outputs": [
    {
     "name": "stderr",
     "output_type": "stream",
     "text": [
      "INFO:botocore.credentials:Found credentials in shared credentials file: ~/.aws/credentials\n"
     ]
    }
   ],
   "source": [
    "import sagemaker\n",
    "import boto3\n",
    "# from sagemaker.model import Model\n",
    "from sagemaker import get_execution_role\n",
    "from time import gmtime, strftime, sleep\n",
    "\n",
    "role = get_execution_role()\n",
    "region = boto3.Session().region_name\n",
    "\n",
    "# Initialize the SageMaker client\n",
    "sagemaker_client = boto3.client('sagemaker')\n",
    "\n",
    "# This is the client we will use to interact with SageMaker Autopilot\n",
    "sm = boto3.Session().client(service_name=\"sagemaker\", region_name=region)\n",
    "\n",
    "# Describe the AutoML job using the V2 API\n",
    "auto_ml_job_name_1 = \"Canvas1734649444174\"\n",
    "response = sagemaker_client.describe_auto_ml_job_v2(AutoMLJobName=auto_ml_job_name_1)\n",
    "\n",
    "# Extract the best candidate details\n",
    "best_candidate_1 = response['BestCandidate']\n",
    "best_candidate_name_1 = best_candidate_1['CandidateName']\n",
    "model_artifacts_1 = best_candidate_1['InferenceContainers'][0]['ModelDataUrl']\n",
    "image_uri_1 = best_candidate_1['InferenceContainers'][0]['Image']\n",
    "best_candidate_containers = best_candidate_1['InferenceContainers'] \n",
    "\n",
    "reponse = sm.create_model(\n",
    "    ModelName = best_candidate_name_1,\n",
    "    ExecutionRoleArn = role,\n",
    "    Containers = best_candidate_containers\n",
    ")\n"
   ]
  },
  {
   "cell_type": "code",
   "execution_count": 75,
   "metadata": {},
   "outputs": [
    {
     "data": {
      "text/plain": [
       "{'ModelArn': 'arn:aws:sagemaker:ap-southeast-2:851725470721:model/Canvas1734649444174-trial-t1-1',\n",
       " 'ResponseMetadata': {'RequestId': 'b8658ee9-09da-44f8-82c7-4cae4e577aad',\n",
       "  'HTTPStatusCode': 200,\n",
       "  'HTTPHeaders': {'x-amzn-requestid': 'b8658ee9-09da-44f8-82c7-4cae4e577aad',\n",
       "   'content-type': 'application/x-amz-json-1.1',\n",
       "   'content-length': '97',\n",
       "   'date': 'Fri, 17 Jan 2025 05:04:08 GMT'},\n",
       "  'RetryAttempts': 0}}"
      ]
     },
     "execution_count": 75,
     "metadata": {},
     "output_type": "execute_result"
    }
   ],
   "source": [
    "reponse"
   ]
  },
  {
   "cell_type": "code",
   "execution_count": 104,
   "metadata": {},
   "outputs": [
    {
     "name": "stdout",
     "output_type": "stream",
     "text": [
      "s3://niwa-water-demand-modelling/NorthWellingtonMoa/North Wellington Moa.csv\n"
     ]
    }
   ],
   "source": [
    "import boto3\n",
    "from io import StringIO\n",
    "\n",
    "# Initialize the S3 client\n",
    "s3 = boto3.client('s3')\n",
    "\n",
    "# Define the S3 bucket and prefix\n",
    "bucket_name = 'niwa-water-demand-modelling'\n",
    "prefix = 'Simulation/'\n",
    "\n",
    "# List objects in the specified S3 path\n",
    "response = s3.list_objects_v2(Bucket=bucket_name, Prefix=prefix)\n",
    "\n",
    "# Loop through the objects and look for CSV files containing \"Final_\"\n",
    "csv_files = []\n",
    "for obj in response.get('Contents', []):\n",
    "    key = obj['Key']\n",
    "    if 'Final_' in key and key.endswith('.csv'):\n",
    "        csv_files.append(key)\n",
    "\n",
    "# Print the list of CSV files\n",
    "# for csv_file in csv_files:\n",
    "# for csv_file in [\"Simulation/Final_HydroClimaticFile_ACCESS-CM2_ssp370/NorthWellingtonMoa/North Wellington Moa.csv\"]:\n",
    "for csv_file in ['NorthWellingtonMoa/North Wellington Moa.csv']:\n",
    "    print(f\"s3://{bucket_name}/{csv_file}\")\n",
    "    obj = s3.get_object(Bucket=bucket_name, Key=csv_file)\n",
    "    # Read the CSV file content\n",
    "    data = obj['Body'].read().decode('utf-8')\n",
    "    # Convert to DataFrame\n",
    "    df = pd.read_csv(StringIO(data))\n",
    "    target = csv_file.split(\"/\")[-1].split(\".csv\")[0]\n",
    "    columns = [e for e in df.columns if e not in [\"Date\", target, \"replicate\"]]\n",
    "    # Convert the DataFrame to a CSV string\n",
    "    csv_buffer = StringIO()\n",
    "    df[columns].to_csv(csv_buffer, index=False, header=False)\n",
    "    # Upload the CSV string to S3\n",
    "    file_name = csv_file.split(\"/\")[-1]\n",
    "    object_key = f\"TransformedInputs/batch_transform/input/{file_name}\"\n",
    "    s3.put_object(Bucket=bucket_name, Key=object_key, Body=csv_buffer.getvalue())\n"
   ]
  },
  {
   "cell_type": "code",
   "execution_count": 105,
   "metadata": {},
   "outputs": [
    {
     "data": {
      "text/plain": [
       "Date                            object\n",
       "doy                              int64\n",
       "Aquifer                        float64\n",
       "PE                               int64\n",
       "month                            int64\n",
       "mday                             int64\n",
       "is_holiday                       int64\n",
       "wday                             int64\n",
       "API                            float64\n",
       "lagAPI                         float64\n",
       "Tmax                             int64\n",
       "Tmaxlag1                       float64\n",
       "Sun                            float64\n",
       "Sunlag1                        float64\n",
       "WVRain                         float64\n",
       "KerburnRain                      int64\n",
       "Rain_L7DAYS                    float64\n",
       "Rain_L6DAYS                    float64\n",
       "Rain_L5DAYS                    float64\n",
       "Rain_L4DAYS                    float64\n",
       "Rain_L3DAYS                    float64\n",
       "Rain_L2DAYS                    float64\n",
       "Season                           int64\n",
       "Rainlag1                       float64\n",
       "Rainlag2                       float64\n",
       "Rainlag3                       float64\n",
       "PElag1                         float64\n",
       "PElag2                         float64\n",
       "PElag3                         float64\n",
       "ANcyc                          float64\n",
       "storage                        float64\n",
       "Storagelag1                    float64\n",
       "North Wellington Moa fTemp     float64\n",
       "North Wellington Moa fPrecp    float64\n",
       "North Wellington Moa cm        float64\n",
       "North Wellington Moa stat        int64\n",
       "North Wellington Moa           float64\n",
       "Restriction level              float64\n",
       "dtype: object"
      ]
     },
     "execution_count": 105,
     "metadata": {},
     "output_type": "execute_result"
    }
   ],
   "source": [
    "df.dtypes"
   ]
  },
  {
   "cell_type": "code",
   "execution_count": 14,
   "metadata": {},
   "outputs": [
    {
     "name": "stdout",
     "output_type": "stream",
     "text": [
      "BatchTransformJob: Canvas1734649444174-trial-t1-1-20250121-003918\n"
     ]
    }
   ],
   "source": [
    "# Create a SageMaker session\n",
    "sagemaker_session = sagemaker.Session()\n",
    "\n",
    "timestamp_suffix = strftime(\"%Y%m%d-%H%M%S\", gmtime())\n",
    "transform_job_name=f'{best_candidate_name}-' + timestamp_suffix\n",
    "print(\"BatchTransformJob: \" + transform_job_name)\n",
    "\n",
    "input_prefix = \"TransformedInputs\"\n",
    "output_prefix = \"TrainingDataInference\"\n",
    "\n",
    "response = sm.create_transform_job(\n",
    "    TransformJobName=transform_job_name, \n",
    "    ModelName=best_candidate_name,\n",
    "    MaxPayloadInMB=100,\n",
    "    ModelClientConfig={\n",
    "        'InvocationsTimeoutInSeconds': 3600\n",
    "    },\n",
    "    TransformInput={\n",
    "        'DataSource': {\n",
    "            'S3DataSource': {\n",
    "                'S3DataType': 'S3Prefix',\n",
    "                'S3Uri': 's3://{}/{}/batch_transform/input'.format(bucket_name, input_prefix)\n",
    "            }\n",
    "        },\n",
    "        'ContentType': 'text/csv',\n",
    "        'SplitType': 'Line'\n",
    "    },\n",
    "    TransformOutput={\n",
    "        'S3OutputPath': 's3://{}/{}/batch_transform/output/'.format(bucket_name, output_prefix),\n",
    "        'AssembleWith': 'Line',\n",
    "    },\n",
    "    TransformResources={\n",
    "        'InstanceType': 'ml.c5.4xlarge',#'ml.m5.12xlarge',\n",
    "        'InstanceCount': 1\n",
    "    }\n",
    "    )"
   ]
  },
  {
   "cell_type": "code",
   "execution_count": 15,
   "metadata": {},
   "outputs": [
    {
     "name": "stdout",
     "output_type": "stream",
     "text": [
      "2025-01-21 00:39:22.589267 InProgress\n",
      "2025-01-21 00:40:22.707896 InProgress\n",
      "2025-01-21 00:41:22.839579 InProgress\n",
      "2025-01-21 00:42:22.961887 InProgress\n",
      "2025-01-21 00:43:23.087095 InProgress\n",
      "2025-01-21 00:44:23.209799 Completed\n"
     ]
    }
   ],
   "source": [
    "import datetime\n",
    "\n",
    "describe_response = sm.describe_transform_job(TransformJobName=transform_job_name)\n",
    "\n",
    "job_run_status = describe_response[\"TransformJobStatus\"]\n",
    "\n",
    "while job_run_status not in (\"Failed\", \"Completed\", \"Stopped\"):\n",
    "    describe_response = sm.describe_transform_job(TransformJobName=transform_job_name)\n",
    "    job_run_status = describe_response[\"TransformJobStatus\"]\n",
    "\n",
    "    print(\n",
    "       datetime.datetime.now(), describe_response[\"TransformJobStatus\"]\n",
    "    )\n",
    "    sleep(60)"
   ]
  },
  {
   "cell_type": "code",
   "execution_count": 91,
   "metadata": {
    "collapsed": true,
    "jupyter": {
     "outputs_hidden": true
    }
   },
   "outputs": [
    {
     "data": {
      "text/plain": [
       "{'TransformJobName': 'Canvas1734649444174-trial-t1-1-20250117-060821',\n",
       " 'TransformJobArn': 'arn:aws:sagemaker:ap-southeast-2:851725470721:transform-job/Canvas1734649444174-trial-t1-1-20250117-060821',\n",
       " 'TransformJobStatus': 'Failed',\n",
       " 'FailureReason': 'ClientError: See job logs for more information',\n",
       " 'ModelName': 'Canvas1734649444174-trial-t1-1',\n",
       " 'ModelClientConfig': {'InvocationsTimeoutInSeconds': 3600},\n",
       " 'MaxPayloadInMB': 20,\n",
       " 'TransformInput': {'DataSource': {'S3DataSource': {'S3DataType': 'S3Prefix',\n",
       "    'S3Uri': 's3://niwa-water-demand-modelling/TransformedInputs/Simulation/Final_HydroClimaticFile_ACCESS-CM2_ssp370/NorthWellingtonMoa/'}},\n",
       "  'ContentType': 'text/csv',\n",
       "  'CompressionType': 'None',\n",
       "  'SplitType': 'None'},\n",
       " 'TransformOutput': {'S3OutputPath': 's3://niwa-water-demand-modelling/TrainingDataInference/',\n",
       "  'AssembleWith': 'Line',\n",
       "  'KmsKeyId': ''},\n",
       " 'TransformResources': {'InstanceType': 'ml.c5.4xlarge', 'InstanceCount': 1},\n",
       " 'CreationTime': datetime.datetime(2025, 1, 17, 6, 8, 21, 552000, tzinfo=tzlocal()),\n",
       " 'TransformStartTime': datetime.datetime(2025, 1, 17, 6, 11, 22, 457000, tzinfo=tzlocal()),\n",
       " 'TransformEndTime': datetime.datetime(2025, 1, 17, 6, 13, 24, 81000, tzinfo=tzlocal()),\n",
       " 'DataProcessing': {'InputFilter': '$',\n",
       "  'OutputFilter': '$',\n",
       "  'JoinSource': 'None'},\n",
       " 'ResponseMetadata': {'RequestId': '0fc6b406-06e0-4e47-8b3e-1aa9bf8d8c6e',\n",
       "  'HTTPStatusCode': 200,\n",
       "  'HTTPHeaders': {'x-amzn-requestid': '0fc6b406-06e0-4e47-8b3e-1aa9bf8d8c6e',\n",
       "   'content-type': 'application/x-amz-json-1.1',\n",
       "   'content-length': '1074',\n",
       "   'date': 'Fri, 17 Jan 2025 06:14:23 GMT'},\n",
       "  'RetryAttempts': 0}}"
      ]
     },
     "execution_count": 91,
     "metadata": {},
     "output_type": "execute_result"
    }
   ],
   "source": [
    "describe_response"
   ]
  },
  {
   "cell_type": "markdown",
   "metadata": {},
   "source": [
    "# Use models already trained Canvas for Inference"
   ]
  },
  {
   "cell_type": "markdown",
   "metadata": {},
   "source": [
    "## data prep, find simulation folders, find site folders under the respective simulation folder"
   ]
  },
  {
   "cell_type": "code",
   "execution_count": 4,
   "metadata": {},
   "outputs": [],
   "source": [
    "import boto3\n",
    "from io import StringIO\n",
    "\n",
    "# Initialize the S3 client\n",
    "s3 = boto3.client('s3')\n",
    "\n",
    "# Define the S3 bucket and prefix\n",
    "bucket_name = 'niwa-water-demand-modelling'\n",
    "prefix = 'Simulation/'\n",
    "\n",
    "# List objects in the specified S3 path\n",
    "response = s3.list_objects_v2(Bucket=bucket_name, Prefix=prefix)\n",
    "\n",
    "# Loop through the objects and look for CSV files containing \"Final_\"\n",
    "csv_files = []\n",
    "for obj in response.get('Contents', []):\n",
    "    key = obj['Key']\n",
    "    if 'Final_' in key and key.endswith('.csv'):\n",
    "        csv_files.append(key)\n"
   ]
  },
  {
   "cell_type": "code",
   "execution_count": 3,
   "metadata": {},
   "outputs": [],
   "source": [
    "auto_ml_job_dict = {\n",
    "    'NorthWellingtonMoa': 'Canvas1734649444174',\n",
    "    'WellingtonLowLevel': 'Canvas1734648978161',\n",
    "    'Petone': 'Canvas1733434154045',\n",
    "    'WellingtonHighWestern': 'Canvas1733085655509',\n",
    "    'WellingtonHighMoa': 'Canvas1733372214860',\n",
    "    'NorthWellingtonPorirua': 'Canvas1733369877242',\n",
    "    'Porirua': 'Canvas1733437572452',\n",
    "    'Wainuiomata': 'Canvas1734649248674',\n",
    "    'UpperHutt': 'Canvas1734649294393',\n",
    "    'LowerHutt': 'Canvas1734649384856'\n",
    "}"
   ]
  },
  {
   "cell_type": "code",
   "execution_count": 8,
   "metadata": {},
   "outputs": [
    {
     "data": {
      "text/plain": [
       "[('NorthWellingtonMoa', 'Canvas1734649444174'),\n",
       " ('WellingtonLowLevel', 'Canvas1734648978161'),\n",
       " ('Petone', 'Canvas1733434154045'),\n",
       " ('WellingtonHighWestern', 'Canvas1733085655509'),\n",
       " ('WellingtonHighMoa', 'Canvas1733372214860'),\n",
       " ('NorthWellingtonPorirua', 'Canvas1733369877242'),\n",
       " ('Porirua', 'Canvas1733437572452'),\n",
       " ('Wainuiomata', 'Canvas1734649248674'),\n",
       " ('UpperHutt', 'Canvas1734649294393'),\n",
       " ('LowerHutt', 'Canvas1734649384856')]"
      ]
     },
     "execution_count": 8,
     "metadata": {},
     "output_type": "execute_result"
    }
   ],
   "source": [
    "list(auto_ml_job_dict.items())"
   ]
  },
  {
   "cell_type": "markdown",
   "metadata": {},
   "source": [
    "## create model first using autoML job_id saved in the auto_ml_job_list"
   ]
  },
  {
   "cell_type": "code",
   "execution_count": 1,
   "metadata": {},
   "outputs": [
    {
     "name": "stdout",
     "output_type": "stream",
     "text": [
      "sagemaker.config INFO - Not applying SDK defaults from location: /etc/xdg/sagemaker/config.yaml\n",
      "sagemaker.config INFO - Not applying SDK defaults from location: /home/sagemaker-user/.config/sagemaker/config.yaml\n"
     ]
    },
    {
     "ename": "NameError",
     "evalue": "name 'auto_ml_job_dict' is not defined",
     "output_type": "error",
     "traceback": [
      "\u001b[0;31m---------------------------------------------------------------------------\u001b[0m",
      "\u001b[0;31mNameError\u001b[0m                                 Traceback (most recent call last)",
      "Cell \u001b[0;32mIn[1], line 22\u001b[0m\n\u001b[1;32m     19\u001b[0m \u001b[38;5;66;03m# This is the client we will use to interact with SageMaker Autopilot\u001b[39;00m\n\u001b[1;32m     20\u001b[0m sm \u001b[38;5;241m=\u001b[39m boto3\u001b[38;5;241m.\u001b[39mSession()\u001b[38;5;241m.\u001b[39mclient(service_name\u001b[38;5;241m=\u001b[39m\u001b[38;5;124m\"\u001b[39m\u001b[38;5;124msagemaker\u001b[39m\u001b[38;5;124m\"\u001b[39m, region_name\u001b[38;5;241m=\u001b[39mregion)\n\u001b[0;32m---> 22\u001b[0m \u001b[38;5;28;01mfor\u001b[39;00m site_name, auto_ml_job_name \u001b[38;5;129;01min\u001b[39;00m \u001b[38;5;28mlist\u001b[39m(\u001b[43mauto_ml_job_dict\u001b[49m\u001b[38;5;241m.\u001b[39mitems())[\u001b[38;5;241m0\u001b[39m:\u001b[38;5;241m1\u001b[39m]:\n\u001b[1;32m     23\u001b[0m     \u001b[38;5;66;03m# Describe the AutoML job using the V2 API\u001b[39;00m\n\u001b[1;32m     24\u001b[0m     \u001b[38;5;66;03m# auto_ml_job_name_1 = \"Canvas1734649444174\"\u001b[39;00m\n\u001b[1;32m     25\u001b[0m     response \u001b[38;5;241m=\u001b[39m sagemaker_client\u001b[38;5;241m.\u001b[39mdescribe_auto_ml_job_v2(AutoMLJobName\u001b[38;5;241m=\u001b[39mauto_ml_job_name)\n\u001b[1;32m     27\u001b[0m     \u001b[38;5;66;03m# Extract the best candidate details\u001b[39;00m\n",
      "\u001b[0;31mNameError\u001b[0m: name 'auto_ml_job_dict' is not defined"
     ]
    }
   ],
   "source": [
    "import sagemaker\n",
    "import boto3\n",
    "import datetime\n",
    "from io import StringIO\n",
    "import io\n",
    "import pandas as pd\n",
    "import numpy as np\n",
    "# from sagemaker.model import Model\n",
    "from sagemaker import get_execution_role\n",
    "from time import gmtime, strftime, sleep\n",
    "from botocore.exceptions import ClientError\n",
    "\n",
    "role = get_execution_role()\n",
    "region = boto3.Session().region_name\n",
    "\n",
    "# Initialize the SageMaker client\n",
    "sagemaker_client = boto3.client('sagemaker')\n",
    "\n",
    "# This is the client we will use to interact with SageMaker Autopilot\n",
    "sm = boto3.Session().client(service_name=\"sagemaker\", region_name=region)\n",
    "\n",
    "for site_name, auto_ml_job_name in list(auto_ml_job_dict.items())[0:1]:\n",
    "    # Describe the AutoML job using the V2 API\n",
    "    # auto_ml_job_name_1 = \"Canvas1734649444174\"\n",
    "    response = sagemaker_client.describe_auto_ml_job_v2(AutoMLJobName=auto_ml_job_name)\n",
    "    \n",
    "    # Extract the best candidate details\n",
    "    best_candidate = response['BestCandidate']\n",
    "    best_candidate_name = best_candidate['CandidateName']\n",
    "    model_artifacts = best_candidate['InferenceContainers'][0]['ModelDataUrl']\n",
    "    image_uri = best_candidate['InferenceContainers'][0]['Image']\n",
    "    best_candidate_containers = best_candidate['InferenceContainers'] \n",
    "\n",
    "    # model = sm.create_model(\n",
    "    #     ModelName = best_candidate_name,\n",
    "    #     ExecutionRoleArn = role,\n",
    "    #     Containers = best_candidate_containers\n",
    "    # )\n",
    "\n",
    "    # check if model exist\n",
    "    try:\n",
    "        response = sm.describe_model(ModelName=best_candidate_name)\n",
    "        print(f\"Model {best_candidate_name} exists. Loading the model.\")\n",
    "    # Load the model logic here\n",
    "    except ClientError as e:\n",
    "        if e.response['Error']['Code'] == 'ValidationException':\n",
    "            print(f\"Model {best_candidate_name} does not exist. Creating the model.\")\n",
    "            response = sm.create_model(\n",
    "                ModelName=best_candidate_name,\n",
    "                ExecutionRoleArn=role,\n",
    "                Containers=best_candidate_containers\n",
    "            )\n",
    "            print(f\"Model {model_name} created successfully.\")\n",
    "        else:\n",
    "            print(f\"Unexpected error: {e}\")\n",
    "\n",
    "    # Find all s3 paths for the same site\n",
    "    input_files = [e for e in csv_files if site_name in e]\n",
    "    for csv_file in input_files[1:2]:\n",
    "        print(f\"s3://{bucket_name}/{csv_file}\")\n",
    "        obj = s3.get_object(Bucket=bucket_name, Key=csv_file)\n",
    "        # Read the CSV file content\n",
    "        data = obj['Body'].read().decode('utf-8')\n",
    "        # Convert to DataFrame\n",
    "        df = pd.read_csv(StringIO(data))\n",
    "        target = csv_file.split(\"/\")[-1].split(\".csv\")[0]\n",
    "        columns = [e for e in df.columns if e not in [\"Date\", target, \"replicate\"]]\n",
    "        \n",
    "        # Upload the CSV string to S3\n",
    "        file_name = csv_file.split(\"/\")[-1]\n",
    "        \n",
    "        # Split the data into smaller chunks\n",
    "        chunk_size = 5000  # Adjust the chunk size as needed\n",
    "        chunks = [df[i:i + chunk_size] for i in range(0, df.shape[0], chunk_size)]\n",
    "\n",
    "        # Upload the chunks to S3\n",
    "        input_chunk_key_list = []\n",
    "        for idx, chunk in enumerate(chunks):\n",
    "            csv_buffer = StringIO()\n",
    "            chunk[columns].to_csv(csv_buffer, index=False, header=False)\n",
    "            chunk_csv_path = csv_file.replace(\".csv\", f\"_{idx}.csv\")\n",
    "            chunk_key = f\"TransformedInputs/{chunk_csv_path}\"\n",
    "            s3.put_object(Bucket=bucket_name, Key=chunk_key, Body=csv_buffer.getvalue())\n",
    "            print(f\"Uploaded chunk {idx} to s3://{bucket_name}/{chunk_key}\")\n",
    "            input_chunk_key_list.append(chunk_key)\n",
    "    "
   ]
  },
  {
   "cell_type": "code",
   "execution_count": 38,
   "metadata": {},
   "outputs": [
    {
     "data": {
      "text/plain": [
       "'TransformedInputs/Simulation/Final_HydroClimaticFile_ACCESS-CM2_ssp370/NorthWellingtonMoa/North Wellington Moa_9.csv'"
      ]
     },
     "execution_count": 38,
     "metadata": {},
     "output_type": "execute_result"
    }
   ],
   "source": [
    "chunk_key"
   ]
  },
  {
   "cell_type": "code",
   "execution_count": 39,
   "metadata": {},
   "outputs": [
    {
     "data": {
      "text/plain": [
       "'Canvas1734649444174-trial-t1-1'"
      ]
     },
     "execution_count": 39,
     "metadata": {},
     "output_type": "execute_result"
    }
   ],
   "source": [
    "best_candidate_name"
   ]
  },
  {
   "cell_type": "code",
   "execution_count": 40,
   "metadata": {},
   "outputs": [],
   "source": [
    "import re\n",
    "\n",
    "def convert_input_to_output_key(input_key):\n",
    "    # Split the input key by '/'\n",
    "    parts = input_key.split('/')\n",
    "    # Remove the first part 'TransformedInputs'\n",
    "    parts.pop(0)\n",
    "    # Remove the last part which is the file name\n",
    "    parts.pop()\n",
    "    # Join the remaining parts to form the output key\n",
    "    output_key = '/'.join(parts)\n",
    "    return output_key\n",
    "\n",
    "def extract_number(input_string):\n",
    "    # Use regular expression to find the number before '.csv'\n",
    "    match = re.search(r'_(\\d+)\\.csv$', input_string)\n",
    "    if match:\n",
    "        return int(match.group(1))\n",
    "    else:\n",
    "        return None"
   ]
  },
  {
   "cell_type": "code",
   "execution_count": 59,
   "metadata": {},
   "outputs": [],
   "source": [
    "def schedule_job(best_candidate_name, input_chunk_key, output_chunk_key, instance_type, bucket_name):\n",
    "    # Create a SageMaker session\n",
    "    sagemaker_session = sagemaker.Session()\n",
    "    timestamp_suffix = strftime(\"%Y%m%d-%H%M%S\", gmtime())\n",
    "    chunk_idx = extract_number(input_chunk_key)\n",
    "    transform_job_name=f'{best_candidate_name}-c{chunk_idx}-' + timestamp_suffix\n",
    "    print(f\"BatchTransformJob ({instance_type}): {transform_job_name} on {input_chunk_key}\")\n",
    "    \n",
    "    input_prefix = input_chunk_key\n",
    "    output_prefix = f\"TransformedOutputs/{output_chunk_key}\"\n",
    "    \n",
    "    response = sm.create_transform_job(\n",
    "        TransformJobName=transform_job_name, \n",
    "        ModelName=best_candidate_name,\n",
    "        MaxPayloadInMB=20,\n",
    "        BatchStrategy=\"MultiRecord\",\n",
    "        ModelClientConfig={\n",
    "            'InvocationsTimeoutInSeconds': 3600\n",
    "        },\n",
    "        TransformInput={\n",
    "            'DataSource': {\n",
    "                'S3DataSource': {\n",
    "                    'S3DataType': 'S3Prefix',\n",
    "                    'S3Uri': 's3://{}/{}'.format(bucket_name, input_prefix)\n",
    "                }\n",
    "            },\n",
    "            'ContentType': 'text/csv',\n",
    "            'SplitType': 'Line'\n",
    "        },\n",
    "        TransformOutput={\n",
    "            'S3OutputPath': 's3://{}/{}'.format(bucket_name, output_prefix),\n",
    "            'AssembleWith': 'Line',\n",
    "        },\n",
    "        TransformResources={\n",
    "            'InstanceType': instance_type, #'ml.c5.4xlarge', 'ml.m5.12xlarge',\n",
    "            'InstanceCount': 1\n",
    "        }\n",
    "        )\n",
    "    return transform_job_name\n",
    "\n",
    "def check_job_status(transform_job_name):\n",
    "    while True:\n",
    "        describe_response = sm.describe_transform_job(TransformJobName=transform_job_name)\n",
    "        job_run_status = describe_response[\"TransformJobStatus\"]\n",
    "        if job_run_status in (\"Failed\", \"Completed\", \"Stopped\"):\n",
    "            print(f\"{datetime.datetime.now()} {describe_response['TransformJobStatus']}\")\n",
    "            break\n",
    "        print(f\"{datetime.datetime.now()} {describe_response['TransformJobStatus']}\")\n",
    "        sleep(60)"
   ]
  },
  {
   "cell_type": "code",
   "execution_count": 61,
   "metadata": {},
   "outputs": [],
   "source": [
    "def get_job_status(job):\n",
    "    describe_response = sm.describe_transform_job(TransformJobName=job)\n",
    "    job_run_status = describe_response[\"TransformJobStatus\"]\n",
    "    return job_run_status\n",
    "\n",
    "def schedule_batch_transform_jobs(best_candidate_name, input_chunk_key_list, output_chunk_key_list, instance_types, bucket_name):\n",
    "    running_jobs = {instance_type: [] for instance_type in instance_types}\n",
    "    max_parallel_jobs = 4\n",
    "    input_index = 0\n",
    "\n",
    "    while input_index < len(input_chunk_key_list):\n",
    "        for instance_type in instance_types:\n",
    "            while len(running_jobs[instance_type]) < max_parallel_jobs and input_index < len(input_chunk_key_list):\n",
    "                # Schedule a new job\n",
    "                input_chunk_key = input_chunk_key_list[input_index]\n",
    "                output_chunk_key = output_chunk_key_list[input_index]\n",
    "                transform_job_name = schedule_job(best_candidate_name, input_chunk_key, output_chunk_key, instance_type, bucket_name)\n",
    "                running_jobs[instance_type].append(transform_job_name)\n",
    "                input_index += 1\n",
    "\n",
    "        # Check the status of running jobs and remove completed jobs from the list\n",
    "        all_running_jobs = []\n",
    "        for instance_type in instance_types:\n",
    "            for job in running_jobs[instance_type]:\n",
    "                check_job_status(job)\n",
    "            job_status_x = [job for job in running_jobs[instance_type] if get_job_status(job) not in (\"Failed\", \"Completed\", \"Stopped\")]\n",
    "            running_jobs[instance_type] = job_status_x\n",
    "            all_running_jobs.extend(job_status_x)\n",
    "        \n",
    "        if len(all_running_jobs) > 0:\n",
    "            sleep(60)  # jobs running, Wait before checking again\n",
    "        else:\n",
    "            sleep(1)  # no jobs running, don't sleep\n",
    "\n",
    "    # Wait for all remaining jobs to complete\n",
    "    for instance_type in instance_types:\n",
    "        while running_jobs[instance_type]:\n",
    "            for job in running_jobs[instance_type]:\n",
    "                check_job_status(job)\n",
    "            job_status_x = [job for job in running_jobs[instance_type] if get_job_status(job) not in (\"Failed\", \"Completed\", \"Stopped\")]\n",
    "            running_jobs[instance_type] = job_status_x\n",
    "            if len(job_status_x) > 0:\n",
    "                sleep(60)  # jobs running, Wait before checking again\n",
    "            else:\n",
    "                sleep(1)  # no jobs running, don't sleep"
   ]
  },
  {
   "cell_type": "code",
   "execution_count": 62,
   "metadata": {},
   "outputs": [
    {
     "name": "stdout",
     "output_type": "stream",
     "text": [
      "BatchTransformJob (ml.m5.xlarge): Canvas1734649444174-trial-t1-1-c0-20250121-042939 on TransformedInputs/Simulation/Final_HydroClimaticFile_AWI-CM-1-1-MR_ssp126/NorthWellingtonMoa/North Wellington Moa_0.csv\n",
      "BatchTransformJob (ml.m5.xlarge): Canvas1734649444174-trial-t1-1-c1-20250121-042940 on TransformedInputs/Simulation/Final_HydroClimaticFile_AWI-CM-1-1-MR_ssp126/NorthWellingtonMoa/North Wellington Moa_1.csv\n",
      "BatchTransformJob (ml.m5.xlarge): Canvas1734649444174-trial-t1-1-c2-20250121-042941 on TransformedInputs/Simulation/Final_HydroClimaticFile_AWI-CM-1-1-MR_ssp126/NorthWellingtonMoa/North Wellington Moa_2.csv\n",
      "BatchTransformJob (ml.c5.xlarge): Canvas1734649444174-trial-t1-1-c3-20250121-042942 on TransformedInputs/Simulation/Final_HydroClimaticFile_AWI-CM-1-1-MR_ssp126/NorthWellingtonMoa/North Wellington Moa_3.csv\n",
      "BatchTransformJob (ml.c5.xlarge): Canvas1734649444174-trial-t1-1-c4-20250121-042943 on TransformedInputs/Simulation/Final_HydroClimaticFile_AWI-CM-1-1-MR_ssp126/NorthWellingtonMoa/North Wellington Moa_4.csv\n",
      "BatchTransformJob (ml.c5.xlarge): Canvas1734649444174-trial-t1-1-c5-20250121-042944 on TransformedInputs/Simulation/Final_HydroClimaticFile_AWI-CM-1-1-MR_ssp126/NorthWellingtonMoa/North Wellington Moa_5.csv\n",
      "BatchTransformJob (ml.m5.2xlarge): Canvas1734649444174-trial-t1-1-c6-20250121-042945 on TransformedInputs/Simulation/Final_HydroClimaticFile_AWI-CM-1-1-MR_ssp126/NorthWellingtonMoa/North Wellington Moa_6.csv\n",
      "BatchTransformJob (ml.m5.2xlarge): Canvas1734649444174-trial-t1-1-c7-20250121-042947 on TransformedInputs/Simulation/Final_HydroClimaticFile_AWI-CM-1-1-MR_ssp126/NorthWellingtonMoa/North Wellington Moa_7.csv\n",
      "BatchTransformJob (ml.m5.2xlarge): Canvas1734649444174-trial-t1-1-c8-20250121-042948 on TransformedInputs/Simulation/Final_HydroClimaticFile_AWI-CM-1-1-MR_ssp126/NorthWellingtonMoa/North Wellington Moa_8.csv\n",
      "2025-01-21 04:29:49.728321 InProgress\n",
      "2025-01-21 04:30:49.852235 InProgress\n",
      "2025-01-21 04:31:49.971726 InProgress\n",
      "2025-01-21 04:32:50.095110 InProgress\n",
      "2025-01-21 04:33:50.208661 InProgress\n"
     ]
    },
    {
     "ename": "KeyboardInterrupt",
     "evalue": "",
     "output_type": "error",
     "traceback": [
      "\u001b[0;31m---------------------------------------------------------------------------\u001b[0m",
      "\u001b[0;31mKeyboardInterrupt\u001b[0m                         Traceback (most recent call last)",
      "Cell \u001b[0;32mIn[62], line 3\u001b[0m\n\u001b[1;32m      1\u001b[0m output_chunk_key_list \u001b[38;5;241m=\u001b[39m [convert_input_to_output_key(e) \u001b[38;5;28;01mfor\u001b[39;00m e \u001b[38;5;129;01min\u001b[39;00m input_chunk_key_list]\n\u001b[1;32m      2\u001b[0m instance_types \u001b[38;5;241m=\u001b[39m [\u001b[38;5;124m'\u001b[39m\u001b[38;5;124mml.m5.xlarge\u001b[39m\u001b[38;5;124m'\u001b[39m, \u001b[38;5;124m'\u001b[39m\u001b[38;5;124mml.c5.xlarge\u001b[39m\u001b[38;5;124m'\u001b[39m, \u001b[38;5;124m'\u001b[39m\u001b[38;5;124mml.m5.2xlarge\u001b[39m\u001b[38;5;124m'\u001b[39m]\n\u001b[0;32m----> 3\u001b[0m \u001b[43mschedule_batch_transform_jobs\u001b[49m\u001b[43m(\u001b[49m\u001b[43mbest_candidate_name\u001b[49m\u001b[43m,\u001b[49m\u001b[43m \u001b[49m\u001b[43minput_chunk_key_list\u001b[49m\u001b[43m,\u001b[49m\u001b[43m \u001b[49m\u001b[43moutput_chunk_key_list\u001b[49m\u001b[43m,\u001b[49m\u001b[43m \u001b[49m\u001b[43minstance_types\u001b[49m\u001b[43m,\u001b[49m\u001b[43m \u001b[49m\u001b[43mbucket_name\u001b[49m\u001b[43m)\u001b[49m\n",
      "Cell \u001b[0;32mIn[61], line 25\u001b[0m, in \u001b[0;36mschedule_batch_transform_jobs\u001b[0;34m(best_candidate_name, input_chunk_key_list, output_chunk_key_list, instance_types, bucket_name)\u001b[0m\n\u001b[1;32m     23\u001b[0m \u001b[38;5;28;01mfor\u001b[39;00m instance_type \u001b[38;5;129;01min\u001b[39;00m instance_types:\n\u001b[1;32m     24\u001b[0m     \u001b[38;5;28;01mfor\u001b[39;00m job \u001b[38;5;129;01min\u001b[39;00m running_jobs[instance_type]:\n\u001b[0;32m---> 25\u001b[0m         \u001b[43mcheck_job_status\u001b[49m\u001b[43m(\u001b[49m\u001b[43mjob\u001b[49m\u001b[43m)\u001b[49m\n\u001b[1;32m     26\u001b[0m     job_status_x \u001b[38;5;241m=\u001b[39m [job \u001b[38;5;28;01mfor\u001b[39;00m job \u001b[38;5;129;01min\u001b[39;00m running_jobs[instance_type] \u001b[38;5;28;01mif\u001b[39;00m get_job_status(job) \u001b[38;5;129;01mnot\u001b[39;00m \u001b[38;5;129;01min\u001b[39;00m (\u001b[38;5;124m\"\u001b[39m\u001b[38;5;124mFailed\u001b[39m\u001b[38;5;124m\"\u001b[39m, \u001b[38;5;124m\"\u001b[39m\u001b[38;5;124mCompleted\u001b[39m\u001b[38;5;124m\"\u001b[39m, \u001b[38;5;124m\"\u001b[39m\u001b[38;5;124mStopped\u001b[39m\u001b[38;5;124m\"\u001b[39m)]\n\u001b[1;32m     27\u001b[0m     running_jobs[instance_type] \u001b[38;5;241m=\u001b[39m job_status_x\n",
      "Cell \u001b[0;32mIn[59], line 49\u001b[0m, in \u001b[0;36mcheck_job_status\u001b[0;34m(transform_job_name)\u001b[0m\n\u001b[1;32m     47\u001b[0m     \u001b[38;5;28;01mbreak\u001b[39;00m\n\u001b[1;32m     48\u001b[0m \u001b[38;5;28mprint\u001b[39m(\u001b[38;5;124mf\u001b[39m\u001b[38;5;124m\"\u001b[39m\u001b[38;5;132;01m{\u001b[39;00mdatetime\u001b[38;5;241m.\u001b[39mdatetime\u001b[38;5;241m.\u001b[39mnow()\u001b[38;5;132;01m}\u001b[39;00m\u001b[38;5;124m \u001b[39m\u001b[38;5;132;01m{\u001b[39;00mdescribe_response[\u001b[38;5;124m'\u001b[39m\u001b[38;5;124mTransformJobStatus\u001b[39m\u001b[38;5;124m'\u001b[39m]\u001b[38;5;132;01m}\u001b[39;00m\u001b[38;5;124m\"\u001b[39m)\n\u001b[0;32m---> 49\u001b[0m \u001b[43msleep\u001b[49m\u001b[43m(\u001b[49m\u001b[38;5;241;43m60\u001b[39;49m\u001b[43m)\u001b[49m\n",
      "\u001b[0;31mKeyboardInterrupt\u001b[0m: "
     ]
    }
   ],
   "source": [
    "output_chunk_key_list = [convert_input_to_output_key(e) for e in input_chunk_key_list]\n",
    "instance_types = ['ml.m5.xlarge', 'ml.c5.xlarge', 'ml.m5.2xlarge']\n",
    "schedule_batch_transform_jobs(best_candidate_name, input_chunk_key_list, output_chunk_key_list, instance_types, bucket_name)"
   ]
  },
  {
   "cell_type": "code",
   "execution_count": 54,
   "metadata": {},
   "outputs": [
    {
     "data": {
      "text/plain": [
       "'niwa-water-demand-modelling'"
      ]
     },
     "execution_count": 54,
     "metadata": {},
     "output_type": "execute_result"
    }
   ],
   "source": [
    "bucket_name"
   ]
  },
  {
   "cell_type": "code",
   "execution_count": 48,
   "metadata": {},
   "outputs": [
    {
     "data": {
      "text/plain": [
       "'Canvas1734649444174-trial-t1-1'"
      ]
     },
     "execution_count": 48,
     "metadata": {},
     "output_type": "execute_result"
    }
   ],
   "source": [
    "best_candidate_name"
   ]
  },
  {
   "cell_type": "code",
   "execution_count": 28,
   "metadata": {},
   "outputs": [
    {
     "data": {
      "text/plain": [
       "['Canvas1734649444174-trial-t1-1-c0-20250121-021152',\n",
       " 'Canvas1734649444174-trial-t1-1-c1-20250121-021153',\n",
       " 'Canvas1734649444174-trial-t1-1-c2-20250121-021154']"
      ]
     },
     "execution_count": 28,
     "metadata": {},
     "output_type": "execute_result"
    }
   ],
   "source": [
    "job_list"
   ]
  },
  {
   "cell_type": "code",
   "execution_count": 31,
   "metadata": {},
   "outputs": [],
   "source": [
    "# wait for batch transform job to complete\n",
    "transform_job_name = job_list[2]\n",
    "describe_response = sm.describe_transform_job(TransformJobName=transform_job_name)\n",
    "job_run_status = describe_response[\"TransformJobStatus\"]\n",
    "while job_run_status not in (\"Failed\", \"Completed\", \"Stopped\"):\n",
    "    describe_response = sm.describe_transform_job(TransformJobName=transform_job_name)\n",
    "    job_run_status = describe_response[\"TransformJobStatus\"]\n",
    "\n",
    "    print(\n",
    "       datetime.datetime.now(), describe_response[\"TransformJobStatus\"]\n",
    "    )\n",
    "    sleep(60)"
   ]
  },
  {
   "cell_type": "code",
   "execution_count": 17,
   "metadata": {},
   "outputs": [
    {
     "data": {
      "text/plain": [
       "['Simulation/Final_HydroClimaticFile_ACCESS-CM2_ssp370/NorthWellingtonMoa/North Wellington Moa.csv',\n",
       " 'Simulation/Final_HydroClimaticFile_AWI-CM-1-1-MR_ssp126/NorthWellingtonMoa/North Wellington Moa.csv',\n",
       " 'Simulation/Final_HydroClimaticFile_AWI-CM-1-1-MR_ssp245/NorthWellingtonMoa/North Wellington Moa.csv',\n",
       " 'Simulation/Final_HydroClimaticFile_AWI-CM-1-1-MR_ssp370/NorthWellingtonMoa/North Wellington Moa.csv',\n",
       " 'Simulation/Final_HydroClimaticFile_CNRM-CM6-1_ssp126/NorthWellingtonMoa/North Wellington Moa.csv',\n",
       " 'Simulation/Final_HydroClimaticFile_CNRM-CM6-1_ssp245/NorthWellingtonMoa/North Wellington Moa.csv',\n",
       " 'Simulation/Final_HydroClimaticFile_CNRM-CM6-1_ssp370/NorthWellingtonMoa/North Wellington Moa.csv',\n",
       " 'Simulation/Final_HydroClimaticFile_EC-Earth3_ssp126/NorthWellingtonMoa/North Wellington Moa.csv',\n",
       " 'Simulation/Final_HydroClimaticFile_EC-Earth3_ssp245/NorthWellingtonMoa/North Wellington Moa.csv',\n",
       " 'Simulation/Final_HydroClimaticFile_EC-Earth3_ssp370/NorthWellingtonMoa/North Wellington Moa.csv',\n",
       " 'Simulation/Final_HydroClimaticFile_GFDL-ESM4_ssp126/NorthWellingtonMoa/North Wellington Moa.csv',\n",
       " 'Simulation/Final_HydroClimaticFile_GFDL-ESM4_ssp245/NorthWellingtonMoa/North Wellington Moa.csv',\n",
       " 'Simulation/Final_HydroClimaticFile_GFDL-ESM4_ssp370/NorthWellingtonMoa/North Wellington Moa.csv',\n",
       " 'Simulation/Final_HydroClimaticFile_NorESM2-MM_ssp126/NorthWellingtonMoa/North Wellington Moa.csv',\n",
       " 'Simulation/Final_HydroClimaticFile_NorESM2-MM_ssp245/NorthWellingtonMoa/North Wellington Moa.csv',\n",
       " 'Simulation/Final_HydroClimaticFile_NorESM2-MM_ssp370/NorthWellingtonMoa/North Wellington Moa.csv']"
      ]
     },
     "execution_count": 17,
     "metadata": {},
     "output_type": "execute_result"
    }
   ],
   "source": [
    "[e for e in csv_files if site_name in e]"
   ]
  },
  {
   "cell_type": "code",
   "execution_count": null,
   "metadata": {},
   "outputs": [],
   "source": [
    "import pandas as pd\n",
    "import boto3\n",
    "from io import StringIO\n",
    "\n",
    "# Load the input data from S3\n",
    "s3 = boto3.client('s3')\n",
    "bucket_name = 'niwa-water-demand-modelling'\n",
    "object_key = 'TrainingData/North Wellington Moa.csv'\n",
    "\n",
    "response = s3.get_object(Bucket=bucket_name, Key=object_key)\n",
    "data = pd.read_csv(response['Body'])\n",
    "\n",
    "# Split the data into smaller chunks\n",
    "chunk_size = 1000  # Adjust the chunk size as needed\n",
    "chunks = [data[i:i + chunk_size] for i in range(0, data.shape[0], chunk_size)]\n",
    "\n",
    "# Upload the chunks to S3\n",
    "for idx, chunk in enumerate(chunks):\n",
    "    csv_buffer = StringIO()\n",
    "    chunk.to_csv(csv_buffer, index=False)\n",
    "    chunk_key = f'TrainingData/North Wellington Moa_chunk_{idx}.csv'\n",
    "    s3.put_object(Bucket=bucket_name, Key=chunk_key, Body=csv_buffer.getvalue())\n",
    "    print(f\"Uploaded chunk {idx} to s3://{bucket_name}/{chunk_key}\")"
   ]
  },
  {
   "cell_type": "markdown",
   "metadata": {},
   "source": [
    "## data prep, for respective site files under all simulation folders and process each of them"
   ]
  },
  {
   "cell_type": "code",
   "execution_count": null,
   "metadata": {},
   "outputs": [],
   "source": [
    "# Print the list of CSV files\n",
    "# for csv_file in csv_files:\n",
    "# for csv_file in [\"Simulation/Final_HydroClimaticFile_ACCESS-CM2_ssp370/NorthWellingtonMoa/North Wellington Moa.csv\"]:\n",
    "for csv_file in ['NorthWellingtonMoa/North Wellington Moa.csv']:\n",
    "    print(f\"s3://{bucket_name}/{csv_file}\")\n",
    "    obj = s3.get_object(Bucket=bucket_name, Key=csv_file)\n",
    "    # Read the CSV file content\n",
    "    data = obj['Body'].read().decode('utf-8')\n",
    "    # Convert to DataFrame\n",
    "    df = pd.read_csv(StringIO(data))\n",
    "    target = csv_file.split(\"/\")[-1].split(\".csv\")[0]\n",
    "    columns = [e for e in df.columns if e not in [\"Date\", target, \"replicate\"]]\n",
    "    # Convert the DataFrame to a CSV string\n",
    "    csv_buffer = StringIO()\n",
    "    df[columns].to_csv(csv_buffer, index=False, header=False)\n",
    "    # Upload the CSV string to S3\n",
    "    file_name = csv_file.split(\"/\")[-1]\n",
    "    object_key = f\"TransformedInputs/batch_transform/input/{file_name}\"\n",
    "    s3.put_object(Bucket=bucket_name, Key=object_key, Body=csv_buffer.getvalue())"
   ]
  },
  {
   "cell_type": "code",
   "execution_count": 59,
   "metadata": {},
   "outputs": [
    {
     "name": "stderr",
     "output_type": "stream",
     "text": [
      "INFO:sagemaker:Creating model with name: autogluon-inference-2025-01-17-03-20-46-885\n",
      "INFO:sagemaker:Creating transform job with name: autogluon-inference-2025-01-17-03-20-47-513\n"
     ]
    },
    {
     "name": "stdout",
     "output_type": "stream",
     "text": [
      "Starting transform job autogluon-inference-2025-01-17-03-20-47-513\n"
     ]
    }
   ],
   "source": [
    "\n",
    "transformer = model.transformer(\n",
    "    instance_count=1,\n",
    "    instance_type=\"ml.c5.4xlarge\",\n",
    "    assemble_with=\"Line\",\n",
    "    strategy=\"SingleRecord\",\n",
    "    output_path=\"s3://niwa-water-demand-modelling/TrainingDataInference/\",\n",
    "    env={\"SAGEMAKER_MODEL_SERVER_TIMEOUT\": \"100\", \"SAGEMAKER_MODEL_SERVER_WORKERS\": \"1\"},\n",
    ")\n",
    "\n",
    "transformer.transform(\n",
    "    data=\"s3://niwa-water-demand-modelling/TrainingData/North Wellington Moa.csv\",\n",
    "    split_type=\"Line\",\n",
    "    content_type=\"text/csv\",\n",
    "    wait=False,\n",
    "    model_client_config={\"InvocationsTimeoutInSeconds\": 80, \"InvocationsMaxRetries\": 1},\n",
    ")\n",
    "\n",
    "print(\"Starting transform job {}\".format(transformer._current_job_name))"
   ]
  },
  {
   "cell_type": "code",
   "execution_count": 60,
   "metadata": {},
   "outputs": [
    {
     "name": "stdout",
     "output_type": "stream",
     "text": [
      "autogluon-inference-2025-01-17-03-20-47-513 transform job is running.\n",
      "autogluon-inference-2025-01-17-03-20-47-513 transform job is running.\n",
      "autogluon-inference-2025-01-17-03-20-47-513 transform job is running.\n",
      "autogluon-inference-2025-01-17-03-20-47-513 transform job is running.\n",
      "autogluon-inference-2025-01-17-03-20-47-513 transform job is running.\n",
      "autogluon-inference-2025-01-17-03-20-47-513 transform job is running.\n",
      "\n",
      "Completed.\n"
     ]
    }
   ],
   "source": [
    "## Wait for jobs to finish\n",
    "pending_complete = True\n",
    "job_name = transformer._current_job_name\n",
    "\n",
    "while pending_complete:\n",
    "    pending_complete = False\n",
    "\n",
    "    description = sm.describe_transform_job(TransformJobName=job_name)\n",
    "    if description[\"TransformJobStatus\"] not in [\"Failed\", \"Completed\"]:\n",
    "        pending_complete = True\n",
    "\n",
    "    print(\"{} transform job is running.\".format(job_name))\n",
    "    time.sleep(60)\n",
    "\n",
    "print(\"\\nCompleted.\")"
   ]
  },
  {
   "attachments": {},
   "cell_type": "markdown",
   "metadata": {},
   "source": [
    "---\n",
    "## Cleanup\n",
    "\n",
    "The Autopilot job creates many underlying artifacts such as dataset splits, preprocessing scripts, or preprocessed data, etc. This code, when un-commented, deletes them. "
   ]
  },
  {
   "cell_type": "code",
   "execution_count": null,
   "metadata": {},
   "outputs": [],
   "source": [
    "s3 = boto3.resource(\"s3\")\n",
    "s3_bucket = s3.Bucket(bucket)\n",
    "\n",
    "print(s3_bucket)\n",
    "job_outputs_prefix = \"{}/output/{}\".format(prefix, auto_ml_job_name)\n",
    "print(job_outputs_prefix)\n",
    "\n",
    "# Delete S3 objects\n",
    "s3_bucket.objects.filter(Prefix=job_outputs_prefix).delete()"
   ]
  },
  {
   "attachments": {},
   "cell_type": "markdown",
   "metadata": {},
   "source": [
    "We then delete all the experiment and model resources created by the Autopilot experiment."
   ]
  },
  {
   "cell_type": "code",
   "execution_count": null,
   "metadata": {},
   "outputs": [],
   "source": [
    "def cleanup_experiment_resources(experiment_name):\n",
    "    trials = sm.list_trials(ExperimentName=experiment_name)[\"TrialSummaries\"]\n",
    "    print(\"TrialNames:\")\n",
    "    for trial in trials:\n",
    "        trial_name = trial[\"TrialName\"]\n",
    "        print(f\"\\n{trial_name}\")\n",
    "\n",
    "        components_in_trial = sm.list_trial_components(TrialName=trial_name)\n",
    "        print(\"\\tTrialComponentNames:\")\n",
    "        for component in components_in_trial[\"TrialComponentSummaries\"]:\n",
    "            component_name = component[\"TrialComponentName\"]\n",
    "            print(f\"\\t{component_name}\")\n",
    "            sm.disassociate_trial_component(TrialComponentName=component_name, TrialName=trial_name)\n",
    "            try:\n",
    "                # comment out to keep trial components\n",
    "                sm.delete_trial_component(TrialComponentName=component_name)\n",
    "            except:\n",
    "                # component is associated with another trial\n",
    "                continue\n",
    "            # to prevent throttling\n",
    "            time.sleep(5)\n",
    "        sm.delete_trial(TrialName=trial_name)\n",
    "    sm.delete_experiment(ExperimentName=experiment_name)\n",
    "    print(f\"\\nExperiment {experiment_name} deleted\")\n",
    "\n",
    "\n",
    "def cleanup_autopilot_models(autopilot_job_name):\n",
    "    print(\"{0}:\\n\".format(autopilot_job_name))\n",
    "    response = sm.list_models(NameContains=autopilot_job_name)\n",
    "\n",
    "    for model in response[\"Models\"]:\n",
    "        model_name = model[\"ModelName\"]\n",
    "        print(f\"\\t{model_name}\")\n",
    "        sm.delete_model(ModelName=model_name)\n",
    "        # to prevent throttling\n",
    "        time.sleep(3)"
   ]
  },
  {
   "cell_type": "code",
   "execution_count": null,
   "metadata": {},
   "outputs": [],
   "source": [
    "cleanup_experiment_resources(\"{0}-aws-auto-ml-job\".format(auto_ml_job_name))"
   ]
  },
  {
   "cell_type": "code",
   "execution_count": null,
   "metadata": {},
   "outputs": [],
   "source": [
    "cleanup_autopilot_models(auto_ml_job_name)"
   ]
  },
  {
   "attachments": {},
   "cell_type": "markdown",
   "metadata": {},
   "source": [
    "Finally, the following code, when uncommented, will delete the local files used in this demo."
   ]
  },
  {
   "cell_type": "code",
   "execution_count": null,
   "metadata": {},
   "outputs": [],
   "source": [
    "import shutil\n",
    "import glob\n",
    "import os\n",
    "\n",
    "\n",
    "def delete_local_files():\n",
    "    base_path = \"\"\n",
    "    dir_list = glob.iglob(os.path.join(base_path, \"{0}*\".format(auto_ml_job_name)))\n",
    "\n",
    "    for path in dir_list:\n",
    "        if os.path.isdir(path):\n",
    "            shutil.rmtree(path)\n",
    "\n",
    "    if os.path.exists(\"CaliforniaHousing\"):\n",
    "        shutil.rmtree(\"CaliforniaHousing\")\n",
    "\n",
    "    if os.path.exists(\"cal_housing.tgz\"):\n",
    "        os.remove(\"cal_housing.tgz\")\n",
    "\n",
    "    if os.path.exists(\"SageMakerAutopilotCandidateDefinitionNotebook.ipynb\"):\n",
    "        os.remove(\"SageMakerAutopilotCandidateDefinitionNotebook.ipynb\")\n",
    "\n",
    "    if os.path.exists(\"SageMakerAutopilotDataExplorationNotebook.ipynb\"):\n",
    "        os.remove(\"SageMakerAutopilotDataExplorationNotebook.ipynb\")\n",
    "\n",
    "    if os.path.exists(\"test_data_no_target.csv\"):\n",
    "        os.remove(\"test_data_no_target.csv\")\n",
    "\n",
    "    if os.path.exists(\"test_data.csv\"):\n",
    "        os.remove(\"test_data.csv\")\n",
    "\n",
    "    if os.path.exists(\"train_data.csv\"):\n",
    "        os.remove(\"train_data.csv\")\n",
    "\n",
    "\n",
    "## UNCOMMENT TO CLEAN UP LOCAL FILES\n",
    "# delete_local_files()"
   ]
  },
  {
   "attachments": {},
   "cell_type": "markdown",
   "metadata": {},
   "source": [
    "**Note: If you enabled automatic endpoint creation, you will need to delete the endpoint manually.**"
   ]
  },
  {
   "attachments": {},
   "cell_type": "markdown",
   "metadata": {},
   "source": [
    "## Notebook CI Test Results\n",
    "\n",
    "This notebook was tested in multiple regions. The test results are as follows, except for us-west-2 which is shown at the top of the notebook.\n",
    "\n",
    "![This us-east-1 badge failed to load. Check your device's internet connectivity, otherwise the service is currently unavailable](https://prod.us-west-2.tcx-beacon.docs.aws.dev/sagemaker-nb/us-east-1/autopilot|autopilot_california_housing.ipynb)\n",
    "\n",
    "![This us-east-2 badge failed to load. Check your device's internet connectivity, otherwise the service is currently unavailable](https://prod.us-west-2.tcx-beacon.docs.aws.dev/sagemaker-nb/us-east-2/autopilot|autopilot_california_housing.ipynb)\n",
    "\n",
    "![This us-west-1 badge failed to load. Check your device's internet connectivity, otherwise the service is currently unavailable](https://prod.us-west-2.tcx-beacon.docs.aws.dev/sagemaker-nb/us-west-1/autopilot|autopilot_california_housing.ipynb)\n",
    "\n",
    "![This ca-central-1 badge failed to load. Check your device's internet connectivity, otherwise the service is currently unavailable](https://prod.us-west-2.tcx-beacon.docs.aws.dev/sagemaker-nb/ca-central-1/autopilot|autopilot_california_housing.ipynb)\n",
    "\n",
    "![This sa-east-1 badge failed to load. Check your device's internet connectivity, otherwise the service is currently unavailable](https://prod.us-west-2.tcx-beacon.docs.aws.dev/sagemaker-nb/sa-east-1/autopilot|autopilot_california_housing.ipynb)\n",
    "\n",
    "![This eu-west-1 badge failed to load. Check your device's internet connectivity, otherwise the service is currently unavailable](https://prod.us-west-2.tcx-beacon.docs.aws.dev/sagemaker-nb/eu-west-1/autopilot|autopilot_california_housing.ipynb)\n",
    "\n",
    "![This eu-west-2 badge failed to load. Check your device's internet connectivity, otherwise the service is currently unavailable](https://prod.us-west-2.tcx-beacon.docs.aws.dev/sagemaker-nb/eu-west-2/autopilot|autopilot_california_housing.ipynb)\n",
    "\n",
    "![This eu-west-3 badge failed to load. Check your device's internet connectivity, otherwise the service is currently unavailable](https://prod.us-west-2.tcx-beacon.docs.aws.dev/sagemaker-nb/eu-west-3/autopilot|autopilot_california_housing.ipynb)\n",
    "\n",
    "![This eu-central-1 badge failed to load. Check your device's internet connectivity, otherwise the service is currently unavailable](https://prod.us-west-2.tcx-beacon.docs.aws.dev/sagemaker-nb/eu-central-1/autopilot|autopilot_california_housing.ipynb)\n",
    "\n",
    "![This eu-north-1 badge failed to load. Check your device's internet connectivity, otherwise the service is currently unavailable](https://prod.us-west-2.tcx-beacon.docs.aws.dev/sagemaker-nb/eu-north-1/autopilot|autopilot_california_housing.ipynb)\n",
    "\n",
    "![This ap-southeast-1 badge failed to load. Check your device's internet connectivity, otherwise the service is currently unavailable](https://prod.us-west-2.tcx-beacon.docs.aws.dev/sagemaker-nb/ap-southeast-1/autopilot|autopilot_california_housing.ipynb)\n",
    "\n",
    "![This ap-southeast-2 badge failed to load. Check your device's internet connectivity, otherwise the service is currently unavailable](https://prod.us-west-2.tcx-beacon.docs.aws.dev/sagemaker-nb/ap-southeast-2/autopilot|autopilot_california_housing.ipynb)\n",
    "\n",
    "![This ap-northeast-1 badge failed to load. Check your device's internet connectivity, otherwise the service is currently unavailable](https://prod.us-west-2.tcx-beacon.docs.aws.dev/sagemaker-nb/ap-northeast-1/autopilot|autopilot_california_housing.ipynb)\n",
    "\n",
    "![This ap-northeast-2 badge failed to load. Check your device's internet connectivity, otherwise the service is currently unavailable](https://prod.us-west-2.tcx-beacon.docs.aws.dev/sagemaker-nb/ap-northeast-2/autopilot|autopilot_california_housing.ipynb)\n",
    "\n",
    "![This ap-south-1 badge failed to load. Check your device's internet connectivity, otherwise the service is currently unavailable](https://prod.us-west-2.tcx-beacon.docs.aws.dev/sagemaker-nb/ap-south-1/autopilot|autopilot_california_housing.ipynb)\n"
   ]
  }
 ],
 "metadata": {
  "instance_type": "ml.t3.medium",
  "kernelspec": {
   "display_name": "Python 3 (ipykernel)",
   "language": "python",
   "name": "python3"
  },
  "language_info": {
   "codemirror_mode": {
    "name": "ipython",
    "version": 3
   },
   "file_extension": ".py",
   "mimetype": "text/x-python",
   "name": "python",
   "nbconvert_exporter": "python",
   "pygments_lexer": "ipython3",
   "version": "3.11.11"
  }
 },
 "nbformat": 4,
 "nbformat_minor": 4
}
